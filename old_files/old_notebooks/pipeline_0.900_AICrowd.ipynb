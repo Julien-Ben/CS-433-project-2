{
 "cells": [
  {
   "cell_type": "code",
   "execution_count": 1,
   "metadata": {
    "ExecuteTime": {
     "end_time": "2020-12-06T10:00:36.840978Z",
     "start_time": "2020-12-06T10:00:25.995761Z"
    },
    "id": "PzRKgXa8Fwc0"
   },
   "outputs": [],
   "source": [
    "import os\n",
    "import sys\n",
    "import gzip\n",
    "import code\n",
    "import urllib\n",
    "import importlib\n",
    "import tensorflow.python.platform\n",
    "import tensorflow as tf\n",
    "import matplotlib.pyplot as plt\n",
    "import matplotlib.image as mpimg\n",
    "import numpy as np\n",
    "from tqdm import tqdm\n",
    "from PIL import Image"
   ]
  },
  {
   "cell_type": "code",
   "execution_count": 2,
   "metadata": {
    "ExecuteTime": {
     "end_time": "2020-12-06T10:00:36.924185Z",
     "start_time": "2020-12-06T10:00:36.843554Z"
    },
    "id": "C5OLrEPzcESI"
   },
   "outputs": [],
   "source": [
    "COLAB = True\n",
    "BRANCH = 'tuantu'"
   ]
  },
  {
   "cell_type": "code",
   "execution_count": 3,
   "metadata": {
    "ExecuteTime": {
     "end_time": "2020-12-06T10:00:37.003793Z",
     "start_time": "2020-12-06T10:00:36.927850Z"
    },
    "colab": {
     "base_uri": "https://localhost:8080/"
    },
    "id": "FBdjGm_UPHP1",
    "outputId": "2093a530-6f6d-4ce8-a81c-4751ab061e0e"
   },
   "outputs": [
    {
     "name": "stdout",
     "output_type": "stream",
     "text": [
      "Drive already mounted at /content/drive; to attempt to forcibly remount, call drive.mount(\"/content/drive\", force_remount=True).\n"
     ]
    }
   ],
   "source": [
    "if COLAB:\n",
    "    from google.colab import drive\n",
    "    drive.mount('/content/drive')\n",
    "    drive_path = '/content/drive/Shareddrives/ML_Road_Segmentation/CS-433-project-tuantu/project_road_segmentation'\n",
    "    os.chdir(drive_path)\n",
    "    from helpers.colab import mount_and_pull\n",
    "    BRANCH_NAME = BRANCH\n",
    "    # mount_and_pull(BRANCH_NAME, drive, os)"
   ]
  },
  {
   "cell_type": "code",
   "execution_count": 4,
   "metadata": {
    "ExecuteTime": {
     "end_time": "2020-12-06T10:38:41.165124Z",
     "start_time": "2020-12-06T10:38:41.083779Z"
    },
    "id": "uMaqi7NPFwc1"
   },
   "outputs": [],
   "source": [
    "%load_ext autoreload\n",
    "%autoreload 2\n",
    "\n",
    "from helpers.image_processing import *\n",
    "from helpers.file_manipulation import *\n",
    "from helpers.constants import *\n",
    "from helpers.prediction_checking import *\n",
    "from helpers.machine_learning import *\n",
    "from helpers.loss_functions import *\n",
    "from helpers.submission import *"
   ]
  },
  {
   "cell_type": "code",
   "execution_count": 5,
   "metadata": {
    "ExecuteTime": {
     "end_time": "2020-12-06T10:00:37.208704Z",
     "start_time": "2020-12-06T10:00:37.122559Z"
    },
    "id": "JtlDNiqjcESJ"
   },
   "outputs": [],
   "source": [
    "RESTORE_MODEL = False  # If True, restore existing model instead of training a new one\n",
    "SAVE_MODEL = True\n",
    "GENERATE_PREDICTION = False  # If True, will generate a CSV to submit on AICrowd\n",
    "\n",
    "MODEL_NAME = 'unet_2'  # For now, cnn, unet-1, unet-2\n",
    "SAVE_DIR = MODELS_SAVE_DIR + MODEL_NAME + '/' \n",
    "NUM_EPOCHS = 250"
   ]
  },
  {
   "cell_type": "code",
   "execution_count": 6,
   "metadata": {
    "ExecuteTime": {
     "end_time": "2020-12-06T10:00:37.294458Z",
     "start_time": "2020-12-06T10:00:37.211173Z"
    },
    "id": "nvMGW1bjcESJ"
   },
   "outputs": [],
   "source": [
    "mod = importlib.import_module('models.' + MODEL_NAME)\n",
    "model_function = getattr(mod, MODEL_NAME)"
   ]
  },
  {
   "cell_type": "code",
   "execution_count": 7,
   "metadata": {
    "ExecuteTime": {
     "end_time": "2020-12-06T10:01:21.901497Z",
     "start_time": "2020-12-06T10:00:37.298738Z"
    },
    "colab": {
     "base_uri": "https://localhost:8080/"
    },
    "id": "WyMhDusfFwc3",
    "outputId": "080351a6-f7b1-4b90-86cd-2a84b2a11ccc",
    "scrolled": true
   },
   "outputs": [
    {
     "name": "stderr",
     "output_type": "stream",
     "text": [
      "Loading data/training/images/: 100%|██████████| 100/100 [00:01<00:00, 63.33it/s]\n",
      "Loading data/training/groundtruth/: 100%|██████████| 100/100 [00:00<00:00, 319.48it/s]\n",
      "Loading data/generated/hard_mix/images/: 100%|██████████| 500/500 [00:05<00:00, 85.41it/s]\n",
      "Loading data/generated/hard_mix/groundtruth/: 100%|██████████| 500/500 [00:02<00:00, 200.34it/s]\n",
      "Loading data/generated/rotation/images/: 100%|██████████| 100/100 [00:29<00:00,  3.43it/s]\n",
      "Loading data/generated/rotation/groundtruth/: 100%|██████████| 100/100 [00:25<00:00,  3.99it/s]\n",
      "Loading data/generated/mix/images/: 100%|██████████| 100/100 [00:01<00:00, 80.60it/s]\n",
      "Loading data/generated/mix/groundtruth/: 100%|██████████| 100/100 [00:00<00:00, 197.33it/s]\n",
      "Loading data/generated/flip/images/: 100%|██████████| 100/100 [00:01<00:00, 74.15it/s]\n",
      "Loading data/generated/flip/groundtruth/: 100%|██████████| 100/100 [00:00<00:00, 202.69it/s]\n"
     ]
    },
    {
     "name": "stdout",
     "output_type": "stream",
     "text": [
      "Training features shape :  (900, 400, 400, 3)\n",
      "Training labels shape :  (900, 400, 400)\n"
     ]
    }
   ],
   "source": [
    "images, groundtruths = [], []\n",
    "train_idx, test_idx = get_train_test(images, groundtruths, data_augmentation=True, transformations=['hard_mix', 'rotation', 'mix', 'flip'])"
   ]
  },
  {
   "cell_type": "code",
   "execution_count": 8,
   "metadata": {
    "id": "eKjIVpiWLk1m"
   },
   "outputs": [],
   "source": [
    "X_train = []\n",
    "y_train = []\n",
    "for i in train_idx:\n",
    "    X_train.append(images[i])#[None,:,:,:])\n",
    "    y_train.append(groundtruths[i])#[None,:,:])\n",
    "    images[i] = 0\n",
    "    groundtruths[i] = 0"
   ]
  },
  {
   "cell_type": "code",
   "execution_count": 9,
   "metadata": {
    "id": "z-_T_daQMMWN"
   },
   "outputs": [],
   "source": [
    "X_train = np.array(X_train)"
   ]
  },
  {
   "cell_type": "code",
   "execution_count": 10,
   "metadata": {
    "id": "umbURtdPMXcc"
   },
   "outputs": [],
   "source": [
    "y_train = np.array(y_train)"
   ]
  },
  {
   "cell_type": "code",
   "execution_count": 14,
   "metadata": {
    "ExecuteTime": {
     "end_time": "2020-12-06T10:01:52.779713Z",
     "start_time": "2020-12-06T10:01:48.943461Z"
    },
    "colab": {
     "base_uri": "https://localhost:8080/",
     "height": 1000
    },
    "id": "cBE8XdxDFwc4",
    "outputId": "b43e8b63-5476-468c-dd1e-e9272e6a0247",
    "scrolled": false
   },
   "outputs": [
    {
     "name": "stdout",
     "output_type": "stream",
     "text": [
      "Epoch 1/250\n",
      "58/58 [==============================] - 24s 410ms/step - loss: 0.6537 - precision: 0.3683 - recall: 0.7452 - dice_coef: 0.3971 - val_loss: 0.6995 - val_precision: 0.2511 - val_recall: 0.8022 - val_dice_coef: 0.3356\n",
      "Epoch 2/250\n",
      "58/58 [==============================] - 21s 365ms/step - loss: 0.5498 - precision: 0.4721 - recall: 0.8101 - dice_coef: 0.5117 - val_loss: 0.6778 - val_precision: 0.2501 - val_recall: 0.9914 - val_dice_coef: 0.3513\n",
      "Epoch 3/250\n",
      "58/58 [==============================] - 21s 370ms/step - loss: 0.4908 - precision: 0.5411 - recall: 0.7988 - dice_coef: 0.5776 - val_loss: 0.6630 - val_precision: 0.2708 - val_recall: 0.9713 - val_dice_coef: 0.3696\n",
      "Epoch 4/250\n",
      "58/58 [==============================] - 22s 374ms/step - loss: 0.4457 - precision: 0.6025 - recall: 0.7890 - dice_coef: 0.6290 - val_loss: 0.5948 - val_precision: 0.3459 - val_recall: 0.9338 - val_dice_coef: 0.4462\n",
      "Epoch 5/250\n",
      "58/58 [==============================] - 22s 378ms/step - loss: 0.4114 - precision: 0.6547 - recall: 0.7822 - dice_coef: 0.6685 - val_loss: 0.5471 - val_precision: 0.4253 - val_recall: 0.8161 - val_dice_coef: 0.5087\n",
      "Epoch 6/250\n",
      "58/58 [==============================] - 22s 381ms/step - loss: 0.3847 - precision: 0.6985 - recall: 0.7750 - dice_coef: 0.6993 - val_loss: 0.5186 - val_precision: 0.5194 - val_recall: 0.6985 - val_dice_coef: 0.5546\n",
      "Epoch 7/250\n",
      "58/58 [==============================] - 22s 382ms/step - loss: 0.3550 - precision: 0.7438 - recall: 0.7792 - dice_coef: 0.7314 - val_loss: 0.5530 - val_precision: 0.8053 - val_recall: 0.4456 - val_dice_coef: 0.5624\n",
      "Epoch 8/250\n",
      "58/58 [==============================] - 22s 384ms/step - loss: 0.3325 - precision: 0.7796 - recall: 0.7814 - dice_coef: 0.7554 - val_loss: 0.4513 - val_precision: 0.8382 - val_recall: 0.5581 - val_dice_coef: 0.6642\n",
      "Epoch 9/250\n",
      "58/58 [==============================] - 22s 387ms/step - loss: 0.3110 - precision: 0.8081 - recall: 0.7887 - dice_coef: 0.7770 - val_loss: 0.3542 - val_precision: 0.8165 - val_recall: 0.7169 - val_dice_coef: 0.7457\n",
      "Epoch 10/250\n",
      "58/58 [==============================] - 23s 389ms/step - loss: 0.3050 - precision: 0.8113 - recall: 0.7924 - dice_coef: 0.7824 - val_loss: 0.5501 - val_precision: 0.9242 - val_recall: 0.4035 - val_dice_coef: 0.5811\n",
      "Epoch 11/250\n",
      "58/58 [==============================] - 23s 389ms/step - loss: 0.2952 - precision: 0.8234 - recall: 0.7966 - dice_coef: 0.7918 - val_loss: 0.3471 - val_precision: 0.9130 - val_recall: 0.6487 - val_dice_coef: 0.7684\n",
      "Epoch 12/250\n",
      "58/58 [==============================] - 23s 392ms/step - loss: 0.2769 - precision: 0.8470 - recall: 0.8053 - dice_coef: 0.8092 - val_loss: 0.3696 - val_precision: 0.9398 - val_recall: 0.5980 - val_dice_coef: 0.7560\n",
      "Epoch 13/250\n",
      "58/58 [==============================] - 23s 396ms/step - loss: 0.2750 - precision: 0.8467 - recall: 0.8066 - dice_coef: 0.8106 - val_loss: 0.3857 - val_precision: 0.9449 - val_recall: 0.5819 - val_dice_coef: 0.7397\n",
      "Epoch 14/250\n",
      "58/58 [==============================] - 23s 394ms/step - loss: 0.2632 - precision: 0.8616 - recall: 0.8105 - dice_coef: 0.8219 - val_loss: 0.3314 - val_precision: 0.9346 - val_recall: 0.6552 - val_dice_coef: 0.7829\n",
      "Epoch 15/250\n",
      "58/58 [==============================] - 23s 394ms/step - loss: 0.2601 - precision: 0.8657 - recall: 0.8101 - dice_coef: 0.8251 - val_loss: 0.3023 - val_precision: 0.9180 - val_recall: 0.6988 - val_dice_coef: 0.8042\n",
      "Epoch 16/250\n",
      "58/58 [==============================] - 23s 394ms/step - loss: 0.2503 - precision: 0.8751 - recall: 0.8153 - dice_coef: 0.8336 - val_loss: 0.2865 - val_precision: 0.9149 - val_recall: 0.7170 - val_dice_coef: 0.8175\n",
      "Epoch 17/250\n",
      "58/58 [==============================] - 23s 394ms/step - loss: 0.2420 - precision: 0.8849 - recall: 0.8198 - dice_coef: 0.8412 - val_loss: 0.3060 - val_precision: 0.9343 - val_recall: 0.6799 - val_dice_coef: 0.8050\n",
      "Epoch 18/250\n",
      "58/58 [==============================] - 23s 394ms/step - loss: 0.2369 - precision: 0.8898 - recall: 0.8221 - dice_coef: 0.8457 - val_loss: 0.3337 - val_precision: 0.9489 - val_recall: 0.6476 - val_dice_coef: 0.7863\n",
      "Epoch 19/250\n",
      "58/58 [==============================] - 23s 394ms/step - loss: 0.2300 - precision: 0.8965 - recall: 0.8252 - dice_coef: 0.8515 - val_loss: 0.3024 - val_precision: 0.9264 - val_recall: 0.6981 - val_dice_coef: 0.8067\n",
      "Epoch 20/250\n",
      "58/58 [==============================] - 23s 394ms/step - loss: 0.2262 - precision: 0.9000 - recall: 0.8271 - dice_coef: 0.8547 - val_loss: 0.3093 - val_precision: 0.9439 - val_recall: 0.6782 - val_dice_coef: 0.8033\n",
      "Epoch 21/250\n",
      "58/58 [==============================] - 23s 394ms/step - loss: 0.2185 - precision: 0.9059 - recall: 0.8324 - dice_coef: 0.8611 - val_loss: 0.2517 - val_precision: 0.9241 - val_recall: 0.7670 - val_dice_coef: 0.8421\n",
      "Epoch 22/250\n",
      "58/58 [==============================] - 23s 394ms/step - loss: 0.2099 - precision: 0.9140 - recall: 0.8364 - dice_coef: 0.8683 - val_loss: 0.2497 - val_precision: 0.9274 - val_recall: 0.7645 - val_dice_coef: 0.8451\n",
      "Epoch 23/250\n",
      "58/58 [==============================] - 23s 394ms/step - loss: 0.2062 - precision: 0.9158 - recall: 0.8396 - dice_coef: 0.8712 - val_loss: 0.2335 - val_precision: 0.9157 - val_recall: 0.8004 - val_dice_coef: 0.8535\n",
      "Epoch 24/250\n",
      "58/58 [==============================] - 23s 395ms/step - loss: 0.2011 - precision: 0.9208 - recall: 0.8416 - dice_coef: 0.8755 - val_loss: 0.2936 - val_precision: 0.9518 - val_recall: 0.6917 - val_dice_coef: 0.8158\n",
      "Epoch 25/250\n",
      "58/58 [==============================] - 23s 394ms/step - loss: 0.2010 - precision: 0.9197 - recall: 0.8425 - dice_coef: 0.8754 - val_loss: 0.2250 - val_precision: 0.8961 - val_recall: 0.8262 - val_dice_coef: 0.8558\n",
      "Epoch 26/250\n",
      "58/58 [==============================] - 23s 394ms/step - loss: 0.1951 - precision: 0.9254 - recall: 0.8445 - dice_coef: 0.8802 - val_loss: 0.2683 - val_precision: 0.9324 - val_recall: 0.7365 - val_dice_coef: 0.8327\n",
      "Epoch 27/250\n",
      "58/58 [==============================] - 23s 394ms/step - loss: 0.1903 - precision: 0.9283 - recall: 0.8475 - dice_coef: 0.8840 - val_loss: 0.2527 - val_precision: 0.9518 - val_recall: 0.7462 - val_dice_coef: 0.8468\n",
      "Epoch 28/250\n",
      "58/58 [==============================] - 23s 394ms/step - loss: 0.1898 - precision: 0.9277 - recall: 0.8489 - dice_coef: 0.8842 - val_loss: 0.2462 - val_precision: 0.9199 - val_recall: 0.7782 - val_dice_coef: 0.8478\n",
      "Epoch 29/250\n",
      "58/58 [==============================] - 23s 394ms/step - loss: 0.1825 - precision: 0.9345 - recall: 0.8511 - dice_coef: 0.8902 - val_loss: 0.2831 - val_precision: 0.9532 - val_recall: 0.7055 - val_dice_coef: 0.8262\n",
      "Epoch 30/250\n",
      "58/58 [==============================] - 23s 394ms/step - loss: 0.1784 - precision: 0.9379 - recall: 0.8528 - dice_coef: 0.8934 - val_loss: 0.2327 - val_precision: 0.9395 - val_recall: 0.7836 - val_dice_coef: 0.8586\n",
      "Epoch 31/250\n",
      "58/58 [==============================] - 23s 394ms/step - loss: 0.1751 - precision: 0.9385 - recall: 0.8568 - dice_coef: 0.8956 - val_loss: 0.2622 - val_precision: 0.9568 - val_recall: 0.7279 - val_dice_coef: 0.8406\n",
      "Epoch 32/250\n",
      "58/58 [==============================] - 23s 394ms/step - loss: 0.1700 - precision: 0.9436 - recall: 0.8568 - dice_coef: 0.8998 - val_loss: 0.2149 - val_precision: 0.9340 - val_recall: 0.8090 - val_dice_coef: 0.8700\n",
      "Epoch 33/250\n",
      "58/58 [==============================] - 23s 394ms/step - loss: 0.1702 - precision: 0.9433 - recall: 0.8565 - dice_coef: 0.8997 - val_loss: 0.2093 - val_precision: 0.9103 - val_recall: 0.8387 - val_dice_coef: 0.8684\n",
      "Epoch 34/250\n",
      "58/58 [==============================] - 23s 394ms/step - loss: 0.1712 - precision: 0.9416 - recall: 0.8564 - dice_coef: 0.8987 - val_loss: 0.2149 - val_precision: 0.9428 - val_recall: 0.7957 - val_dice_coef: 0.8698\n",
      "Epoch 35/250\n",
      "58/58 [==============================] - 23s 394ms/step - loss: 0.1654 - precision: 0.9465 - recall: 0.8593 - dice_coef: 0.9032 - val_loss: 0.2121 - val_precision: 0.9517 - val_recall: 0.7926 - val_dice_coef: 0.8745\n",
      "Epoch 36/250\n",
      "58/58 [==============================] - 23s 394ms/step - loss: 0.1605 - precision: 0.9507 - recall: 0.8601 - dice_coef: 0.9072 - val_loss: 0.2456 - val_precision: 0.9628 - val_recall: 0.7403 - val_dice_coef: 0.8529\n",
      "Epoch 37/250\n",
      "58/58 [==============================] - 23s 394ms/step - loss: 0.1606 - precision: 0.9489 - recall: 0.8607 - dice_coef: 0.9068 - val_loss: 0.4631 - val_precision: 0.9331 - val_recall: 0.5003 - val_dice_coef: 0.6703\n",
      "Epoch 38/250\n",
      "58/58 [==============================] - 23s 394ms/step - loss: 0.1641 - precision: 0.9469 - recall: 0.8592 - dice_coef: 0.9042 - val_loss: 0.2048 - val_precision: 0.9195 - val_recall: 0.8342 - val_dice_coef: 0.8731\n",
      "Epoch 39/250\n",
      "58/58 [==============================] - 23s 394ms/step - loss: 0.1573 - precision: 0.9513 - recall: 0.8626 - dice_coef: 0.9092 - val_loss: 0.2031 - val_precision: 0.9279 - val_recall: 0.8341 - val_dice_coef: 0.8745\n",
      "Epoch 40/250\n",
      "58/58 [==============================] - 23s 394ms/step - loss: 0.1542 - precision: 0.9546 - recall: 0.8636 - dice_coef: 0.9116 - val_loss: 0.2055 - val_precision: 0.9371 - val_recall: 0.8206 - val_dice_coef: 0.8751\n",
      "Epoch 41/250\n",
      "58/58 [==============================] - 23s 394ms/step - loss: 0.1553 - precision: 0.9531 - recall: 0.8638 - dice_coef: 0.9107 - val_loss: 0.2964 - val_precision: 0.9463 - val_recall: 0.6976 - val_dice_coef: 0.8124\n",
      "Epoch 42/250\n",
      "58/58 [==============================] - 23s 393ms/step - loss: 0.1573 - precision: 0.9503 - recall: 0.8655 - dice_coef: 0.9089 - val_loss: 0.2212 - val_precision: 0.9212 - val_recall: 0.8167 - val_dice_coef: 0.8618\n",
      "Epoch 43/250\n",
      "58/58 [==============================] - 23s 394ms/step - loss: 0.1517 - precision: 0.9549 - recall: 0.8671 - dice_coef: 0.9131 - val_loss: 0.2115 - val_precision: 0.9398 - val_recall: 0.8144 - val_dice_coef: 0.8721\n",
      "Epoch 44/250\n",
      "58/58 [==============================] - 23s 394ms/step - loss: 0.1508 - precision: 0.9552 - recall: 0.8674 - dice_coef: 0.9137 - val_loss: 0.2110 - val_precision: 0.9055 - val_recall: 0.8445 - val_dice_coef: 0.8659\n",
      "Epoch 45/250\n",
      "58/58 [==============================] - 23s 394ms/step - loss: 0.1523 - precision: 0.9527 - recall: 0.8680 - dice_coef: 0.9124 - val_loss: 0.2195 - val_precision: 0.9411 - val_recall: 0.7967 - val_dice_coef: 0.8684\n",
      "Epoch 46/250\n",
      "58/58 [==============================] - 23s 394ms/step - loss: 0.1472 - precision: 0.9579 - recall: 0.8690 - dice_coef: 0.9164 - val_loss: 0.2002 - val_precision: 0.9374 - val_recall: 0.8322 - val_dice_coef: 0.8789\n",
      "Epoch 47/250\n",
      "58/58 [==============================] - 23s 394ms/step - loss: 0.1439 - precision: 0.9610 - recall: 0.8693 - dice_coef: 0.9190 - val_loss: 0.1970 - val_precision: 0.9432 - val_recall: 0.8251 - val_dice_coef: 0.8826\n",
      "Epoch 48/250\n",
      "58/58 [==============================] - 23s 394ms/step - loss: 0.1423 - precision: 0.9620 - recall: 0.8703 - dice_coef: 0.9200 - val_loss: 0.1911 - val_precision: 0.9328 - val_recall: 0.8428 - val_dice_coef: 0.8842\n",
      "Epoch 49/250\n",
      "58/58 [==============================] - 23s 394ms/step - loss: 0.1381 - precision: 0.9643 - recall: 0.8719 - dice_coef: 0.9229 - val_loss: 0.1931 - val_precision: 0.9497 - val_recall: 0.8265 - val_dice_coef: 0.8865\n",
      "Epoch 50/250\n",
      "58/58 [==============================] - 23s 394ms/step - loss: 0.1341 - precision: 0.9671 - recall: 0.8710 - dice_coef: 0.9261 - val_loss: 0.1908 - val_precision: 0.9499 - val_recall: 0.8251 - val_dice_coef: 0.8889\n",
      "Epoch 51/250\n",
      "58/58 [==============================] - 23s 394ms/step - loss: 0.1290 - precision: 0.9697 - recall: 0.8727 - dice_coef: 0.9297 - val_loss: 0.1997 - val_precision: 0.9529 - val_recall: 0.8158 - val_dice_coef: 0.8830\n",
      "Epoch 52/250\n",
      "58/58 [==============================] - 23s 394ms/step - loss: 0.1281 - precision: 0.9701 - recall: 0.8711 - dice_coef: 0.9303 - val_loss: 0.2149 - val_precision: 0.9249 - val_recall: 0.8130 - val_dice_coef: 0.8690\n",
      "Epoch 53/250\n",
      "58/58 [==============================] - 23s 394ms/step - loss: 0.1329 - precision: 0.9685 - recall: 0.8672 - dice_coef: 0.9275 - val_loss: 0.2328 - val_precision: 0.9532 - val_recall: 0.7687 - val_dice_coef: 0.8608\n",
      "Epoch 54/250\n",
      "58/58 [==============================] - 23s 397ms/step - loss: 0.1247 - precision: 0.9726 - recall: 0.8718 - dice_coef: 0.9329 - val_loss: 0.1829 - val_precision: 0.9554 - val_recall: 0.8270 - val_dice_coef: 0.8942\n",
      "Epoch 55/250\n",
      "58/58 [==============================] - 23s 394ms/step - loss: 0.1204 - precision: 0.9749 - recall: 0.8723 - dice_coef: 0.9360 - val_loss: 0.1853 - val_precision: 0.9580 - val_recall: 0.8216 - val_dice_coef: 0.8934\n",
      "Epoch 56/250\n",
      "58/58 [==============================] - 23s 394ms/step - loss: 0.1168 - precision: 0.9775 - recall: 0.8725 - dice_coef: 0.9385 - val_loss: 0.1842 - val_precision: 0.9630 - val_recall: 0.8120 - val_dice_coef: 0.8964\n",
      "Epoch 57/250\n",
      "58/58 [==============================] - 23s 394ms/step - loss: 0.1153 - precision: 0.9779 - recall: 0.8735 - dice_coef: 0.9394 - val_loss: 0.1949 - val_precision: 0.9675 - val_recall: 0.7977 - val_dice_coef: 0.8895\n",
      "Epoch 58/250\n",
      "58/58 [==============================] - 23s 395ms/step - loss: 0.1139 - precision: 0.9790 - recall: 0.8727 - dice_coef: 0.9405 - val_loss: 0.1805 - val_precision: 0.9603 - val_recall: 0.8286 - val_dice_coef: 0.8961\n",
      "Epoch 59/250\n",
      "58/58 [==============================] - 23s 394ms/step - loss: 0.1137 - precision: 0.9793 - recall: 0.8727 - dice_coef: 0.9406 - val_loss: 0.1768 - val_precision: 0.9608 - val_recall: 0.8279 - val_dice_coef: 0.8997\n",
      "Epoch 60/250\n",
      "58/58 [==============================] - 23s 395ms/step - loss: 0.1144 - precision: 0.9786 - recall: 0.8732 - dice_coef: 0.9400 - val_loss: 0.1978 - val_precision: 0.9648 - val_recall: 0.7971 - val_dice_coef: 0.8870\n",
      "Epoch 61/250\n",
      "58/58 [==============================] - 23s 394ms/step - loss: 0.1176 - precision: 0.9773 - recall: 0.8730 - dice_coef: 0.9379 - val_loss: 0.1969 - val_precision: 0.9607 - val_recall: 0.8015 - val_dice_coef: 0.8874\n",
      "Epoch 62/250\n",
      "58/58 [==============================] - 23s 394ms/step - loss: 0.1195 - precision: 0.9760 - recall: 0.8732 - dice_coef: 0.9364 - val_loss: 0.2130 - val_precision: 0.9608 - val_recall: 0.7781 - val_dice_coef: 0.8769\n",
      "Epoch 63/250\n",
      "58/58 [==============================] - 23s 395ms/step - loss: 0.1182 - precision: 0.9769 - recall: 0.8733 - dice_coef: 0.9375 - val_loss: 0.1813 - val_precision: 0.9567 - val_recall: 0.8259 - val_dice_coef: 0.8963\n",
      "Epoch 64/250\n",
      "58/58 [==============================] - 23s 395ms/step - loss: 0.1159 - precision: 0.9776 - recall: 0.8735 - dice_coef: 0.9390 - val_loss: 0.1841 - val_precision: 0.9609 - val_recall: 0.8174 - val_dice_coef: 0.8947\n",
      "Epoch 65/250\n",
      "58/58 [==============================] - 23s 394ms/step - loss: 0.1384 - precision: 0.9592 - recall: 0.8665 - dice_coef: 0.9219 - val_loss: 0.3663 - val_precision: 0.8966 - val_recall: 0.6390 - val_dice_coef: 0.7488\n",
      "Epoch 66/250\n",
      "58/58 [==============================] - 23s 394ms/step - loss: 0.1451 - precision: 0.9600 - recall: 0.8627 - dice_coef: 0.9186 - val_loss: 0.2028 - val_precision: 0.9366 - val_recall: 0.8165 - val_dice_coef: 0.8796\n",
      "Epoch 67/250\n",
      "58/58 [==============================] - 23s 394ms/step - loss: 0.1191 - precision: 0.9756 - recall: 0.8738 - dice_coef: 0.9367 - val_loss: 0.1763 - val_precision: 0.9447 - val_recall: 0.8417 - val_dice_coef: 0.8971\n",
      "Epoch 68/250\n",
      "58/58 [==============================] - 23s 394ms/step - loss: 0.1137 - precision: 0.9784 - recall: 0.8735 - dice_coef: 0.9404 - val_loss: 0.1820 - val_precision: 0.9600 - val_recall: 0.8191 - val_dice_coef: 0.8971\n",
      "Epoch 69/250\n",
      "58/58 [==============================] - 23s 394ms/step - loss: 0.1117 - precision: 0.9799 - recall: 0.8735 - dice_coef: 0.9418 - val_loss: 0.1823 - val_precision: 0.9611 - val_recall: 0.8175 - val_dice_coef: 0.8974\n",
      "Epoch 70/250\n",
      "58/58 [==============================] - 23s 394ms/step - loss: 0.1120 - precision: 0.9801 - recall: 0.8739 - dice_coef: 0.9416 - val_loss: 0.2128 - val_precision: 0.9668 - val_recall: 0.7759 - val_dice_coef: 0.8779\n",
      "Epoch 71/250\n",
      "58/58 [==============================] - 23s 394ms/step - loss: 0.1168 - precision: 0.9775 - recall: 0.8727 - dice_coef: 0.9384 - val_loss: 0.1925 - val_precision: 0.9602 - val_recall: 0.8119 - val_dice_coef: 0.8903\n",
      "Epoch 72/250\n",
      "58/58 [==============================] - 23s 394ms/step - loss: 0.1214 - precision: 0.9753 - recall: 0.8710 - dice_coef: 0.9354 - val_loss: 0.2112 - val_precision: 0.9601 - val_recall: 0.7856 - val_dice_coef: 0.8786\n",
      "Epoch 73/250\n",
      "58/58 [==============================] - 23s 394ms/step - loss: 0.1200 - precision: 0.9762 - recall: 0.8717 - dice_coef: 0.9363 - val_loss: 0.2267 - val_precision: 0.9629 - val_recall: 0.7629 - val_dice_coef: 0.8671\n",
      "Epoch 74/250\n",
      "58/58 [==============================] - 23s 394ms/step - loss: 0.1202 - precision: 0.9756 - recall: 0.8727 - dice_coef: 0.9360 - val_loss: 0.1822 - val_precision: 0.9529 - val_recall: 0.8254 - val_dice_coef: 0.8953\n",
      "Epoch 75/250\n",
      "58/58 [==============================] - 23s 394ms/step - loss: 0.1142 - precision: 0.9788 - recall: 0.8744 - dice_coef: 0.9401 - val_loss: 0.1955 - val_precision: 0.9530 - val_recall: 0.8132 - val_dice_coef: 0.8863\n",
      "Epoch 76/250\n",
      "58/58 [==============================] - 23s 393ms/step - loss: 0.1096 - precision: 0.9814 - recall: 0.8747 - dice_coef: 0.9433 - val_loss: 0.1924 - val_precision: 0.9640 - val_recall: 0.8031 - val_dice_coef: 0.8918\n",
      "Epoch 77/250\n",
      "58/58 [==============================] - 23s 394ms/step - loss: 0.1074 - precision: 0.9821 - recall: 0.8744 - dice_coef: 0.9448 - val_loss: 0.2040 - val_precision: 0.9560 - val_recall: 0.7958 - val_dice_coef: 0.8830\n",
      "Epoch 78/250\n",
      "58/58 [==============================] - 23s 394ms/step - loss: 0.1155 - precision: 0.9789 - recall: 0.8741 - dice_coef: 0.9392 - val_loss: 0.1780 - val_precision: 0.9623 - val_recall: 0.8227 - val_dice_coef: 0.9003\n",
      "Epoch 79/250\n",
      "58/58 [==============================] - 23s 394ms/step - loss: 0.1079 - precision: 0.9827 - recall: 0.8748 - dice_coef: 0.9444 - val_loss: 0.1779 - val_precision: 0.9642 - val_recall: 0.8192 - val_dice_coef: 0.9009\n",
      "Epoch 80/250\n",
      "58/58 [==============================] - 23s 394ms/step - loss: 0.1032 - precision: 0.9848 - recall: 0.8743 - dice_coef: 0.9477 - val_loss: 0.1723 - val_precision: 0.9661 - val_recall: 0.8233 - val_dice_coef: 0.9046\n",
      "Epoch 81/250\n",
      "58/58 [==============================] - 23s 394ms/step - loss: 0.0996 - precision: 0.9864 - recall: 0.8737 - dice_coef: 0.9501 - val_loss: 0.1730 - val_precision: 0.9654 - val_recall: 0.8234 - val_dice_coef: 0.9035\n",
      "Epoch 82/250\n",
      "58/58 [==============================] - 23s 394ms/step - loss: 0.0975 - precision: 0.9870 - recall: 0.8741 - dice_coef: 0.9514 - val_loss: 0.1760 - val_precision: 0.9663 - val_recall: 0.8177 - val_dice_coef: 0.9019\n",
      "Epoch 83/250\n",
      "58/58 [==============================] - 23s 394ms/step - loss: 0.0965 - precision: 0.9874 - recall: 0.8739 - dice_coef: 0.9521 - val_loss: 0.1711 - val_precision: 0.9644 - val_recall: 0.8259 - val_dice_coef: 0.9051\n",
      "Epoch 84/250\n",
      "58/58 [==============================] - 23s 394ms/step - loss: 0.0949 - precision: 0.9881 - recall: 0.8734 - dice_coef: 0.9532 - val_loss: 0.1707 - val_precision: 0.9655 - val_recall: 0.8258 - val_dice_coef: 0.9055\n",
      "Epoch 85/250\n",
      "58/58 [==============================] - 23s 394ms/step - loss: 0.0928 - precision: 0.9889 - recall: 0.8737 - dice_coef: 0.9545 - val_loss: 0.1723 - val_precision: 0.9698 - val_recall: 0.8179 - val_dice_coef: 0.9044\n",
      "Epoch 86/250\n",
      "58/58 [==============================] - 23s 395ms/step - loss: 0.0919 - precision: 0.9893 - recall: 0.8732 - dice_coef: 0.9552 - val_loss: 0.1741 - val_precision: 0.9687 - val_recall: 0.8167 - val_dice_coef: 0.9036\n",
      "Epoch 87/250\n",
      "58/58 [==============================] - 23s 393ms/step - loss: 0.0904 - precision: 0.9899 - recall: 0.8734 - dice_coef: 0.9561 - val_loss: 0.1685 - val_precision: 0.9662 - val_recall: 0.8262 - val_dice_coef: 0.9067\n",
      "Epoch 88/250\n",
      "58/58 [==============================] - 23s 394ms/step - loss: 0.0907 - precision: 0.9898 - recall: 0.8734 - dice_coef: 0.9559 - val_loss: 0.1694 - val_precision: 0.9675 - val_recall: 0.8226 - val_dice_coef: 0.9065\n",
      "Epoch 89/250\n",
      "58/58 [==============================] - 23s 394ms/step - loss: 0.0894 - precision: 0.9902 - recall: 0.8735 - dice_coef: 0.9567 - val_loss: 0.1667 - val_precision: 0.9664 - val_recall: 0.8289 - val_dice_coef: 0.9077\n",
      "Epoch 90/250\n",
      "58/58 [==============================] - 23s 394ms/step - loss: 0.0887 - precision: 0.9905 - recall: 0.8732 - dice_coef: 0.9572 - val_loss: 0.1757 - val_precision: 0.9676 - val_recall: 0.8162 - val_dice_coef: 0.9022\n",
      "Epoch 91/250\n",
      "58/58 [==============================] - 23s 394ms/step - loss: 0.0879 - precision: 0.9908 - recall: 0.8729 - dice_coef: 0.9577 - val_loss: 0.1732 - val_precision: 0.9701 - val_recall: 0.8176 - val_dice_coef: 0.9037\n",
      "Epoch 92/250\n",
      "58/58 [==============================] - 23s 396ms/step - loss: 0.0875 - precision: 0.9909 - recall: 0.8734 - dice_coef: 0.9579 - val_loss: 0.1713 - val_precision: 0.9685 - val_recall: 0.8212 - val_dice_coef: 0.9047\n",
      "Epoch 93/250\n",
      "58/58 [==============================] - 23s 395ms/step - loss: 0.0870 - precision: 0.9910 - recall: 0.8731 - dice_coef: 0.9582 - val_loss: 0.1649 - val_precision: 0.9646 - val_recall: 0.8349 - val_dice_coef: 0.9088\n",
      "Epoch 94/250\n",
      "58/58 [==============================] - 23s 395ms/step - loss: 0.0867 - precision: 0.9913 - recall: 0.8730 - dice_coef: 0.9585 - val_loss: 0.1693 - val_precision: 0.9683 - val_recall: 0.8229 - val_dice_coef: 0.9072\n",
      "Epoch 95/250\n",
      "58/58 [==============================] - 23s 394ms/step - loss: 0.0867 - precision: 0.9913 - recall: 0.8734 - dice_coef: 0.9584 - val_loss: 0.1702 - val_precision: 0.9682 - val_recall: 0.8223 - val_dice_coef: 0.9059\n",
      "Epoch 96/250\n",
      "58/58 [==============================] - 23s 394ms/step - loss: 0.0865 - precision: 0.9914 - recall: 0.8732 - dice_coef: 0.9586 - val_loss: 0.1730 - val_precision: 0.9690 - val_recall: 0.8189 - val_dice_coef: 0.9040\n",
      "Epoch 97/250\n",
      "58/58 [==============================] - 23s 394ms/step - loss: 0.0866 - precision: 0.9913 - recall: 0.8730 - dice_coef: 0.9585 - val_loss: 0.1681 - val_precision: 0.9686 - val_recall: 0.8232 - val_dice_coef: 0.9076\n",
      "Epoch 98/250\n",
      "58/58 [==============================] - 23s 394ms/step - loss: 0.0865 - precision: 0.9913 - recall: 0.8734 - dice_coef: 0.9586 - val_loss: 0.1705 - val_precision: 0.9699 - val_recall: 0.8214 - val_dice_coef: 0.9061\n",
      "Epoch 99/250\n",
      "58/58 [==============================] - 23s 394ms/step - loss: 0.0870 - precision: 0.9913 - recall: 0.8733 - dice_coef: 0.9583 - val_loss: 0.1684 - val_precision: 0.9674 - val_recall: 0.8267 - val_dice_coef: 0.9068\n",
      "Epoch 100/250\n",
      "58/58 [==============================] - 23s 394ms/step - loss: 0.0877 - precision: 0.9914 - recall: 0.8727 - dice_coef: 0.9579 - val_loss: 0.1730 - val_precision: 0.9712 - val_recall: 0.8141 - val_dice_coef: 0.9056\n",
      "Epoch 101/250\n",
      "58/58 [==============================] - 23s 394ms/step - loss: 0.0910 - precision: 0.9900 - recall: 0.8740 - dice_coef: 0.9557 - val_loss: 0.1697 - val_precision: 0.9668 - val_recall: 0.8231 - val_dice_coef: 0.9063\n",
      "Epoch 102/250\n",
      "58/58 [==============================] - 23s 394ms/step - loss: 0.0954 - precision: 0.9882 - recall: 0.8752 - dice_coef: 0.9527 - val_loss: 0.1727 - val_precision: 0.9694 - val_recall: 0.8191 - val_dice_coef: 0.9049\n",
      "Epoch 103/250\n",
      "58/58 [==============================] - 23s 394ms/step - loss: 0.1011 - precision: 0.9850 - recall: 0.8746 - dice_coef: 0.9488 - val_loss: 0.3635 - val_precision: 0.9510 - val_recall: 0.6026 - val_dice_coef: 0.7632\n",
      "Epoch 104/250\n",
      "58/58 [==============================] - 23s 394ms/step - loss: 0.1025 - precision: 0.9841 - recall: 0.8735 - dice_coef: 0.9482 - val_loss: 0.1688 - val_precision: 0.9658 - val_recall: 0.8290 - val_dice_coef: 0.9066\n",
      "Epoch 105/250\n",
      "58/58 [==============================] - 23s 400ms/step - loss: 0.0933 - precision: 0.9894 - recall: 0.8743 - dice_coef: 0.9542 - val_loss: 0.1681 - val_precision: 0.9685 - val_recall: 0.8266 - val_dice_coef: 0.9076\n",
      "Epoch 106/250\n",
      "58/58 [==============================] - 23s 395ms/step - loss: 0.0904 - precision: 0.9903 - recall: 0.8740 - dice_coef: 0.9561 - val_loss: 0.1671 - val_precision: 0.9656 - val_recall: 0.8304 - val_dice_coef: 0.9074\n",
      "Epoch 107/250\n",
      "58/58 [==============================] - 23s 395ms/step - loss: 0.0892 - precision: 0.9909 - recall: 0.8736 - dice_coef: 0.9569 - val_loss: 0.1644 - val_precision: 0.9648 - val_recall: 0.8334 - val_dice_coef: 0.9092\n",
      "Epoch 108/250\n",
      "58/58 [==============================] - 23s 394ms/step - loss: 0.0886 - precision: 0.9911 - recall: 0.8735 - dice_coef: 0.9573 - val_loss: 0.1632 - val_precision: 0.9650 - val_recall: 0.8353 - val_dice_coef: 0.9101\n",
      "Epoch 109/250\n",
      "58/58 [==============================] - 23s 394ms/step - loss: 0.0877 - precision: 0.9915 - recall: 0.8736 - dice_coef: 0.9579 - val_loss: 0.1650 - val_precision: 0.9652 - val_recall: 0.8319 - val_dice_coef: 0.9091\n",
      "Epoch 110/250\n",
      "58/58 [==============================] - 23s 394ms/step - loss: 0.0872 - precision: 0.9916 - recall: 0.8732 - dice_coef: 0.9582 - val_loss: 0.1636 - val_precision: 0.9642 - val_recall: 0.8349 - val_dice_coef: 0.9096\n",
      "Epoch 111/250\n",
      "58/58 [==============================] - 23s 394ms/step - loss: 0.0861 - precision: 0.9920 - recall: 0.8733 - dice_coef: 0.9589 - val_loss: 0.1646 - val_precision: 0.9658 - val_recall: 0.8325 - val_dice_coef: 0.9092\n",
      "Epoch 112/250\n",
      "58/58 [==============================] - 23s 397ms/step - loss: 0.0857 - precision: 0.9920 - recall: 0.8735 - dice_coef: 0.9591 - val_loss: 0.1675 - val_precision: 0.9665 - val_recall: 0.8281 - val_dice_coef: 0.9072\n",
      "Epoch 113/250\n",
      "58/58 [==============================] - 23s 395ms/step - loss: 0.0855 - precision: 0.9921 - recall: 0.8733 - dice_coef: 0.9593 - val_loss: 0.1654 - val_precision: 0.9633 - val_recall: 0.8341 - val_dice_coef: 0.9082\n",
      "Epoch 114/250\n",
      "58/58 [==============================] - 23s 394ms/step - loss: 0.0847 - precision: 0.9923 - recall: 0.8733 - dice_coef: 0.9597 - val_loss: 0.1673 - val_precision: 0.9627 - val_recall: 0.8314 - val_dice_coef: 0.9073\n",
      "Epoch 115/250\n",
      "58/58 [==============================] - 23s 394ms/step - loss: 0.0844 - precision: 0.9925 - recall: 0.8732 - dice_coef: 0.9599 - val_loss: 0.1683 - val_precision: 0.9636 - val_recall: 0.8301 - val_dice_coef: 0.9066\n",
      "Epoch 116/250\n",
      "58/58 [==============================] - 23s 394ms/step - loss: 0.0841 - precision: 0.9927 - recall: 0.8735 - dice_coef: 0.9601 - val_loss: 0.1700 - val_precision: 0.9656 - val_recall: 0.8256 - val_dice_coef: 0.9061\n",
      "Epoch 117/250\n",
      "58/58 [==============================] - 23s 394ms/step - loss: 0.0844 - precision: 0.9924 - recall: 0.8735 - dice_coef: 0.9599 - val_loss: 0.1700 - val_precision: 0.9647 - val_recall: 0.8279 - val_dice_coef: 0.9053\n",
      "Epoch 118/250\n",
      "58/58 [==============================] - 23s 394ms/step - loss: 0.0840 - precision: 0.9927 - recall: 0.8729 - dice_coef: 0.9602 - val_loss: 0.1726 - val_precision: 0.9678 - val_recall: 0.8218 - val_dice_coef: 0.9041\n",
      "Epoch 119/250\n",
      "58/58 [==============================] - 23s 394ms/step - loss: 0.0865 - precision: 0.9920 - recall: 0.8731 - dice_coef: 0.9586 - val_loss: 0.1631 - val_precision: 0.9689 - val_recall: 0.8298 - val_dice_coef: 0.9104\n",
      "Epoch 120/250\n",
      "58/58 [==============================] - 23s 394ms/step - loss: 0.0840 - precision: 0.9928 - recall: 0.8736 - dice_coef: 0.9601 - val_loss: 0.1621 - val_precision: 0.9669 - val_recall: 0.8328 - val_dice_coef: 0.9109\n",
      "Epoch 121/250\n",
      "58/58 [==============================] - 23s 394ms/step - loss: 0.0818 - precision: 0.9934 - recall: 0.8733 - dice_coef: 0.9615 - val_loss: 0.1614 - val_precision: 0.9663 - val_recall: 0.8340 - val_dice_coef: 0.9113\n",
      "Epoch 122/250\n",
      "58/58 [==============================] - 23s 394ms/step - loss: 0.0813 - precision: 0.9935 - recall: 0.8732 - dice_coef: 0.9618 - val_loss: 0.1613 - val_precision: 0.9675 - val_recall: 0.8339 - val_dice_coef: 0.9114\n",
      "Epoch 123/250\n",
      "58/58 [==============================] - 23s 394ms/step - loss: 0.0803 - precision: 0.9939 - recall: 0.8731 - dice_coef: 0.9625 - val_loss: 0.1613 - val_precision: 0.9679 - val_recall: 0.8329 - val_dice_coef: 0.9115\n",
      "Epoch 124/250\n",
      "58/58 [==============================] - 23s 394ms/step - loss: 0.0797 - precision: 0.9942 - recall: 0.8726 - dice_coef: 0.9629 - val_loss: 0.1623 - val_precision: 0.9688 - val_recall: 0.8302 - val_dice_coef: 0.9110\n",
      "Epoch 125/250\n",
      "58/58 [==============================] - 23s 394ms/step - loss: 0.0792 - precision: 0.9943 - recall: 0.8727 - dice_coef: 0.9632 - val_loss: 0.1615 - val_precision: 0.9663 - val_recall: 0.8334 - val_dice_coef: 0.9111\n",
      "Epoch 126/250\n",
      "58/58 [==============================] - 23s 395ms/step - loss: 0.0790 - precision: 0.9943 - recall: 0.8726 - dice_coef: 0.9633 - val_loss: 0.1617 - val_precision: 0.9679 - val_recall: 0.8312 - val_dice_coef: 0.9112\n",
      "Epoch 127/250\n",
      "58/58 [==============================] - 23s 394ms/step - loss: 0.0784 - precision: 0.9945 - recall: 0.8727 - dice_coef: 0.9636 - val_loss: 0.1605 - val_precision: 0.9679 - val_recall: 0.8324 - val_dice_coef: 0.9123\n",
      "Epoch 128/250\n",
      "58/58 [==============================] - 23s 394ms/step - loss: 0.0783 - precision: 0.9946 - recall: 0.8724 - dice_coef: 0.9637 - val_loss: 0.1635 - val_precision: 0.9689 - val_recall: 0.8282 - val_dice_coef: 0.9101\n",
      "Epoch 129/250\n",
      "58/58 [==============================] - 23s 394ms/step - loss: 0.0781 - precision: 0.9945 - recall: 0.8729 - dice_coef: 0.9638 - val_loss: 0.1610 - val_precision: 0.9682 - val_recall: 0.8313 - val_dice_coef: 0.9122\n",
      "Epoch 130/250\n",
      "58/58 [==============================] - 23s 394ms/step - loss: 0.0778 - precision: 0.9947 - recall: 0.8723 - dice_coef: 0.9640 - val_loss: 0.1611 - val_precision: 0.9676 - val_recall: 0.8324 - val_dice_coef: 0.9115\n",
      "Epoch 131/250\n",
      "58/58 [==============================] - 23s 394ms/step - loss: 0.0777 - precision: 0.9946 - recall: 0.8727 - dice_coef: 0.9640 - val_loss: 0.1612 - val_precision: 0.9686 - val_recall: 0.8316 - val_dice_coef: 0.9114\n",
      "Epoch 132/250\n",
      "58/58 [==============================] - 23s 394ms/step - loss: 0.0774 - precision: 0.9948 - recall: 0.8725 - dice_coef: 0.9642 - val_loss: 0.1604 - val_precision: 0.9680 - val_recall: 0.8323 - val_dice_coef: 0.9123\n",
      "Epoch 133/250\n",
      "58/58 [==============================] - 23s 394ms/step - loss: 0.0772 - precision: 0.9948 - recall: 0.8724 - dice_coef: 0.9644 - val_loss: 0.1601 - val_precision: 0.9684 - val_recall: 0.8315 - val_dice_coef: 0.9126\n",
      "Epoch 134/250\n",
      "58/58 [==============================] - 23s 394ms/step - loss: 0.0772 - precision: 0.9948 - recall: 0.8724 - dice_coef: 0.9644 - val_loss: 0.1611 - val_precision: 0.9684 - val_recall: 0.8312 - val_dice_coef: 0.9119\n",
      "Epoch 135/250\n",
      "58/58 [==============================] - 23s 395ms/step - loss: 0.0770 - precision: 0.9949 - recall: 0.8722 - dice_coef: 0.9645 - val_loss: 0.1625 - val_precision: 0.9675 - val_recall: 0.8303 - val_dice_coef: 0.9107\n",
      "Epoch 136/250\n",
      "58/58 [==============================] - 23s 394ms/step - loss: 0.0769 - precision: 0.9948 - recall: 0.8726 - dice_coef: 0.9645 - val_loss: 0.1606 - val_precision: 0.9671 - val_recall: 0.8332 - val_dice_coef: 0.9119\n",
      "Epoch 137/250\n",
      "58/58 [==============================] - 23s 394ms/step - loss: 0.0768 - precision: 0.9949 - recall: 0.8722 - dice_coef: 0.9646 - val_loss: 0.1609 - val_precision: 0.9678 - val_recall: 0.8309 - val_dice_coef: 0.9123\n",
      "Epoch 138/250\n",
      "58/58 [==============================] - 23s 394ms/step - loss: 0.0768 - precision: 0.9949 - recall: 0.8728 - dice_coef: 0.9646 - val_loss: 0.1606 - val_precision: 0.9664 - val_recall: 0.8339 - val_dice_coef: 0.9116\n",
      "Epoch 139/250\n",
      "58/58 [==============================] - 23s 394ms/step - loss: 0.0766 - precision: 0.9950 - recall: 0.8720 - dice_coef: 0.9648 - val_loss: 0.1614 - val_precision: 0.9671 - val_recall: 0.8325 - val_dice_coef: 0.9113\n",
      "Epoch 140/250\n",
      "58/58 [==============================] - 23s 394ms/step - loss: 0.0766 - precision: 0.9950 - recall: 0.8724 - dice_coef: 0.9648 - val_loss: 0.1602 - val_precision: 0.9658 - val_recall: 0.8352 - val_dice_coef: 0.9120\n",
      "Epoch 141/250\n",
      "58/58 [==============================] - 23s 394ms/step - loss: 0.0764 - precision: 0.9951 - recall: 0.8722 - dice_coef: 0.9649 - val_loss: 0.1614 - val_precision: 0.9667 - val_recall: 0.8320 - val_dice_coef: 0.9112\n",
      "Epoch 142/250\n",
      "58/58 [==============================] - 23s 395ms/step - loss: 0.0763 - precision: 0.9951 - recall: 0.8722 - dice_coef: 0.9649 - val_loss: 0.1597 - val_precision: 0.9664 - val_recall: 0.8351 - val_dice_coef: 0.9121\n",
      "Epoch 143/250\n",
      "58/58 [==============================] - 23s 394ms/step - loss: 0.0762 - precision: 0.9950 - recall: 0.8725 - dice_coef: 0.9649 - val_loss: 0.1604 - val_precision: 0.9652 - val_recall: 0.8348 - val_dice_coef: 0.9117\n",
      "Epoch 144/250\n",
      "58/58 [==============================] - 23s 394ms/step - loss: 0.0760 - precision: 0.9952 - recall: 0.8723 - dice_coef: 0.9651 - val_loss: 0.1610 - val_precision: 0.9673 - val_recall: 0.8320 - val_dice_coef: 0.9117\n",
      "Epoch 145/250\n",
      "58/58 [==============================] - 23s 394ms/step - loss: 0.0760 - precision: 0.9952 - recall: 0.8722 - dice_coef: 0.9651 - val_loss: 0.1609 - val_precision: 0.9667 - val_recall: 0.8316 - val_dice_coef: 0.9118\n",
      "Epoch 146/250\n",
      "58/58 [==============================] - 23s 394ms/step - loss: 0.0760 - precision: 0.9952 - recall: 0.8724 - dice_coef: 0.9651 - val_loss: 0.1630 - val_precision: 0.9689 - val_recall: 0.8284 - val_dice_coef: 0.9103\n",
      "Epoch 147/250\n",
      "58/58 [==============================] - 23s 394ms/step - loss: 0.0759 - precision: 0.9952 - recall: 0.8722 - dice_coef: 0.9652 - val_loss: 0.1614 - val_precision: 0.9695 - val_recall: 0.8297 - val_dice_coef: 0.9116\n",
      "Epoch 148/250\n",
      "58/58 [==============================] - 23s 393ms/step - loss: 0.0759 - precision: 0.9952 - recall: 0.8722 - dice_coef: 0.9652 - val_loss: 0.1598 - val_precision: 0.9672 - val_recall: 0.8333 - val_dice_coef: 0.9125\n",
      "Epoch 149/250\n",
      "58/58 [==============================] - 23s 394ms/step - loss: 0.0757 - precision: 0.9953 - recall: 0.8723 - dice_coef: 0.9653 - val_loss: 0.1603 - val_precision: 0.9672 - val_recall: 0.8318 - val_dice_coef: 0.9123\n",
      "Epoch 150/250\n",
      "58/58 [==============================] - 23s 394ms/step - loss: 0.0758 - precision: 0.9953 - recall: 0.8723 - dice_coef: 0.9652 - val_loss: 0.1595 - val_precision: 0.9662 - val_recall: 0.8347 - val_dice_coef: 0.9125\n",
      "Epoch 151/250\n",
      "58/58 [==============================] - 23s 394ms/step - loss: 0.0756 - precision: 0.9953 - recall: 0.8723 - dice_coef: 0.9653 - val_loss: 0.1619 - val_precision: 0.9688 - val_recall: 0.8287 - val_dice_coef: 0.9113\n",
      "Epoch 152/250\n",
      "58/58 [==============================] - 23s 394ms/step - loss: 0.0755 - precision: 0.9953 - recall: 0.8723 - dice_coef: 0.9654 - val_loss: 0.1604 - val_precision: 0.9675 - val_recall: 0.8321 - val_dice_coef: 0.9120\n",
      "Epoch 153/250\n",
      "58/58 [==============================] - 23s 394ms/step - loss: 0.0754 - precision: 0.9954 - recall: 0.8720 - dice_coef: 0.9655 - val_loss: 0.1609 - val_precision: 0.9678 - val_recall: 0.8310 - val_dice_coef: 0.9118\n",
      "Epoch 154/250\n",
      "58/58 [==============================] - 23s 395ms/step - loss: 0.0752 - precision: 0.9954 - recall: 0.8725 - dice_coef: 0.9656 - val_loss: 0.1621 - val_precision: 0.9668 - val_recall: 0.8309 - val_dice_coef: 0.9106\n",
      "Epoch 155/250\n",
      "58/58 [==============================] - 23s 394ms/step - loss: 0.0752 - precision: 0.9954 - recall: 0.8721 - dice_coef: 0.9656 - val_loss: 0.1611 - val_precision: 0.9680 - val_recall: 0.8317 - val_dice_coef: 0.9116\n",
      "Epoch 156/250\n",
      "58/58 [==============================] - 23s 394ms/step - loss: 0.0752 - precision: 0.9953 - recall: 0.8724 - dice_coef: 0.9656 - val_loss: 0.1602 - val_precision: 0.9675 - val_recall: 0.8323 - val_dice_coef: 0.9124\n",
      "Epoch 157/250\n",
      "58/58 [==============================] - 23s 394ms/step - loss: 0.0751 - precision: 0.9954 - recall: 0.8723 - dice_coef: 0.9656 - val_loss: 0.1616 - val_precision: 0.9698 - val_recall: 0.8281 - val_dice_coef: 0.9119\n",
      "Epoch 158/250\n",
      "58/58 [==============================] - 23s 394ms/step - loss: 0.0751 - precision: 0.9954 - recall: 0.8720 - dice_coef: 0.9657 - val_loss: 0.1619 - val_precision: 0.9696 - val_recall: 0.8283 - val_dice_coef: 0.9115\n",
      "Epoch 159/250\n",
      "58/58 [==============================] - 23s 395ms/step - loss: 0.0752 - precision: 0.9954 - recall: 0.8723 - dice_coef: 0.9656 - val_loss: 0.1594 - val_precision: 0.9671 - val_recall: 0.8340 - val_dice_coef: 0.9129\n",
      "Epoch 160/250\n",
      "58/58 [==============================] - 23s 394ms/step - loss: 0.0748 - precision: 0.9955 - recall: 0.8722 - dice_coef: 0.9658 - val_loss: 0.1612 - val_precision: 0.9668 - val_recall: 0.8311 - val_dice_coef: 0.9117\n",
      "Epoch 161/250\n",
      "58/58 [==============================] - 23s 394ms/step - loss: 0.0750 - precision: 0.9955 - recall: 0.8721 - dice_coef: 0.9658 - val_loss: 0.1605 - val_precision: 0.9678 - val_recall: 0.8311 - val_dice_coef: 0.9123\n",
      "Epoch 162/250\n",
      "58/58 [==============================] - 23s 394ms/step - loss: 0.0747 - precision: 0.9955 - recall: 0.8724 - dice_coef: 0.9658 - val_loss: 0.1625 - val_precision: 0.9682 - val_recall: 0.8274 - val_dice_coef: 0.9109\n",
      "Epoch 163/250\n",
      "58/58 [==============================] - 23s 394ms/step - loss: 0.0746 - precision: 0.9955 - recall: 0.8723 - dice_coef: 0.9659 - val_loss: 0.1613 - val_precision: 0.9683 - val_recall: 0.8296 - val_dice_coef: 0.9115\n",
      "Epoch 164/250\n",
      "58/58 [==============================] - 23s 394ms/step - loss: 0.0748 - precision: 0.9955 - recall: 0.8719 - dice_coef: 0.9659 - val_loss: 0.1614 - val_precision: 0.9695 - val_recall: 0.8295 - val_dice_coef: 0.9120\n",
      "Epoch 165/250\n",
      "58/58 [==============================] - 23s 399ms/step - loss: 0.0748 - precision: 0.9955 - recall: 0.8721 - dice_coef: 0.9659 - val_loss: 0.1606 - val_precision: 0.9681 - val_recall: 0.8306 - val_dice_coef: 0.9125\n",
      "Epoch 166/250\n",
      "58/58 [==============================] - 23s 394ms/step - loss: 0.0746 - precision: 0.9955 - recall: 0.8725 - dice_coef: 0.9659 - val_loss: 0.1615 - val_precision: 0.9677 - val_recall: 0.8308 - val_dice_coef: 0.9110\n",
      "Epoch 167/250\n",
      "58/58 [==============================] - 23s 396ms/step - loss: 0.0746 - precision: 0.9955 - recall: 0.8722 - dice_coef: 0.9660 - val_loss: 0.1600 - val_precision: 0.9670 - val_recall: 0.8335 - val_dice_coef: 0.9126\n",
      "Epoch 168/250\n",
      "58/58 [==============================] - 23s 395ms/step - loss: 0.0746 - precision: 0.9955 - recall: 0.8723 - dice_coef: 0.9659 - val_loss: 0.1628 - val_precision: 0.9703 - val_recall: 0.8249 - val_dice_coef: 0.9113\n",
      "Epoch 169/250\n",
      "58/58 [==============================] - 23s 394ms/step - loss: 0.0744 - precision: 0.9956 - recall: 0.8722 - dice_coef: 0.9661 - val_loss: 0.1604 - val_precision: 0.9676 - val_recall: 0.8317 - val_dice_coef: 0.9123\n",
      "Epoch 170/250\n",
      "58/58 [==============================] - 23s 394ms/step - loss: 0.0742 - precision: 0.9956 - recall: 0.8724 - dice_coef: 0.9662 - val_loss: 0.1602 - val_precision: 0.9678 - val_recall: 0.8313 - val_dice_coef: 0.9125\n",
      "Epoch 171/250\n",
      "58/58 [==============================] - 23s 394ms/step - loss: 0.0741 - precision: 0.9957 - recall: 0.8724 - dice_coef: 0.9662 - val_loss: 0.1611 - val_precision: 0.9684 - val_recall: 0.8304 - val_dice_coef: 0.9118\n",
      "Epoch 172/250\n",
      "58/58 [==============================] - 23s 394ms/step - loss: 0.0742 - precision: 0.9957 - recall: 0.8722 - dice_coef: 0.9662 - val_loss: 0.1617 - val_precision: 0.9693 - val_recall: 0.8287 - val_dice_coef: 0.9116\n",
      "Epoch 173/250\n",
      "58/58 [==============================] - 23s 394ms/step - loss: 0.0740 - precision: 0.9957 - recall: 0.8721 - dice_coef: 0.9663 - val_loss: 0.1606 - val_precision: 0.9690 - val_recall: 0.8308 - val_dice_coef: 0.9122\n",
      "Epoch 174/250\n",
      "58/58 [==============================] - 23s 394ms/step - loss: 0.0739 - precision: 0.9957 - recall: 0.8721 - dice_coef: 0.9664 - val_loss: 0.1605 - val_precision: 0.9683 - val_recall: 0.8310 - val_dice_coef: 0.9122\n",
      "Epoch 175/250\n",
      "58/58 [==============================] - 23s 394ms/step - loss: 0.0738 - precision: 0.9958 - recall: 0.8723 - dice_coef: 0.9664 - val_loss: 0.1609 - val_precision: 0.9692 - val_recall: 0.8292 - val_dice_coef: 0.9126\n",
      "Epoch 176/250\n",
      "58/58 [==============================] - 23s 394ms/step - loss: 0.0738 - precision: 0.9958 - recall: 0.8723 - dice_coef: 0.9664 - val_loss: 0.1602 - val_precision: 0.9690 - val_recall: 0.8298 - val_dice_coef: 0.9130\n",
      "Epoch 177/250\n",
      "58/58 [==============================] - 23s 395ms/step - loss: 0.0739 - precision: 0.9957 - recall: 0.8720 - dice_coef: 0.9664 - val_loss: 0.1614 - val_precision: 0.9691 - val_recall: 0.8290 - val_dice_coef: 0.9119\n",
      "Epoch 178/250\n",
      "58/58 [==============================] - 23s 394ms/step - loss: 0.0738 - precision: 0.9958 - recall: 0.8725 - dice_coef: 0.9664 - val_loss: 0.1607 - val_precision: 0.9678 - val_recall: 0.8305 - val_dice_coef: 0.9121\n",
      "Epoch 179/250\n",
      "58/58 [==============================] - 23s 394ms/step - loss: 0.0738 - precision: 0.9958 - recall: 0.8722 - dice_coef: 0.9664 - val_loss: 0.1608 - val_precision: 0.9685 - val_recall: 0.8300 - val_dice_coef: 0.9123\n",
      "Epoch 180/250\n",
      "58/58 [==============================] - 23s 394ms/step - loss: 0.0741 - precision: 0.9957 - recall: 0.8724 - dice_coef: 0.9662 - val_loss: 0.1604 - val_precision: 0.9687 - val_recall: 0.8305 - val_dice_coef: 0.9126\n",
      "Epoch 181/250\n",
      "58/58 [==============================] - 23s 394ms/step - loss: 0.0739 - precision: 0.9957 - recall: 0.8724 - dice_coef: 0.9663 - val_loss: 0.1596 - val_precision: 0.9682 - val_recall: 0.8320 - val_dice_coef: 0.9129\n",
      "Epoch 182/250\n",
      "58/58 [==============================] - 23s 395ms/step - loss: 0.0740 - precision: 0.9957 - recall: 0.8722 - dice_coef: 0.9663 - val_loss: 0.1601 - val_precision: 0.9684 - val_recall: 0.8312 - val_dice_coef: 0.9128\n",
      "Epoch 183/250\n",
      "58/58 [==============================] - 23s 395ms/step - loss: 0.0740 - precision: 0.9957 - recall: 0.8722 - dice_coef: 0.9663 - val_loss: 0.1605 - val_precision: 0.9692 - val_recall: 0.8297 - val_dice_coef: 0.9127\n",
      "Epoch 184/250\n",
      "58/58 [==============================] - 23s 394ms/step - loss: 0.0739 - precision: 0.9958 - recall: 0.8719 - dice_coef: 0.9664 - val_loss: 0.1603 - val_precision: 0.9688 - val_recall: 0.8300 - val_dice_coef: 0.9127\n",
      "Epoch 185/250\n",
      "58/58 [==============================] - 23s 395ms/step - loss: 0.0740 - precision: 0.9957 - recall: 0.8725 - dice_coef: 0.9662 - val_loss: 0.1600 - val_precision: 0.9684 - val_recall: 0.8307 - val_dice_coef: 0.9129\n",
      "Epoch 186/250\n",
      "58/58 [==============================] - 23s 393ms/step - loss: 0.0740 - precision: 0.9957 - recall: 0.8721 - dice_coef: 0.9663 - val_loss: 0.1595 - val_precision: 0.9678 - val_recall: 0.8322 - val_dice_coef: 0.9130\n",
      "Epoch 187/250\n",
      "58/58 [==============================] - 23s 394ms/step - loss: 0.0738 - precision: 0.9957 - recall: 0.8724 - dice_coef: 0.9664 - val_loss: 0.1596 - val_precision: 0.9684 - val_recall: 0.8314 - val_dice_coef: 0.9131\n",
      "Epoch 188/250\n",
      "58/58 [==============================] - 23s 394ms/step - loss: 0.0738 - precision: 0.9957 - recall: 0.8722 - dice_coef: 0.9664 - val_loss: 0.1591 - val_precision: 0.9684 - val_recall: 0.8318 - val_dice_coef: 0.9134\n",
      "Epoch 189/250\n",
      "58/58 [==============================] - 23s 394ms/step - loss: 0.0738 - precision: 0.9958 - recall: 0.8721 - dice_coef: 0.9664 - val_loss: 0.1592 - val_precision: 0.9685 - val_recall: 0.8316 - val_dice_coef: 0.9133\n",
      "Epoch 190/250\n",
      "58/58 [==============================] - 23s 395ms/step - loss: 0.0737 - precision: 0.9958 - recall: 0.8721 - dice_coef: 0.9665 - val_loss: 0.1596 - val_precision: 0.9690 - val_recall: 0.8307 - val_dice_coef: 0.9129\n",
      "Epoch 191/250\n",
      "58/58 [==============================] - 23s 394ms/step - loss: 0.0738 - precision: 0.9958 - recall: 0.8723 - dice_coef: 0.9664 - val_loss: 0.1595 - val_precision: 0.9690 - val_recall: 0.8308 - val_dice_coef: 0.9132\n",
      "Epoch 192/250\n",
      "58/58 [==============================] - 23s 394ms/step - loss: 0.0737 - precision: 0.9958 - recall: 0.8722 - dice_coef: 0.9664 - val_loss: 0.1600 - val_precision: 0.9690 - val_recall: 0.8297 - val_dice_coef: 0.9130\n",
      "Epoch 193/250\n",
      "58/58 [==============================] - 23s 394ms/step - loss: 0.0736 - precision: 0.9958 - recall: 0.8722 - dice_coef: 0.9665 - val_loss: 0.1593 - val_precision: 0.9687 - val_recall: 0.8307 - val_dice_coef: 0.9133\n",
      "Epoch 194/250\n",
      "58/58 [==============================] - 23s 395ms/step - loss: 0.0737 - precision: 0.9958 - recall: 0.8721 - dice_coef: 0.9665 - val_loss: 0.1594 - val_precision: 0.9684 - val_recall: 0.8310 - val_dice_coef: 0.9130\n",
      "Epoch 195/250\n",
      "58/58 [==============================] - 23s 394ms/step - loss: 0.0736 - precision: 0.9958 - recall: 0.8720 - dice_coef: 0.9665 - val_loss: 0.1593 - val_precision: 0.9689 - val_recall: 0.8311 - val_dice_coef: 0.9132\n",
      "Epoch 196/250\n",
      "58/58 [==============================] - 23s 395ms/step - loss: 0.0737 - precision: 0.9959 - recall: 0.8722 - dice_coef: 0.9665 - val_loss: 0.1595 - val_precision: 0.9688 - val_recall: 0.8302 - val_dice_coef: 0.9132\n",
      "Epoch 197/250\n",
      "58/58 [==============================] - 23s 395ms/step - loss: 0.0735 - precision: 0.9959 - recall: 0.8723 - dice_coef: 0.9666 - val_loss: 0.1594 - val_precision: 0.9685 - val_recall: 0.8308 - val_dice_coef: 0.9131\n",
      "Epoch 198/250\n",
      "58/58 [==============================] - 23s 394ms/step - loss: 0.0736 - precision: 0.9958 - recall: 0.8722 - dice_coef: 0.9665 - val_loss: 0.1596 - val_precision: 0.9687 - val_recall: 0.8300 - val_dice_coef: 0.9131\n",
      "Epoch 199/250\n",
      "58/58 [==============================] - 23s 395ms/step - loss: 0.0739 - precision: 0.9957 - recall: 0.8729 - dice_coef: 0.9663 - val_loss: 0.1583 - val_precision: 0.9681 - val_recall: 0.8320 - val_dice_coef: 0.9138\n",
      "Epoch 200/250\n",
      "58/58 [==============================] - 23s 395ms/step - loss: 0.0738 - precision: 0.9958 - recall: 0.8722 - dice_coef: 0.9664 - val_loss: 0.1581 - val_precision: 0.9681 - val_recall: 0.8322 - val_dice_coef: 0.9139\n",
      "Epoch 201/250\n",
      "58/58 [==============================] - 23s 394ms/step - loss: 0.0740 - precision: 0.9958 - recall: 0.8723 - dice_coef: 0.9663 - val_loss: 0.1581 - val_precision: 0.9683 - val_recall: 0.8324 - val_dice_coef: 0.9139\n",
      "Epoch 202/250\n",
      "58/58 [==============================] - 23s 395ms/step - loss: 0.0737 - precision: 0.9958 - recall: 0.8723 - dice_coef: 0.9665 - val_loss: 0.1581 - val_precision: 0.9683 - val_recall: 0.8322 - val_dice_coef: 0.9139\n",
      "Epoch 203/250\n",
      "58/58 [==============================] - 23s 394ms/step - loss: 0.0736 - precision: 0.9958 - recall: 0.8722 - dice_coef: 0.9665 - val_loss: 0.1584 - val_precision: 0.9683 - val_recall: 0.8319 - val_dice_coef: 0.9138\n",
      "Epoch 204/250\n",
      "58/58 [==============================] - 23s 395ms/step - loss: 0.0735 - precision: 0.9958 - recall: 0.8724 - dice_coef: 0.9666 - val_loss: 0.1580 - val_precision: 0.9678 - val_recall: 0.8329 - val_dice_coef: 0.9138\n",
      "Epoch 205/250\n",
      "58/58 [==============================] - 23s 395ms/step - loss: 0.0734 - precision: 0.9959 - recall: 0.8724 - dice_coef: 0.9666 - val_loss: 0.1584 - val_precision: 0.9683 - val_recall: 0.8316 - val_dice_coef: 0.9138\n",
      "Epoch 206/250\n",
      "58/58 [==============================] - 23s 394ms/step - loss: 0.0735 - precision: 0.9958 - recall: 0.8724 - dice_coef: 0.9666 - val_loss: 0.1586 - val_precision: 0.9684 - val_recall: 0.8315 - val_dice_coef: 0.9136\n",
      "Epoch 207/250\n",
      "58/58 [==============================] - 23s 395ms/step - loss: 0.0733 - precision: 0.9959 - recall: 0.8723 - dice_coef: 0.9667 - val_loss: 0.1585 - val_precision: 0.9682 - val_recall: 0.8318 - val_dice_coef: 0.9136\n",
      "Epoch 208/250\n",
      "58/58 [==============================] - 23s 396ms/step - loss: 0.0734 - precision: 0.9959 - recall: 0.8722 - dice_coef: 0.9666 - val_loss: 0.1581 - val_precision: 0.9675 - val_recall: 0.8333 - val_dice_coef: 0.9136\n",
      "Epoch 209/250\n",
      "58/58 [==============================] - 23s 395ms/step - loss: 0.0732 - precision: 0.9960 - recall: 0.8724 - dice_coef: 0.9667 - val_loss: 0.1583 - val_precision: 0.9681 - val_recall: 0.8319 - val_dice_coef: 0.9138\n",
      "Epoch 210/250\n",
      "58/58 [==============================] - 23s 394ms/step - loss: 0.0733 - precision: 0.9959 - recall: 0.8723 - dice_coef: 0.9667 - val_loss: 0.1578 - val_precision: 0.9680 - val_recall: 0.8327 - val_dice_coef: 0.9140\n",
      "Epoch 211/250\n",
      "58/58 [==============================] - 23s 395ms/step - loss: 0.0732 - precision: 0.9959 - recall: 0.8722 - dice_coef: 0.9668 - val_loss: 0.1577 - val_precision: 0.9679 - val_recall: 0.8328 - val_dice_coef: 0.9142\n",
      "Epoch 212/250\n",
      "58/58 [==============================] - 23s 395ms/step - loss: 0.0731 - precision: 0.9959 - recall: 0.8721 - dice_coef: 0.9668 - val_loss: 0.1579 - val_precision: 0.9679 - val_recall: 0.8327 - val_dice_coef: 0.9140\n",
      "Epoch 213/250\n",
      "58/58 [==============================] - 23s 394ms/step - loss: 0.0731 - precision: 0.9959 - recall: 0.8724 - dice_coef: 0.9668 - val_loss: 0.1585 - val_precision: 0.9682 - val_recall: 0.8315 - val_dice_coef: 0.9137\n",
      "Epoch 214/250\n",
      "58/58 [==============================] - 23s 394ms/step - loss: 0.0731 - precision: 0.9960 - recall: 0.8721 - dice_coef: 0.9668 - val_loss: 0.1585 - val_precision: 0.9681 - val_recall: 0.8318 - val_dice_coef: 0.9137\n",
      "Epoch 215/250\n",
      "58/58 [==============================] - 23s 395ms/step - loss: 0.0731 - precision: 0.9960 - recall: 0.8722 - dice_coef: 0.9668 - val_loss: 0.1584 - val_precision: 0.9679 - val_recall: 0.8322 - val_dice_coef: 0.9137\n",
      "Epoch 216/250\n",
      "58/58 [==============================] - 23s 395ms/step - loss: 0.0732 - precision: 0.9960 - recall: 0.8723 - dice_coef: 0.9668 - val_loss: 0.1583 - val_precision: 0.9680 - val_recall: 0.8319 - val_dice_coef: 0.9138\n",
      "Epoch 217/250\n",
      "58/58 [==============================] - 23s 394ms/step - loss: 0.0731 - precision: 0.9959 - recall: 0.8720 - dice_coef: 0.9668 - val_loss: 0.1582 - val_precision: 0.9681 - val_recall: 0.8320 - val_dice_coef: 0.9138\n",
      "Epoch 218/250\n",
      "58/58 [==============================] - 23s 394ms/step - loss: 0.0730 - precision: 0.9960 - recall: 0.8722 - dice_coef: 0.9669 - val_loss: 0.1584 - val_precision: 0.9683 - val_recall: 0.8316 - val_dice_coef: 0.9138\n",
      "Epoch 219/250\n",
      "58/58 [==============================] - 23s 395ms/step - loss: 0.0730 - precision: 0.9960 - recall: 0.8724 - dice_coef: 0.9669 - val_loss: 0.1584 - val_precision: 0.9684 - val_recall: 0.8317 - val_dice_coef: 0.9138\n",
      "Epoch 220/250\n",
      "58/58 [==============================] - 23s 394ms/step - loss: 0.0729 - precision: 0.9960 - recall: 0.8723 - dice_coef: 0.9669 - val_loss: 0.1584 - val_precision: 0.9682 - val_recall: 0.8318 - val_dice_coef: 0.9138\n",
      "Epoch 221/250\n",
      "58/58 [==============================] - 23s 395ms/step - loss: 0.0729 - precision: 0.9960 - recall: 0.8723 - dice_coef: 0.9669 - val_loss: 0.1580 - val_precision: 0.9679 - val_recall: 0.8328 - val_dice_coef: 0.9140\n",
      "Epoch 222/250\n",
      "58/58 [==============================] - 23s 395ms/step - loss: 0.0729 - precision: 0.9960 - recall: 0.8722 - dice_coef: 0.9670 - val_loss: 0.1583 - val_precision: 0.9684 - val_recall: 0.8318 - val_dice_coef: 0.9139\n",
      "Epoch 223/250\n",
      "58/58 [==============================] - 23s 395ms/step - loss: 0.0727 - precision: 0.9960 - recall: 0.8721 - dice_coef: 0.9670 - val_loss: 0.1584 - val_precision: 0.9687 - val_recall: 0.8314 - val_dice_coef: 0.9139\n",
      "Epoch 224/250\n",
      "58/58 [==============================] - 23s 394ms/step - loss: 0.0727 - precision: 0.9961 - recall: 0.8722 - dice_coef: 0.9671 - val_loss: 0.1584 - val_precision: 0.9684 - val_recall: 0.8316 - val_dice_coef: 0.9138\n",
      "Epoch 225/250\n",
      "58/58 [==============================] - 23s 394ms/step - loss: 0.0728 - precision: 0.9960 - recall: 0.8722 - dice_coef: 0.9670 - val_loss: 0.1584 - val_precision: 0.9686 - val_recall: 0.8314 - val_dice_coef: 0.9139\n",
      "Epoch 226/250\n",
      "58/58 [==============================] - 23s 394ms/step - loss: 0.0728 - precision: 0.9960 - recall: 0.8720 - dice_coef: 0.9670 - val_loss: 0.1582 - val_precision: 0.9683 - val_recall: 0.8320 - val_dice_coef: 0.9140\n",
      "Epoch 227/250\n",
      "58/58 [==============================] - 23s 396ms/step - loss: 0.0727 - precision: 0.9961 - recall: 0.8722 - dice_coef: 0.9671 - val_loss: 0.1583 - val_precision: 0.9683 - val_recall: 0.8318 - val_dice_coef: 0.9139\n",
      "Epoch 228/250\n",
      "58/58 [==============================] - 23s 394ms/step - loss: 0.0727 - precision: 0.9961 - recall: 0.8720 - dice_coef: 0.9671 - val_loss: 0.1583 - val_precision: 0.9685 - val_recall: 0.8316 - val_dice_coef: 0.9140\n",
      "Epoch 229/250\n",
      "58/58 [==============================] - 23s 395ms/step - loss: 0.0727 - precision: 0.9961 - recall: 0.8722 - dice_coef: 0.9671 - val_loss: 0.1581 - val_precision: 0.9682 - val_recall: 0.8323 - val_dice_coef: 0.9140\n",
      "Epoch 230/250\n",
      "58/58 [==============================] - 23s 395ms/step - loss: 0.0727 - precision: 0.9961 - recall: 0.8721 - dice_coef: 0.9671 - val_loss: 0.1584 - val_precision: 0.9685 - val_recall: 0.8315 - val_dice_coef: 0.9139\n",
      "Epoch 231/250\n",
      "58/58 [==============================] - 23s 394ms/step - loss: 0.0726 - precision: 0.9961 - recall: 0.8722 - dice_coef: 0.9671 - val_loss: 0.1584 - val_precision: 0.9685 - val_recall: 0.8314 - val_dice_coef: 0.9139\n",
      "Epoch 232/250\n",
      "26/58 [============>.................] - ETA: 11s - loss: 0.0702 - precision: 0.9961 - recall: 0.8740 - dice_coef: 0.9686"
     ]
    },
    {
     "ename": "KeyboardInterrupt",
     "evalue": "ignored",
     "output_type": "error",
     "traceback": [
      "\u001b[0;31m---------------------------------------------------------------------------\u001b[0m",
      "\u001b[0;31mKeyboardInterrupt\u001b[0m                         Traceback (most recent call last)",
      "\u001b[0;32m<ipython-input-14-02ea3e43fd59>\u001b[0m in \u001b[0;36m<module>\u001b[0;34m()\u001b[0m\n\u001b[1;32m     22\u001b[0m                         \u001b[0;31m#validation_split=VALIDATION_SIZE,\u001b[0m\u001b[0;34m\u001b[0m\u001b[0;34m\u001b[0m\u001b[0;34m\u001b[0m\u001b[0m\n\u001b[1;32m     23\u001b[0m                         \u001b[0mvalidation_data\u001b[0m\u001b[0;34m=\u001b[0m\u001b[0mdata_val\u001b[0m\u001b[0;34m,\u001b[0m\u001b[0;34m\u001b[0m\u001b[0;34m\u001b[0m\u001b[0m\n\u001b[0;32m---> 24\u001b[0;31m                         callbacks=callbacks)\n\u001b[0m",
      "\u001b[0;32m/usr/local/lib/python3.6/dist-packages/tensorflow/python/keras/engine/training.py\u001b[0m in \u001b[0;36m_method_wrapper\u001b[0;34m(self, *args, **kwargs)\u001b[0m\n\u001b[1;32m    106\u001b[0m   \u001b[0;32mdef\u001b[0m \u001b[0m_method_wrapper\u001b[0m\u001b[0;34m(\u001b[0m\u001b[0mself\u001b[0m\u001b[0;34m,\u001b[0m \u001b[0;34m*\u001b[0m\u001b[0margs\u001b[0m\u001b[0;34m,\u001b[0m \u001b[0;34m**\u001b[0m\u001b[0mkwargs\u001b[0m\u001b[0;34m)\u001b[0m\u001b[0;34m:\u001b[0m\u001b[0;34m\u001b[0m\u001b[0;34m\u001b[0m\u001b[0m\n\u001b[1;32m    107\u001b[0m     \u001b[0;32mif\u001b[0m \u001b[0;32mnot\u001b[0m \u001b[0mself\u001b[0m\u001b[0;34m.\u001b[0m\u001b[0m_in_multi_worker_mode\u001b[0m\u001b[0;34m(\u001b[0m\u001b[0;34m)\u001b[0m\u001b[0;34m:\u001b[0m  \u001b[0;31m# pylint: disable=protected-access\u001b[0m\u001b[0;34m\u001b[0m\u001b[0;34m\u001b[0m\u001b[0m\n\u001b[0;32m--> 108\u001b[0;31m       \u001b[0;32mreturn\u001b[0m \u001b[0mmethod\u001b[0m\u001b[0;34m(\u001b[0m\u001b[0mself\u001b[0m\u001b[0;34m,\u001b[0m \u001b[0;34m*\u001b[0m\u001b[0margs\u001b[0m\u001b[0;34m,\u001b[0m \u001b[0;34m**\u001b[0m\u001b[0mkwargs\u001b[0m\u001b[0;34m)\u001b[0m\u001b[0;34m\u001b[0m\u001b[0;34m\u001b[0m\u001b[0m\n\u001b[0m\u001b[1;32m    109\u001b[0m \u001b[0;34m\u001b[0m\u001b[0m\n\u001b[1;32m    110\u001b[0m     \u001b[0;31m# Running inside `run_distribute_coordinator` already.\u001b[0m\u001b[0;34m\u001b[0m\u001b[0;34m\u001b[0m\u001b[0;34m\u001b[0m\u001b[0m\n",
      "\u001b[0;32m/usr/local/lib/python3.6/dist-packages/tensorflow/python/keras/engine/training.py\u001b[0m in \u001b[0;36mfit\u001b[0;34m(self, x, y, batch_size, epochs, verbose, callbacks, validation_split, validation_data, shuffle, class_weight, sample_weight, initial_epoch, steps_per_epoch, validation_steps, validation_batch_size, validation_freq, max_queue_size, workers, use_multiprocessing)\u001b[0m\n\u001b[1;32m   1096\u001b[0m                 batch_size=batch_size):\n\u001b[1;32m   1097\u001b[0m               \u001b[0mcallbacks\u001b[0m\u001b[0;34m.\u001b[0m\u001b[0mon_train_batch_begin\u001b[0m\u001b[0;34m(\u001b[0m\u001b[0mstep\u001b[0m\u001b[0;34m)\u001b[0m\u001b[0;34m\u001b[0m\u001b[0;34m\u001b[0m\u001b[0m\n\u001b[0;32m-> 1098\u001b[0;31m               \u001b[0mtmp_logs\u001b[0m \u001b[0;34m=\u001b[0m \u001b[0mtrain_function\u001b[0m\u001b[0;34m(\u001b[0m\u001b[0miterator\u001b[0m\u001b[0;34m)\u001b[0m\u001b[0;34m\u001b[0m\u001b[0;34m\u001b[0m\u001b[0m\n\u001b[0m\u001b[1;32m   1099\u001b[0m               \u001b[0;32mif\u001b[0m \u001b[0mdata_handler\u001b[0m\u001b[0;34m.\u001b[0m\u001b[0mshould_sync\u001b[0m\u001b[0;34m:\u001b[0m\u001b[0;34m\u001b[0m\u001b[0;34m\u001b[0m\u001b[0m\n\u001b[1;32m   1100\u001b[0m                 \u001b[0mcontext\u001b[0m\u001b[0;34m.\u001b[0m\u001b[0masync_wait\u001b[0m\u001b[0;34m(\u001b[0m\u001b[0;34m)\u001b[0m\u001b[0;34m\u001b[0m\u001b[0;34m\u001b[0m\u001b[0m\n",
      "\u001b[0;32m/usr/local/lib/python3.6/dist-packages/tensorflow/python/eager/def_function.py\u001b[0m in \u001b[0;36m__call__\u001b[0;34m(self, *args, **kwds)\u001b[0m\n\u001b[1;32m    778\u001b[0m       \u001b[0;32melse\u001b[0m\u001b[0;34m:\u001b[0m\u001b[0;34m\u001b[0m\u001b[0;34m\u001b[0m\u001b[0m\n\u001b[1;32m    779\u001b[0m         \u001b[0mcompiler\u001b[0m \u001b[0;34m=\u001b[0m \u001b[0;34m\"nonXla\"\u001b[0m\u001b[0;34m\u001b[0m\u001b[0;34m\u001b[0m\u001b[0m\n\u001b[0;32m--> 780\u001b[0;31m         \u001b[0mresult\u001b[0m \u001b[0;34m=\u001b[0m \u001b[0mself\u001b[0m\u001b[0;34m.\u001b[0m\u001b[0m_call\u001b[0m\u001b[0;34m(\u001b[0m\u001b[0;34m*\u001b[0m\u001b[0margs\u001b[0m\u001b[0;34m,\u001b[0m \u001b[0;34m**\u001b[0m\u001b[0mkwds\u001b[0m\u001b[0;34m)\u001b[0m\u001b[0;34m\u001b[0m\u001b[0;34m\u001b[0m\u001b[0m\n\u001b[0m\u001b[1;32m    781\u001b[0m \u001b[0;34m\u001b[0m\u001b[0m\n\u001b[1;32m    782\u001b[0m       \u001b[0mnew_tracing_count\u001b[0m \u001b[0;34m=\u001b[0m \u001b[0mself\u001b[0m\u001b[0;34m.\u001b[0m\u001b[0m_get_tracing_count\u001b[0m\u001b[0;34m(\u001b[0m\u001b[0;34m)\u001b[0m\u001b[0;34m\u001b[0m\u001b[0;34m\u001b[0m\u001b[0m\n",
      "\u001b[0;32m/usr/local/lib/python3.6/dist-packages/tensorflow/python/eager/def_function.py\u001b[0m in \u001b[0;36m_call\u001b[0;34m(self, *args, **kwds)\u001b[0m\n\u001b[1;32m    805\u001b[0m       \u001b[0;31m# In this case we have created variables on the first call, so we run the\u001b[0m\u001b[0;34m\u001b[0m\u001b[0;34m\u001b[0m\u001b[0;34m\u001b[0m\u001b[0m\n\u001b[1;32m    806\u001b[0m       \u001b[0;31m# defunned version which is guaranteed to never create variables.\u001b[0m\u001b[0;34m\u001b[0m\u001b[0;34m\u001b[0m\u001b[0;34m\u001b[0m\u001b[0m\n\u001b[0;32m--> 807\u001b[0;31m       \u001b[0;32mreturn\u001b[0m \u001b[0mself\u001b[0m\u001b[0;34m.\u001b[0m\u001b[0m_stateless_fn\u001b[0m\u001b[0;34m(\u001b[0m\u001b[0;34m*\u001b[0m\u001b[0margs\u001b[0m\u001b[0;34m,\u001b[0m \u001b[0;34m**\u001b[0m\u001b[0mkwds\u001b[0m\u001b[0;34m)\u001b[0m  \u001b[0;31m# pylint: disable=not-callable\u001b[0m\u001b[0;34m\u001b[0m\u001b[0;34m\u001b[0m\u001b[0m\n\u001b[0m\u001b[1;32m    808\u001b[0m     \u001b[0;32melif\u001b[0m \u001b[0mself\u001b[0m\u001b[0;34m.\u001b[0m\u001b[0m_stateful_fn\u001b[0m \u001b[0;32mis\u001b[0m \u001b[0;32mnot\u001b[0m \u001b[0;32mNone\u001b[0m\u001b[0;34m:\u001b[0m\u001b[0;34m\u001b[0m\u001b[0;34m\u001b[0m\u001b[0m\n\u001b[1;32m    809\u001b[0m       \u001b[0;31m# Release the lock early so that multiple threads can perform the call\u001b[0m\u001b[0;34m\u001b[0m\u001b[0;34m\u001b[0m\u001b[0;34m\u001b[0m\u001b[0m\n",
      "\u001b[0;32m/usr/local/lib/python3.6/dist-packages/tensorflow/python/eager/function.py\u001b[0m in \u001b[0;36m__call__\u001b[0;34m(self, *args, **kwargs)\u001b[0m\n\u001b[1;32m   2827\u001b[0m     \u001b[0;32mwith\u001b[0m \u001b[0mself\u001b[0m\u001b[0;34m.\u001b[0m\u001b[0m_lock\u001b[0m\u001b[0;34m:\u001b[0m\u001b[0;34m\u001b[0m\u001b[0;34m\u001b[0m\u001b[0m\n\u001b[1;32m   2828\u001b[0m       \u001b[0mgraph_function\u001b[0m\u001b[0;34m,\u001b[0m \u001b[0margs\u001b[0m\u001b[0;34m,\u001b[0m \u001b[0mkwargs\u001b[0m \u001b[0;34m=\u001b[0m \u001b[0mself\u001b[0m\u001b[0;34m.\u001b[0m\u001b[0m_maybe_define_function\u001b[0m\u001b[0;34m(\u001b[0m\u001b[0margs\u001b[0m\u001b[0;34m,\u001b[0m \u001b[0mkwargs\u001b[0m\u001b[0;34m)\u001b[0m\u001b[0;34m\u001b[0m\u001b[0;34m\u001b[0m\u001b[0m\n\u001b[0;32m-> 2829\u001b[0;31m     \u001b[0;32mreturn\u001b[0m \u001b[0mgraph_function\u001b[0m\u001b[0;34m.\u001b[0m\u001b[0m_filtered_call\u001b[0m\u001b[0;34m(\u001b[0m\u001b[0margs\u001b[0m\u001b[0;34m,\u001b[0m \u001b[0mkwargs\u001b[0m\u001b[0;34m)\u001b[0m  \u001b[0;31m# pylint: disable=protected-access\u001b[0m\u001b[0;34m\u001b[0m\u001b[0;34m\u001b[0m\u001b[0m\n\u001b[0m\u001b[1;32m   2830\u001b[0m \u001b[0;34m\u001b[0m\u001b[0m\n\u001b[1;32m   2831\u001b[0m   \u001b[0;34m@\u001b[0m\u001b[0mproperty\u001b[0m\u001b[0;34m\u001b[0m\u001b[0;34m\u001b[0m\u001b[0m\n",
      "\u001b[0;32m/usr/local/lib/python3.6/dist-packages/tensorflow/python/eager/function.py\u001b[0m in \u001b[0;36m_filtered_call\u001b[0;34m(self, args, kwargs, cancellation_manager)\u001b[0m\n\u001b[1;32m   1846\u001b[0m                            resource_variable_ops.BaseResourceVariable))],\n\u001b[1;32m   1847\u001b[0m         \u001b[0mcaptured_inputs\u001b[0m\u001b[0;34m=\u001b[0m\u001b[0mself\u001b[0m\u001b[0;34m.\u001b[0m\u001b[0mcaptured_inputs\u001b[0m\u001b[0;34m,\u001b[0m\u001b[0;34m\u001b[0m\u001b[0;34m\u001b[0m\u001b[0m\n\u001b[0;32m-> 1848\u001b[0;31m         cancellation_manager=cancellation_manager)\n\u001b[0m\u001b[1;32m   1849\u001b[0m \u001b[0;34m\u001b[0m\u001b[0m\n\u001b[1;32m   1850\u001b[0m   \u001b[0;32mdef\u001b[0m \u001b[0m_call_flat\u001b[0m\u001b[0;34m(\u001b[0m\u001b[0mself\u001b[0m\u001b[0;34m,\u001b[0m \u001b[0margs\u001b[0m\u001b[0;34m,\u001b[0m \u001b[0mcaptured_inputs\u001b[0m\u001b[0;34m,\u001b[0m \u001b[0mcancellation_manager\u001b[0m\u001b[0;34m=\u001b[0m\u001b[0;32mNone\u001b[0m\u001b[0;34m)\u001b[0m\u001b[0;34m:\u001b[0m\u001b[0;34m\u001b[0m\u001b[0;34m\u001b[0m\u001b[0m\n",
      "\u001b[0;32m/usr/local/lib/python3.6/dist-packages/tensorflow/python/eager/function.py\u001b[0m in \u001b[0;36m_call_flat\u001b[0;34m(self, args, captured_inputs, cancellation_manager)\u001b[0m\n\u001b[1;32m   1922\u001b[0m       \u001b[0;31m# No tape is watching; skip to running the function.\u001b[0m\u001b[0;34m\u001b[0m\u001b[0;34m\u001b[0m\u001b[0;34m\u001b[0m\u001b[0m\n\u001b[1;32m   1923\u001b[0m       return self._build_call_outputs(self._inference_function.call(\n\u001b[0;32m-> 1924\u001b[0;31m           ctx, args, cancellation_manager=cancellation_manager))\n\u001b[0m\u001b[1;32m   1925\u001b[0m     forward_backward = self._select_forward_and_backward_functions(\n\u001b[1;32m   1926\u001b[0m         \u001b[0margs\u001b[0m\u001b[0;34m,\u001b[0m\u001b[0;34m\u001b[0m\u001b[0;34m\u001b[0m\u001b[0m\n",
      "\u001b[0;32m/usr/local/lib/python3.6/dist-packages/tensorflow/python/eager/function.py\u001b[0m in \u001b[0;36mcall\u001b[0;34m(self, ctx, args, cancellation_manager)\u001b[0m\n\u001b[1;32m    548\u001b[0m               \u001b[0minputs\u001b[0m\u001b[0;34m=\u001b[0m\u001b[0margs\u001b[0m\u001b[0;34m,\u001b[0m\u001b[0;34m\u001b[0m\u001b[0;34m\u001b[0m\u001b[0m\n\u001b[1;32m    549\u001b[0m               \u001b[0mattrs\u001b[0m\u001b[0;34m=\u001b[0m\u001b[0mattrs\u001b[0m\u001b[0;34m,\u001b[0m\u001b[0;34m\u001b[0m\u001b[0;34m\u001b[0m\u001b[0m\n\u001b[0;32m--> 550\u001b[0;31m               ctx=ctx)\n\u001b[0m\u001b[1;32m    551\u001b[0m         \u001b[0;32melse\u001b[0m\u001b[0;34m:\u001b[0m\u001b[0;34m\u001b[0m\u001b[0;34m\u001b[0m\u001b[0m\n\u001b[1;32m    552\u001b[0m           outputs = execute.execute_with_cancellation(\n",
      "\u001b[0;32m/usr/local/lib/python3.6/dist-packages/tensorflow/python/eager/execute.py\u001b[0m in \u001b[0;36mquick_execute\u001b[0;34m(op_name, num_outputs, inputs, attrs, ctx, name)\u001b[0m\n\u001b[1;32m     58\u001b[0m     \u001b[0mctx\u001b[0m\u001b[0;34m.\u001b[0m\u001b[0mensure_initialized\u001b[0m\u001b[0;34m(\u001b[0m\u001b[0;34m)\u001b[0m\u001b[0;34m\u001b[0m\u001b[0;34m\u001b[0m\u001b[0m\n\u001b[1;32m     59\u001b[0m     tensors = pywrap_tfe.TFE_Py_Execute(ctx._handle, device_name, op_name,\n\u001b[0;32m---> 60\u001b[0;31m                                         inputs, attrs, num_outputs)\n\u001b[0m\u001b[1;32m     61\u001b[0m   \u001b[0;32mexcept\u001b[0m \u001b[0mcore\u001b[0m\u001b[0;34m.\u001b[0m\u001b[0m_NotOkStatusException\u001b[0m \u001b[0;32mas\u001b[0m \u001b[0me\u001b[0m\u001b[0;34m:\u001b[0m\u001b[0;34m\u001b[0m\u001b[0;34m\u001b[0m\u001b[0m\n\u001b[1;32m     62\u001b[0m     \u001b[0;32mif\u001b[0m \u001b[0mname\u001b[0m \u001b[0;32mis\u001b[0m \u001b[0;32mnot\u001b[0m \u001b[0;32mNone\u001b[0m\u001b[0;34m:\u001b[0m\u001b[0;34m\u001b[0m\u001b[0;34m\u001b[0m\u001b[0m\n",
      "\u001b[0;31mKeyboardInterrupt\u001b[0m: "
     ]
    }
   ],
   "source": [
    "metrics=[tf.keras.metrics.Precision(),\n",
    "         tf.keras.metrics.Recall(),\n",
    "         dice_coef\n",
    "        ]\n",
    "callbacks = [\n",
    "             #tf.keras.callbacks.EarlyStopping(monitor='val_loss', patience=10, verbose=1),\n",
    "            tf.keras.callbacks.ReduceLROnPlateau(monitor='val_loss', factor=0.5)\n",
    "            ]\n",
    "if RESTORE_MODEL:\n",
    "    model = tf.keras.models.load_model(SAVE_DIR, custom_objects={'focal_tversky_loss': focal_tversky_loss, 'dice_coef': dice_coef})\n",
    "else:  \n",
    "    split = len(X_train) - int(len(X_train) * VALIDATION_SIZE)\n",
    "    data_train = tf.data.Dataset.from_tensor_slices((X_train[:split], y_train[:split])).batch(10)\n",
    "    data_val = tf.data.Dataset.from_tensor_slices((X_train[split:], y_train[split:])).batch(10)\n",
    "    \n",
    "    #model = model_function()\n",
    "    #model.compile(optimizer='adam',loss=focal_tversky_loss, metrics=metrics)\n",
    "    model.fit(data_train,\n",
    "                        #train_generator, \n",
    "                        epochs = NUM_EPOCHS,\n",
    "                        #steps_per_epoch=4,\n",
    "                        #validation_split=VALIDATION_SIZE,\n",
    "                        validation_data=data_val,\n",
    "                        callbacks=callbacks)"
   ]
  },
  {
   "cell_type": "code",
   "execution_count": 15,
   "metadata": {
    "ExecuteTime": {
     "end_time": "2020-12-06T10:01:59.825777Z",
     "start_time": "2020-12-06T10:01:59.754271Z"
    },
    "colab": {
     "base_uri": "https://localhost:8080/"
    },
    "id": "fon8F-kTFwc5",
    "outputId": "c7a07d22-3960-4967-94d6-ef28220d53ce"
   },
   "outputs": [
    {
     "name": "stdout",
     "output_type": "stream",
     "text": [
      "WARNING:tensorflow:From /usr/local/lib/python3.6/dist-packages/tensorflow/python/training/tracking/tracking.py:111: Model.state_updates (from tensorflow.python.keras.engine.training) is deprecated and will be removed in a future version.\n",
      "Instructions for updating:\n",
      "This property should not be used in TensorFlow 2.0, as updates are applied automatically.\n",
      "WARNING:tensorflow:From /usr/local/lib/python3.6/dist-packages/tensorflow/python/training/tracking/tracking.py:111: Layer.updates (from tensorflow.python.keras.engine.base_layer) is deprecated and will be removed in a future version.\n",
      "Instructions for updating:\n",
      "This property should not be used in TensorFlow 2.0, as updates are applied automatically.\n",
      "INFO:tensorflow:Assets written to: model_save/unet_2/900_batch_10/assets\n"
     ]
    }
   ],
   "source": [
    "from datetime import datetime\n",
    "if True:\n",
    "    now = datetime.now().strftime(\"%m-%d-%Y_%H-%M-%S\") + '/'\n",
    "    model.save('model_save/unet_2/900_batch_10')"
   ]
  },
  {
   "cell_type": "code",
   "execution_count": null,
   "metadata": {
    "ExecuteTime": {
     "end_time": "2020-12-06T10:03:27.987673Z",
     "start_time": "2020-12-06T10:02:00.250256Z"
    },
    "id": "TKYYdazscESJ"
   },
   "outputs": [],
   "source": [
    "train_predictions = model.predict(X_train).squeeze()\n",
    "test_predictions = model.predict(X_test).squeeze()"
   ]
  },
  {
   "cell_type": "code",
   "execution_count": null,
   "metadata": {
    "ExecuteTime": {
     "end_time": "2020-12-06T10:09:55.466140Z",
     "start_time": "2020-12-06T10:09:47.730765Z"
    },
    "id": "vz4CvXaicESK",
    "scrolled": false
   },
   "outputs": [],
   "source": [
    "visualize_random_predictions(X_train, y_train, train_predictions, size=10)"
   ]
  },
  {
   "cell_type": "code",
   "execution_count": null,
   "metadata": {
    "ExecuteTime": {
     "end_time": "2020-12-06T10:10:48.198245Z",
     "start_time": "2020-12-06T10:10:40.853592Z"
    },
    "id": "gOBmfitacESK",
    "scrolled": false
   },
   "outputs": [],
   "source": [
    "visualize_random_predictions(X_test, y_test, test_predictions, size=10)"
   ]
  },
  {
   "cell_type": "code",
   "execution_count": null,
   "metadata": {
    "ExecuteTime": {
     "end_time": "2020-12-06T10:39:05.500669Z",
     "start_time": "2020-12-06T10:38:43.929516Z"
    },
    "id": "63Bs6bcCcESK",
    "scrolled": true
   },
   "outputs": [],
   "source": [
    "data_gen = compute_entire_images_metrics(y_test, test_predictions)"
   ]
  },
  {
   "cell_type": "code",
   "execution_count": null,
   "metadata": {
    "id": "F6RFJHz2iyvs"
   },
   "outputs": [],
   "source": [
    "data_gen"
   ]
  },
  {
   "cell_type": "code",
   "execution_count": null,
   "metadata": {
    "id": "r8e2mNsBSiCG"
   },
   "outputs": [],
   "source": [
    "binary cross entropy 0.852952\n",
    "dice loss 0.860928"
   ]
  },
  {
   "cell_type": "code",
   "execution_count": 17,
   "metadata": {
    "colab": {
     "base_uri": "https://localhost:8080/"
    },
    "id": "cBqrBAhuu8an",
    "outputId": "eb96a52d-4b58-47bc-86bc-ee908b481750"
   },
   "outputs": [
    {
     "name": "stderr",
     "output_type": "stream",
     "text": [
      "Loading data/test_set_images/: 100%|██████████| 50/50 [00:19<00:00,  2.61it/s]\n"
     ]
    },
    {
     "name": "stdout",
     "output_type": "stream",
     "text": [
      "Predicting test images...\n",
      "Creating submission csv at location submissions/submission_12-14-2020_00-34-47.csv\n",
      "Writing predictions in folder data/predictions/\n"
     ]
    }
   ],
   "source": [
    "predict_submissions(model)"
   ]
  },
  {
   "cell_type": "code",
   "execution_count": 16,
   "metadata": {
    "ExecuteTime": {
     "end_time": "2020-12-02T14:45:07.625362Z",
     "start_time": "2020-12-02T14:44:47.715Z"
    },
    "colab": {
     "base_uri": "https://localhost:8080/",
     "height": 148
    },
    "id": "dGO1XeTzcESK",
    "outputId": "f90ce8b8-54f4-4659-98d2-14a04027896d"
   },
   "outputs": [
    {
     "name": "stdout",
     "output_type": "stream",
     "text": [
      "  adding: model_save/unet_2/900_batch_10/ (stored 0%)\n",
      "  adding: model_save/unet_2/900_batch_10/variables/ (stored 0%)\n",
      "  adding: model_save/unet_2/900_batch_10/variables/variables.data-00000-of-00001 (deflated 8%)\n",
      "  adding: model_save/unet_2/900_batch_10/variables/variables.index (deflated 79%)\n",
      "  adding: model_save/unet_2/900_batch_10/assets/ (stored 0%)\n",
      "  adding: model_save/unet_2/900_batch_10/saved_model.pb (deflated 91%)\n",
      "\n"
     ]
    },
    {
     "data": {
      "application/javascript": [
       "\n",
       "    async function download(id, filename, size) {\n",
       "      if (!google.colab.kernel.accessAllowed) {\n",
       "        return;\n",
       "      }\n",
       "      const div = document.createElement('div');\n",
       "      const label = document.createElement('label');\n",
       "      label.textContent = `Downloading \"${filename}\": `;\n",
       "      div.appendChild(label);\n",
       "      const progress = document.createElement('progress');\n",
       "      progress.max = size;\n",
       "      div.appendChild(progress);\n",
       "      document.body.appendChild(div);\n",
       "\n",
       "      const buffers = [];\n",
       "      let downloaded = 0;\n",
       "\n",
       "      const channel = await google.colab.kernel.comms.open(id);\n",
       "      // Send a message to notify the kernel that we're ready.\n",
       "      channel.send({})\n",
       "\n",
       "      for await (const message of channel.messages) {\n",
       "        // Send a message to notify the kernel that we're ready.\n",
       "        channel.send({})\n",
       "        if (message.buffers) {\n",
       "          for (const buffer of message.buffers) {\n",
       "            buffers.push(buffer);\n",
       "            downloaded += buffer.byteLength;\n",
       "            progress.value = downloaded;\n",
       "          }\n",
       "        }\n",
       "      }\n",
       "      const blob = new Blob(buffers, {type: 'application/binary'});\n",
       "      const a = document.createElement('a');\n",
       "      a.href = window.URL.createObjectURL(blob);\n",
       "      a.download = filename;\n",
       "      div.appendChild(a);\n",
       "      a.click();\n",
       "      div.remove();\n",
       "    }\n",
       "  "
      ],
      "text/plain": [
       "<IPython.core.display.Javascript object>"
      ]
     },
     "metadata": {
      "tags": []
     },
     "output_type": "display_data"
    },
    {
     "data": {
      "application/javascript": [
       "download(\"download_03ac116f-02fe-4eff-93ed-b9f62150a895\", \"900_batch_10.zip\", 50039888)"
      ],
      "text/plain": [
       "<IPython.core.display.Javascript object>"
      ]
     },
     "metadata": {
      "tags": []
     },
     "output_type": "display_data"
    }
   ],
   "source": [
    "if COLAB:\n",
    "    from helpers.colab import download_model\n",
    "    from google.colab import files\n",
    "    download_model('900_batch_10', 'model_save/unet_2/900_batch_10', files)"
   ]
  },
  {
   "cell_type": "code",
   "execution_count": null,
   "metadata": {
    "id": "3JnCcZTWZ-X3"
   },
   "outputs": [],
   "source": []
  }
 ],
 "metadata": {
  "accelerator": "GPU",
  "colab": {
   "collapsed_sections": [],
   "name": "pipeline.ipynb",
   "provenance": []
  },
  "kernelspec": {
   "display_name": "Python 3",
   "language": "python",
   "name": "python3"
  },
  "language_info": {
   "codemirror_mode": {
    "name": "ipython",
    "version": 3
   },
   "file_extension": ".py",
   "mimetype": "text/x-python",
   "name": "python",
   "nbconvert_exporter": "python",
   "pygments_lexer": "ipython3",
   "version": "3.8.2"
  },
  "toc": {
   "base_numbering": 1,
   "nav_menu": {},
   "number_sections": true,
   "sideBar": true,
   "skip_h1_title": false,
   "title_cell": "Table of Contents",
   "title_sidebar": "Contents",
   "toc_cell": false,
   "toc_position": {},
   "toc_section_display": true,
   "toc_window_display": false
  }
 },
 "nbformat": 4,
 "nbformat_minor": 1
}
