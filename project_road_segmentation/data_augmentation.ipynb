{
 "cells": [
  {
   "cell_type": "code",
   "execution_count": 2,
   "metadata": {
    "ExecuteTime": {
     "end_time": "2020-12-03T14:36:59.270443Z",
     "start_time": "2020-12-03T14:36:36.932716Z"
    }
   },
   "outputs": [],
   "source": [
    "import os\n",
    "import sys\n",
    "import numpy as np\n",
    "from tqdm import tqdm\n",
    "from PIL import Image\n",
    "import matplotlib.pyplot as plt\n",
    "import matplotlib.image as mpimg\n",
    "from tensorflow.keras.preprocessing.image import ImageDataGenerator"
   ]
  },
  {
   "cell_type": "code",
   "execution_count": 3,
   "metadata": {
    "ExecuteTime": {
     "end_time": "2020-12-03T14:36:59.377910Z",
     "start_time": "2020-12-03T14:36:59.272742Z"
    }
   },
   "outputs": [],
   "source": [
    "%reload_ext autoreload\n",
    "%autoreload 2"
   ]
  },
  {
   "cell_type": "code",
   "execution_count": 4,
   "metadata": {
    "ExecuteTime": {
     "end_time": "2020-12-03T14:36:59.484514Z",
     "start_time": "2020-12-03T14:36:59.382721Z"
    }
   },
   "outputs": [],
   "source": [
    "sys.path.append('./')\n",
    "from helpers.helpers import *\n",
    "from helpers.mask_to_submission import *"
   ]
  },
  {
   "cell_type": "code",
   "execution_count": 5,
   "metadata": {
    "ExecuteTime": {
     "end_time": "2020-12-03T14:36:59.576372Z",
     "start_time": "2020-12-03T14:36:59.489170Z"
    }
   },
   "outputs": [],
   "source": [
    "TRAINING_SAMPLES = 100 #max 100\n",
    "\n",
    "GENERATION_FOLDER = 'data/generated/'\n",
    "data_dir = 'data/training/'\n",
    "train_data_filename = data_dir + 'images/'\n",
    "train_labels_filename = data_dir + 'groundtruth/' "
   ]
  },
  {
   "cell_type": "markdown",
   "metadata": {},
   "source": [
    "# Image generation"
   ]
  },
  {
   "cell_type": "code",
   "execution_count": 6,
   "metadata": {
    "ExecuteTime": {
     "end_time": "2020-12-03T14:37:05.095628Z",
     "start_time": "2020-12-03T14:36:59.578927Z"
    },
    "scrolled": false
   },
   "outputs": [
    {
     "name": "stderr",
     "output_type": "stream",
     "text": [
      "100%|██████████| 100/100 [00:03<00:00, 27.15it/s]\n"
     ]
    },
    {
     "name": "stdout",
     "output_type": "stream",
     "text": [
      "Loaded 100 images\n"
     ]
    },
    {
     "name": "stderr",
     "output_type": "stream",
     "text": [
      "100%|██████████| 100/100 [00:00<00:00, 179.43it/s]\n"
     ]
    },
    {
     "name": "stdout",
     "output_type": "stream",
     "text": [
      "Loaded 100 images\n"
     ]
    }
   ],
   "source": [
    "def read_images(filename, num_images):\n",
    "    imgs = []\n",
    "    for i in tqdm(range(1, num_images+1)):\n",
    "        imageid = \"satImage_%.3d\" % i\n",
    "        image_filename = filename + imageid + \".png\"\n",
    "        if os.path.isfile(image_filename):\n",
    "            img = mpimg.imread(image_filename)\n",
    "            imgs.append(img)\n",
    "        else:\n",
    "            print('File ' + image_filename + ' does not exist')\n",
    "    print('Loaded {} images'.format(len(imgs)))\n",
    "    return np.asarray(imgs)\n",
    "\n",
    "def convert_3c(groundtruths):\n",
    "    def img_1c_to_3c(gt_img):\n",
    "        w = gt_img.shape[0]\n",
    "        h = gt_img.shape[1]\n",
    "        gt_img_3c = np.zeros((w, h, 3), dtype=np.uint8)\n",
    "        gt_img8 = img_float_to_uint8(gt_img)          \n",
    "        gt_img_3c[:, :, 0] = gt_img8\n",
    "        gt_img_3c[:, :, 1] = gt_img8\n",
    "        gt_img_3c[:, :, 2] = gt_img8\n",
    "        return gt_img_3c\n",
    "    gt_3c = list(map(img_1c_to_3c, groundtruths))\n",
    "    return np.asarray(gt_3c, dtype='float') / 255 # scale in [0, 1]\n",
    "\n",
    "images = read_images(train_data_filename, TRAINING_SAMPLES)\n",
    "groundtruths = read_images(train_labels_filename, TRAINING_SAMPLES) #1 channel groundtruths\n",
    "masks = convert_3c(groundtruths) # 3 channels groundtruths"
   ]
  },
  {
   "cell_type": "code",
   "execution_count": 7,
   "metadata": {
    "ExecuteTime": {
     "end_time": "2020-12-03T14:37:05.177699Z",
     "start_time": "2020-12-03T14:37:05.098194Z"
    }
   },
   "outputs": [],
   "source": [
    "def generate_images(images, masks, data_gen_args, folder, nb_image=TRAINING_SAMPLES, seed=SEED):\n",
    "    \"\"\"\n",
    "    :param data_gen_args: augmentation arguments for the ImageDataGenerator\n",
    "    :param folder: DO NOT INCLUDE ENDING SLASH \"/\", name of the folder where the images will be generated \n",
    "    :param nb_image: number of images to generate\n",
    "    :param seed: can be set to None\n",
    "    \"\"\"\n",
    "    #Folder where generate images\n",
    "    path = GENERATION_FOLDER + folder\n",
    "    img_path = path + '/images'\n",
    "    gt_path = path + '/groundtruth'\n",
    "    if not os.path.isdir(path) or not os.path.isdir(img_path) or not os.path.isdir(gt_path):\n",
    "        os.mkdir(path)\n",
    "        os.mkdir(img_path)\n",
    "        os.mkdir(gt_path)\n",
    "    \n",
    "    image_datagen = ImageDataGenerator(**data_gen_args)\n",
    "    mask_datagen = ImageDataGenerator(**data_gen_args)\n",
    "    \n",
    "    # Provide the same seed and keyword arguments to the fit and flow methods\n",
    "    image_datagen.fit(images, augment=True, seed=seed)\n",
    "    mask_datagen.fit(masks, augment=True, seed=seed)\n",
    "\n",
    "    image_generator = image_datagen.flow(images, batch_size=1, seed=seed) #batchsize of 32\n",
    "    mask_generator = mask_datagen.flow(masks, batch_size=1, seed=seed)\n",
    "\n",
    "    # combine generators into one which yields image and masks\n",
    "    train_generator = zip(image_generator, mask_generator)\n",
    "    \n",
    "    #Visualize some augmented data\n",
    "    fig, axes=plt.subplots(2,2, figsize=(15,10))\n",
    "    i = 0\n",
    "    for X_batch, y_batch in train_generator:\n",
    "        # create a grid of 3x3 images\n",
    "        img = concatenate_images(X_batch[0], y_batch[0])\n",
    "        axes[i//2, i%2].imshow(img)\n",
    "        i += 1\n",
    "        if i >= 4:\n",
    "            # show the plot\n",
    "            plt.show()\n",
    "            break;\n",
    "    \n",
    "    #Generate nb_image new images along with masks\n",
    "    nb_generated = 1\n",
    "    for X_batch, y_batch in tqdm(train_generator):\n",
    "        #Write image and mask\n",
    "        mpimg.imsave(f\"{img_path}/satImage_{nb_generated:03d}.png\", X_batch[0])\n",
    "        mpimg.imsave(f\"{gt_path}/satImage_{nb_generated:03d}.png\", y_batch[0])\n",
    "\n",
    "        nb_generated += 1    \n",
    "        if nb_generated > nb_image:\n",
    "            break\n",
    "\n",
    "    print(f\"Generated {nb_generated - 1} images in the folder {folder}\")"
   ]
  },
  {
   "cell_type": "code",
   "execution_count": 8,
   "metadata": {
    "ExecuteTime": {
     "end_time": "2020-12-03T14:37:05.249351Z",
     "start_time": "2020-12-03T14:37:05.180993Z"
    }
   },
   "outputs": [],
   "source": [
    "# List of interesting transformations: rotation_range, vertical/horizontal_flip, width/height_shift_range\n",
    "data_gen_args = dict(fill_mode='reflect',\n",
    "#                  rotation_range=45,\n",
    "#                  horizontal_flip=True,\n",
    "#                  vertical_flip=True,\n",
    "                 width_shift_range=0.5,\n",
    "                 height_shift_range=0.5,\n",
    "                 )\n",
    "\n",
    "#generate_images(images, masks, data_gen_args, 'shift')"
   ]
  },
  {
   "cell_type": "markdown",
   "metadata": {},
   "source": [
    "# Image load"
   ]
  },
  {
   "cell_type": "code",
   "execution_count": 52,
   "metadata": {
    "ExecuteTime": {
     "end_time": "2020-12-03T15:01:54.918814Z",
     "start_time": "2020-12-03T15:01:54.840752Z"
    }
   },
   "outputs": [],
   "source": [
    "def load_generated_data(generated_folder, transformations=None):\n",
    "    \"\"\"\n",
    "    :param generated_folder: top folder containing the transformations\n",
    "    :param transformations: list of transformation folders to load, if None load everything, \n",
    "    current possible values: ['mix', 'flip', 'shift', 'rotation']\n",
    "    \"\"\"\n",
    "    # List all possible folders we can load\n",
    "    # Condition using isdir to exclude files like .DS_Store etc.\n",
    "    folders_to_load = [folder for folder in os.listdir(generated_folder) if os.path.isdir(generated_folder + folder)]\n",
    "\n",
    "    # If specific folders are specified\n",
    "    if transformations != None:\n",
    "        folders_to_load = [folder for folder in transformations if folder in folders_to_load]\n",
    "    \n",
    "    images = []\n",
    "    groundtruths = []\n",
    "    for folder in folders_to_load:\n",
    "        image_path = generated_folder + folder + '/images/'\n",
    "        gt_path = generated_folder + folder + '/groundtruth/'\n",
    "        images.append(load_folder(image_path))\n",
    "        groundtruths.append(load_folder(gt_path))\n",
    "    return np.concatenate(images,axis=0), np.concatenate(groundtruths, axis=0)\n",
    "    \n",
    "def load_folder(path):\n",
    "    \"\"\"\n",
    "    Load every image in the fodler at path with name format 'satImage'\n",
    "    \"\"\"\n",
    "    imgs = []\n",
    "    image_names = sorted([path + image for image in os.listdir(path) if 'satImage' in image])\n",
    "    for image_name in tqdm(image_names, desc=\"Loading \" + path):\n",
    "        img = mpimg.imread(image_name)\n",
    "        imgs.append(img)\n",
    "    return imgs\n",
    "\n"
   ]
  },
  {
   "cell_type": "code",
   "execution_count": 53,
   "metadata": {
    "ExecuteTime": {
     "end_time": "2020-12-03T15:02:06.926477Z",
     "start_time": "2020-12-03T15:01:55.345762Z"
    }
   },
   "outputs": [
    {
     "name": "stderr",
     "output_type": "stream",
     "text": [
      "Loading data/generated/mix/images/: 100%|██████████| 100/100 [00:02<00:00, 47.59it/s]\n",
      "Loading data/generated/mix/groundtruth/: 100%|██████████| 100/100 [00:01<00:00, 90.92it/s]\n",
      "Loading data/generated/flip/images/: 100%|██████████| 100/100 [00:02<00:00, 40.77it/s]\n",
      "Loading data/generated/flip/groundtruth/: 100%|██████████| 100/100 [00:00<00:00, 109.25it/s]\n"
     ]
    }
   ],
   "source": [
    "images, groundtruths = load_generated_data(GENERATION_FOLDER, transformations=['mix', 'flip'])"
   ]
  },
  {
   "cell_type": "code",
   "execution_count": 54,
   "metadata": {
    "ExecuteTime": {
     "end_time": "2020-12-03T15:02:08.370171Z",
     "start_time": "2020-12-03T15:02:08.290069Z"
    }
   },
   "outputs": [
    {
     "data": {
      "text/plain": [
       "(200, 400, 400, 4)"
      ]
     },
     "execution_count": 54,
     "metadata": {},
     "output_type": "execute_result"
    }
   ],
   "source": [
    "groundtruths.shape"
   ]
  },
  {
   "cell_type": "code",
   "execution_count": 26,
   "metadata": {
    "ExecuteTime": {
     "end_time": "2020-12-03T14:43:04.410794Z",
     "start_time": "2020-12-03T14:43:01.987894Z"
    }
   },
   "outputs": [
    {
     "name": "stderr",
     "output_type": "stream",
     "text": [
      "Loading data/generated/mix/images/: 100%|██████████| 100/100 [00:02<00:00, 48.81it/s]\n"
     ]
    },
    {
     "name": "stdout",
     "output_type": "stream",
     "text": [
      "Loaded 100 images from data/generated/mix/images/\n"
     ]
    }
   ],
   "source": [
    "test = load_folder('data/generated/mix/images/')"
   ]
  },
  {
   "cell_type": "code",
   "execution_count": null,
   "metadata": {},
   "outputs": [],
   "source": []
  }
 ],
 "metadata": {
  "kernelspec": {
   "display_name": "Python 3",
   "language": "python",
   "name": "python3"
  },
  "language_info": {
   "codemirror_mode": {
    "name": "ipython",
    "version": 3
   },
   "file_extension": ".py",
   "mimetype": "text/x-python",
   "name": "python",
   "nbconvert_exporter": "python",
   "pygments_lexer": "ipython3",
   "version": "3.7.1"
  },
  "toc": {
   "base_numbering": 1,
   "nav_menu": {},
   "number_sections": true,
   "sideBar": true,
   "skip_h1_title": false,
   "title_cell": "Table of Contents",
   "title_sidebar": "Contents",
   "toc_cell": false,
   "toc_position": {},
   "toc_section_display": true,
   "toc_window_display": false
  }
 },
 "nbformat": 4,
 "nbformat_minor": 4
}
