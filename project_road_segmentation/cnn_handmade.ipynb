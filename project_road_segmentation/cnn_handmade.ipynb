{
 "cells": [
  {
   "cell_type": "code",
   "execution_count": 1,
   "metadata": {
    "ExecuteTime": {
     "end_time": "2020-11-05T18:48:08.818665Z",
     "start_time": "2020-11-05T18:47:42.516581Z"
    }
   },
   "outputs": [],
   "source": [
    "import os\n",
    "import sys\n",
    "import gzip\n",
    "import code\n",
    "import urllib\n",
    "import numpy as np\n",
    "from PIL import Image\n",
    "import tensorflow as tf\n",
    "import tensorflow.python.platform\n",
    "import matplotlib.image as mpimg\n",
    "from tensorflow.keras import layers, models\n",
    "from sklearn.model_selection import train_test_split"
   ]
  },
  {
   "cell_type": "code",
   "execution_count": 2,
   "metadata": {
    "ExecuteTime": {
     "end_time": "2020-11-05T18:48:08.900643Z",
     "start_time": "2020-11-05T18:48:08.821622Z"
    }
   },
   "outputs": [],
   "source": [
    "%reload_ext autoreload\n",
    "%autoreload 2"
   ]
  },
  {
   "cell_type": "code",
   "execution_count": 3,
   "metadata": {
    "ExecuteTime": {
     "end_time": "2020-11-05T18:48:09.053352Z",
     "start_time": "2020-11-05T18:48:08.904076Z"
    }
   },
   "outputs": [],
   "source": [
    "sys.path.append('./')\n",
    "from helpers.helpers import *\n",
    "from helpers.mask_to_submission import *"
   ]
  },
  {
   "cell_type": "code",
   "execution_count": 9,
   "metadata": {
    "ExecuteTime": {
     "end_time": "2020-11-05T18:48:18.453049Z",
     "start_time": "2020-11-05T18:48:18.320905Z"
    }
   },
   "outputs": [],
   "source": [
    "NUM_CHANNELS = 3  # RGB images\n",
    "PIXEL_DEPTH = 255\n",
    "NUM_LABELS = 2\n",
    "TRAINING_SIZE = 80\n",
    "SEED = 66478  # Set to None for random seed.\n",
    "BATCH_SIZE = 16  # 64\n",
    "NUM_EPOCHS = 10\n",
    "RESTORE_MODEL = False  # If True, restore existing model instead of training a new one\n",
    "RECORDING_STEP = 0\n",
    "\n",
    "# Set image patch size in pixels\n",
    "# IMG_PATCH_SIZE should be a multiple of 4\n",
    "# image size should be an integer multiple of this number!\n",
    "IMG_PATCH_SIZE = 16"
   ]
  },
  {
   "cell_type": "code",
   "execution_count": 5,
   "metadata": {
    "ExecuteTime": {
     "end_time": "2020-11-05T18:48:16.522835Z",
     "start_time": "2020-11-05T18:48:09.121262Z"
    }
   },
   "outputs": [
    {
     "name": "stderr",
     "output_type": "stream",
     "text": [
      "100%|██████████| 100/100 [00:01<00:00, 51.40it/s]\n"
     ]
    },
    {
     "name": "stdout",
     "output_type": "stream",
     "text": [
      "Loaded 100 training images\n"
     ]
    },
    {
     "name": "stderr",
     "output_type": "stream",
     "text": [
      "100%|██████████| 100/100 [00:00<00:00, 415.11it/s]\n"
     ]
    },
    {
     "name": "stdout",
     "output_type": "stream",
     "text": [
      "Loaded 100 groudtruth images\n"
     ]
    }
   ],
   "source": [
    "data_dir = 'data/training/'\n",
    "train_data_filename = data_dir + 'images/'\n",
    "train_labels_filename = data_dir + 'groundtruth/' \n",
    "\n",
    "# Extract pixel patches into numpy arrays. Dim: (nb patch, 16, 16, 3)\n",
    "training_data = extract_data(train_data_filename, 100)\n",
    "training_labels = extract_labels(train_labels_filename, 100)"
   ]
  },
  {
   "cell_type": "code",
   "execution_count": 6,
   "metadata": {
    "ExecuteTime": {
     "end_time": "2020-11-05T18:48:16.853600Z",
     "start_time": "2020-11-05T18:48:16.537850Z"
    }
   },
   "outputs": [
    {
     "name": "stdout",
     "output_type": "stream",
     "text": [
      "(50000, 16, 16, 3)\n",
      "(12500, 16, 16, 3)\n"
     ]
    }
   ],
   "source": [
    "#Create training sets and validation sets\n",
    "X_train, X_validation, y_train, y_validation = train_test_split(training_data, training_labels,\\\n",
    "                                                    train_size= TRAINING_SIZE/100, random_state=SEED)\n",
    "print(X_train.shape)\n",
    "print(X_validation.shape)"
   ]
  },
  {
   "cell_type": "code",
   "execution_count": 7,
   "metadata": {
    "ExecuteTime": {
     "end_time": "2020-11-05T18:48:18.085009Z",
     "start_time": "2020-11-05T18:48:16.857151Z"
    }
   },
   "outputs": [
    {
     "name": "stdout",
     "output_type": "stream",
     "text": [
      "Number of data points per class: c0 = 37053 c1 = 12947\n",
      "Balancing training data...\n",
      "25894\n",
      "(50000, 16, 16, 3)\n",
      "Number of data points per class: c0 = 12947 c1 = 12947\n"
     ]
    }
   ],
   "source": [
    "# Balance the categories such that there is the same number of background pixel\n",
    "# as road pixel\n",
    "\n",
    "c0 = 0  # bgrd\n",
    "c1 = 0  # road\n",
    "for i in range(len(y_train)):\n",
    "    if y_train[i][0] == 1:\n",
    "        c0 = c0 + 1\n",
    "    else:\n",
    "        c1 = c1 + 1\n",
    "print('Number of data points per class: c0 = ' + str(c0) + ' c1 = ' + str(c1))\n",
    "\n",
    "print('Balancing training data...')\n",
    "min_c = min(c0, c1)\n",
    "idx0 = [i for i, j in enumerate(y_train) if j[0] == 1]\n",
    "idx1 = [i for i, j in enumerate(y_train) if j[1] == 1]\n",
    "new_indices = idx0[0:min_c] + idx1[0:min_c]\n",
    "print(len(new_indices))\n",
    "print(X_train.shape)\n",
    "X_train = X_train[new_indices, :, :, :]\n",
    "y_train = y_train[new_indices]\n",
    "\n",
    "train_size = y_train.shape[0]\n",
    "\n",
    "c0 = 0\n",
    "c1 = 0\n",
    "for i in range(len(y_train)):\n",
    "    if y_train[i][0] == 1:\n",
    "        c0 = c0 + 1\n",
    "    else:\n",
    "        c1 = c1 + 1\n",
    "print('Number of data points per class: c0 = ' + str(c0) + ' c1 = ' + str(c1))"
   ]
  },
  {
   "cell_type": "code",
   "execution_count": 8,
   "metadata": {
    "ExecuteTime": {
     "end_time": "2020-11-05T18:48:18.312900Z",
     "start_time": "2020-11-05T18:48:18.113503Z"
    }
   },
   "outputs": [
    {
     "data": {
      "text/plain": [
       "(25894, 16, 16, 3)"
      ]
     },
     "execution_count": 8,
     "metadata": {},
     "output_type": "execute_result"
    }
   ],
   "source": [
    "X_train.shape"
   ]
  },
  {
   "cell_type": "code",
   "execution_count": 92,
   "metadata": {
    "ExecuteTime": {
     "end_time": "2020-11-04T15:02:56.716752Z",
     "start_time": "2020-11-04T15:02:56.332294Z"
    }
   },
   "outputs": [],
   "source": [
    "if RESTORE_MODEL:\n",
    "    # Reconstruct the model identically.\n",
    "    model = models.load_model(\"handmade_cnn_save/\")"
   ]
  },
  {
   "cell_type": "code",
   "execution_count": 194,
   "metadata": {
    "ExecuteTime": {
     "end_time": "2020-11-04T17:10:12.225464Z",
     "start_time": "2020-11-04T17:10:11.674963Z"
    }
   },
   "outputs": [],
   "source": [
    "if not RESTORE_MODEL:\n",
    "    # Create the model\n",
    "    model = models.Sequential()\n",
    "    model.add(layers.Conv2D(32, (5, 5), activation='relu', input_shape=(16, 16, 3), padding='same', use_bias=True))\n",
    "    model.add(layers.MaxPooling2D((2, 2)))\n",
    "    model.add(layers.Conv2D(64, (5, 5), activation='relu', input_shape=(8, 8, 3), padding='same', use_bias=True))\n",
    "    model.add(layers.MaxPooling2D((2, 2)))\n",
    "    model.add(layers.Flatten())\n",
    "    model.add(layers.Dense(64, activation='relu'))\n",
    "    model.add(layers.Dense(2))\n",
    "model.summary()"
   ]
  },
  {
   "cell_type": "code",
   "execution_count": 196,
   "metadata": {
    "ExecuteTime": {
     "end_time": "2020-11-04T17:14:52.241055Z",
     "start_time": "2020-11-04T17:10:12.564317Z"
    },
    "scrolled": false
   },
   "outputs": [
    {
     "name": "stdout",
     "output_type": "stream",
     "text": [
      "Train on 50000 samples, validate on 12500 samples\n",
      "Epoch 1/10\n",
      "50000/50000 [==============================] - 29s 576us/sample - loss: 0.5158 - accuracy: 0.7441 - val_loss: 0.5002 - val_accuracy: 0.7546\n",
      "Epoch 2/10\n",
      "50000/50000 [==============================] - 26s 517us/sample - loss: 0.4725 - accuracy: 0.7636 - val_loss: 0.4545 - val_accuracy: 0.7714\n",
      "Epoch 3/10\n",
      "50000/50000 [==============================] - 28s 564us/sample - loss: 0.4361 - accuracy: 0.7853 - val_loss: 0.4591 - val_accuracy: 0.7666\n",
      "Epoch 4/10\n",
      "50000/50000 [==============================] - 29s 574us/sample - loss: 0.3971 - accuracy: 0.8105 - val_loss: 0.4176 - val_accuracy: 0.8034\n",
      "Epoch 5/10\n",
      "50000/50000 [==============================] - 25s 500us/sample - loss: 0.3750 - accuracy: 0.8209 - val_loss: 0.3874 - val_accuracy: 0.8149\n",
      "Epoch 6/10\n",
      "50000/50000 [==============================] - 27s 536us/sample - loss: 0.3567 - accuracy: 0.8309 - val_loss: 0.3796 - val_accuracy: 0.8238\n",
      "Epoch 7/10\n",
      "50000/50000 [==============================] - 30s 597us/sample - loss: 0.3390 - accuracy: 0.8425 - val_loss: 0.3963 - val_accuracy: 0.8181\n",
      "Epoch 8/10\n",
      "50000/50000 [==============================] - 30s 591us/sample - loss: 0.3218 - accuracy: 0.8489 - val_loss: 0.3963 - val_accuracy: 0.8163\n",
      "Epoch 9/10\n",
      "50000/50000 [==============================] - 29s 586us/sample - loss: 0.3053 - accuracy: 0.8582 - val_loss: 0.4200 - val_accuracy: 0.8180\n",
      "Epoch 10/10\n",
      "50000/50000 [==============================] - 26s 522us/sample - loss: 0.2870 - accuracy: 0.8670 - val_loss: 0.4027 - val_accuracy: 0.8160\n"
     ]
    }
   ],
   "source": [
    "if not RESTORE_MODEL: \n",
    "    # Train the model\n",
    "    model.compile(optimizer='adam',\n",
    "              loss=tf.keras.losses.CategoricalCrossentropy(from_logits=True),\n",
    "              metrics=['accuracy'])\n",
    "    history = model.fit(X_train, y_train, epochs=NUM_EPOCHS ,validation_data=(X_validation, y_validation))"
   ]
  },
  {
   "cell_type": "code",
   "execution_count": 197,
   "metadata": {
    "ExecuteTime": {
     "end_time": "2020-11-04T17:16:55.905801Z",
     "start_time": "2020-11-04T17:16:54.435955Z"
    }
   },
   "outputs": [
    {
     "name": "stdout",
     "output_type": "stream",
     "text": [
      "INFO:tensorflow:Assets written to: handmade_cnn_save/assets\n"
     ]
    }
   ],
   "source": [
    "if not RESTORE_MODEL:\n",
    "    model.save(\"handmade_cnn_save\")"
   ]
  },
  {
   "cell_type": "code",
   "execution_count": 198,
   "metadata": {
    "ExecuteTime": {
     "end_time": "2020-11-04T17:17:04.290342Z",
     "start_time": "2020-11-04T17:16:57.293991Z"
    }
   },
   "outputs": [
    {
     "name": "stdout",
     "output_type": "stream",
     "text": [
      "Training error rate: 11.23%\n"
     ]
    }
   ],
   "source": [
    "pred_train = model.predict(X_train)\n",
    "print(\"Training error rate: {:.2f}%\".format(error_rate(pred_train, y_train)))"
   ]
  },
  {
   "cell_type": "code",
   "execution_count": 199,
   "metadata": {
    "ExecuteTime": {
     "end_time": "2020-11-04T17:17:06.217546Z",
     "start_time": "2020-11-04T17:17:04.294217Z"
    }
   },
   "outputs": [
    {
     "name": "stdout",
     "output_type": "stream",
     "text": [
      "Validation error rate: 18.40%\n"
     ]
    }
   ],
   "source": [
    "pred_validation = model.predict(X_validation)\n",
    "print(\"Validation error rate: {:.2f}%\".format(error_rate(pred_validation, y_validation)))"
   ]
  },
  {
   "cell_type": "code",
   "execution_count": 200,
   "metadata": {
    "ExecuteTime": {
     "end_time": "2020-11-04T17:17:06.600860Z",
     "start_time": "2020-11-04T17:17:06.221598Z"
    }
   },
   "outputs": [
    {
     "name": "stdout",
     "output_type": "stream",
     "text": [
      "F1 score: 0.79\n"
     ]
    }
   ],
   "source": [
    "print(\"F1 score: {:.2f}\".format(F1_score(y_train, pred_train)))"
   ]
  },
  {
   "cell_type": "code",
   "execution_count": 146,
   "metadata": {
    "ExecuteTime": {
     "end_time": "2020-11-04T15:42:12.295880Z",
     "start_time": "2020-11-04T15:41:40.987577Z"
    }
   },
   "outputs": [
    {
     "name": "stdout",
     "output_type": "stream",
     "text": [
      "Running prediction on training set\n"
     ]
    }
   ],
   "source": [
    "#Create concatenation and overlay of training images and predictions\n",
    "\n",
    "print(\"Running prediction on training set\")\n",
    "prediction_training_dir = \"predictions_training/\"\n",
    "if not os.path.isdir(prediction_training_dir):\n",
    "    os.mkdir(prediction_training_dir)\n",
    "for i in range(1, TRAINING_SIZE + 1):\n",
    "    pimg = get_prediction_with_groundtruth(model, train_data_filename, i)\n",
    "    Image.fromarray(pimg).save(prediction_training_dir + \"prediction_\" + str(i) + \".png\")\n",
    "    oimg = get_prediction_with_overlay(model, train_data_filename, i)\n",
    "    oimg.save(prediction_training_dir + \"overlay_\" + str(i) + \".png\")  "
   ]
  },
  {
   "cell_type": "code",
   "execution_count": 179,
   "metadata": {
    "ExecuteTime": {
     "end_time": "2020-11-04T16:09:16.623322Z",
     "start_time": "2020-11-04T16:09:02.803475Z"
    }
   },
   "outputs": [
    {
     "name": "stdout",
     "output_type": "stream",
     "text": [
      "Running prediction on test set\n"
     ]
    }
   ],
   "source": [
    "test_dir = 'data/test_set_images/'\n",
    "prediction_test_dir = \"predictions_test/\"\n",
    "\n",
    "#Create the masks predicted for the test images\n",
    "predict_test_masks(model, test_dir, prediction_test_dir)"
   ]
  },
  {
   "cell_type": "code",
   "execution_count": 188,
   "metadata": {
    "ExecuteTime": {
     "end_time": "2020-11-04T16:50:10.530901Z",
     "start_time": "2020-11-04T16:50:07.800110Z"
    }
   },
   "outputs": [
    {
     "name": "stderr",
     "output_type": "stream",
     "text": [
      "100%|██████████| 50/50 [00:02<00:00, 20.46it/s]\n"
     ]
    }
   ],
   "source": [
    "#Create the submission csv\n",
    "masks_to_submission(\"submission.csv\", prediction_test_dir)"
   ]
  },
  {
   "cell_type": "code",
   "execution_count": null,
   "metadata": {},
   "outputs": [],
   "source": []
  }
 ],
 "metadata": {
  "kernelspec": {
   "display_name": "Python 3",
   "language": "python",
   "name": "python3"
  },
  "language_info": {
   "codemirror_mode": {
    "name": "ipython",
    "version": 3
   },
   "file_extension": ".py",
   "mimetype": "text/x-python",
   "name": "python",
   "nbconvert_exporter": "python",
   "pygments_lexer": "ipython3",
   "version": "3.7.1"
  },
  "toc": {
   "base_numbering": 1,
   "nav_menu": {},
   "number_sections": true,
   "sideBar": true,
   "skip_h1_title": false,
   "title_cell": "Table of Contents",
   "title_sidebar": "Contents",
   "toc_cell": false,
   "toc_position": {},
   "toc_section_display": true,
   "toc_window_display": false
  }
 },
 "nbformat": 4,
 "nbformat_minor": 4
}
