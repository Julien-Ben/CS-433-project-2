{
 "cells": [
  {
   "cell_type": "code",
   "execution_count": 1,
   "metadata": {
    "ExecuteTime": {
     "end_time": "2020-11-29T17:58:10.876380Z",
     "start_time": "2020-11-29T17:58:01.460980Z"
    },
    "id": "PzRKgXa8Fwc0"
   },
   "outputs": [],
   "source": [
    "import os\n",
    "import sys\n",
    "import gzip\n",
    "import code\n",
    "import urllib\n",
    "import numpy as np\n",
    "from PIL import Image\n",
    "import tensorflow as tf\n",
    "import tensorflow.python.platform\n",
    "import matplotlib.image as mpimg\n",
    "from tensorflow.keras import layers, models\n",
    "from sklearn.model_selection import train_test_split"
   ]
  },
  {
   "cell_type": "code",
   "execution_count": 3,
   "metadata": {
    "ExecuteTime": {
     "end_time": "2020-11-29T18:20:52.282711Z",
     "start_time": "2020-11-29T18:20:52.277725Z"
    },
    "id": "Ohxvz99vXOkY"
   },
   "outputs": [],
   "source": [
    "COLAB = True\n",
    "BRANCH_NAME = 'hugo' # Change with the name of you toying branch, or master\n",
    "RESTORE_MODEL = False  # If True, restore existing model instead of training a new one\n",
    "GENERATE_PREDICTION = False #If True, will generate a CSV to submit on AICrowd\n",
    "\n",
    "PREDICTIONS_SAVE_DIR = 'predictions/'\n",
    "MODELS_SAVE_DIR = 'model_save/'\n",
    "MODEL_NAME = 'cnn_handmade' #Chose between cnn_handmade and u-net\n",
    "\n",
    "TRAINING_SIZE = 80 # Size of the training set, integer between 0 and 100, the remaining part is for testing\n",
    "VALIDATION_SIZE = 0.20  # Size of the validation set, float between 0 and 1\n",
    "SEED = 66478  # Set to None for random seed.\n",
    "NUM_EPOCHS = 15\n",
    "\n",
    "NUM_CHANNELS = 3  # RGB images\n",
    "PIXEL_DEPTH = 255\n",
    "NUM_LABELS = 2\n",
    "BATCH_SIZE = 16  # 64\n",
    "RECORDING_STEP = 0\n",
    "\n",
    "# Set image patch size in pixels\n",
    "# IMG_PATCH_SIZE should be a multiple of 4\n",
    "# image size should be an integer multiple of this number!\n",
    "IMG_PATCH_SIZE = 16"
   ]
  },
  {
   "cell_type": "code",
   "execution_count": 4,
   "metadata": {
    "ExecuteTime": {
     "end_time": "2020-11-29T18:20:53.251697Z",
     "start_time": "2020-11-29T18:20:53.243719Z"
    },
    "colab": {
     "base_uri": "https://localhost:8080/"
    },
    "id": "FBdjGm_UPHP1",
    "outputId": "b6659e33-ec54-44f4-d404-d7c36f90d251"
   },
   "outputs": [
    {
     "ename": "SyntaxError",
     "evalue": "invalid syntax (colab.py, line 15)",
     "output_type": "error",
     "traceback": [
      "Traceback \u001b[1;36m(most recent call last)\u001b[0m:\n",
      "  File \u001b[0;32m\"c:\\users\\moi\\appdata\\local\\programs\\python\\python38\\lib\\site-packages\\IPython\\core\\interactiveshell.py\"\u001b[0m, line \u001b[0;32m3417\u001b[0m, in \u001b[0;35mrun_code\u001b[0m\n    exec(code_obj, self.user_global_ns, self.user_ns)\n",
      "\u001b[1;36m  File \u001b[1;32m\"<ipython-input-4-4dd9e1bd2287>\"\u001b[1;36m, line \u001b[1;32m2\u001b[1;36m, in \u001b[1;35m<module>\u001b[1;36m\u001b[0m\n\u001b[1;33m    from helpers.colab import mount_and_pull\u001b[0m\n",
      "\u001b[1;36m  File \u001b[1;32m\"C:\\Users\\Moi\\Desktop\\Desktop\\EPFL\\Master\\MA1\\CS-433 - Machine Learning\\CS-433-project-2\\project_road_segmentation\\helpers\\colab.py\"\u001b[1;36m, line \u001b[1;32m15\u001b[0m\n\u001b[1;33m    !git clone 'https://{}:{}@github.com/Julien-Ben/{}.git'.format(uname, password, repo)\u001b[0m\n\u001b[1;37m    ^\u001b[0m\n\u001b[1;31mSyntaxError\u001b[0m\u001b[1;31m:\u001b[0m invalid syntax\n"
     ]
    }
   ],
   "source": [
    "if COLAB:\n",
    "    from helpers.colab import mount_and_pull\n",
    "    mount_and_pull(BRANCH_NAME)"
   ]
  },
  {
   "cell_type": "code",
   "execution_count": 4,
   "metadata": {
    "ExecuteTime": {
     "end_time": "2020-11-29T17:58:57.346723Z",
     "start_time": "2020-11-29T17:58:57.335752Z"
    }
   },
   "outputs": [],
   "source": [
    "#TODO move into a python file for Unet model\n",
    "def down_block(x, filters, kernel_size=(3, 3), padding=\"same\", strides=1):\n",
    "    c = layers.Conv2D(filters, kernel_size, padding=padding, strides=strides, activation=\"relu\")(x)\n",
    "    c = layers.Conv2D(filters, kernel_size, padding=padding, strides=strides, activation=\"relu\")(c)\n",
    "    p = layers.MaxPool2D((2, 2), (2, 2))(c)\n",
    "    return c, p\n",
    "\n",
    "def up_block(x, skip, filters, kernel_size=(3, 3), padding=\"same\", strides=1):\n",
    "    us = layers.UpSampling2D((2, 2))(x)\n",
    "    concat = layers.Concatenate()([us, skip])\n",
    "    c = layers.Conv2D(filters, kernel_size, padding=padding, strides=strides, activation=\"relu\")(concat)\n",
    "    c = layers.Conv2D(filters, kernel_size, padding=padding, strides=strides, activation=\"relu\")(c)\n",
    "    return c\n",
    "\n",
    "def bottleneck(x, filters, kernel_size=(3, 3), padding=\"same\", strides=1):\n",
    "    c = layers.Conv2D(filters, kernel_size, padding=padding, strides=strides, activation=\"relu\")(x)\n",
    "    c = layers.Conv2D(filters, kernel_size, padding=padding, strides=strides, activation=\"relu\")(c)\n",
    "    return c"
   ]
  },
  {
   "cell_type": "code",
   "execution_count": 5,
   "metadata": {
    "ExecuteTime": {
     "end_time": "2020-11-29T17:58:57.934206Z",
     "start_time": "2020-11-29T17:58:57.926229Z"
    }
   },
   "outputs": [],
   "source": [
    "#TODO move into a python file for Unet model\n",
    "def UNet():\n",
    "    f = [16, 32, 64, 128, 256]\n",
    "    inputs = layers.Input((IMG_PATCH_SIZE, IMG_PATCH_SIZE, 3))\n",
    "    \n",
    "    p0 = inputs\n",
    "    c1, p1 = down_block(p0, f[0]) #128 -> 64\n",
    "    c2, p2 = down_block(p1, f[1]) #64 -> 32\n",
    "    c3, p3 = down_block(p2, f[2]) #32 -> 16\n",
    "    c4, p4 = down_block(p3, f[3]) #16->8\n",
    "    \n",
    "    bn = bottleneck(p4, f[4])\n",
    "    \n",
    "    u1 = up_block(bn, c4, f[3]) #8 -> 16\n",
    "    u2 = up_block(u1, c3, f[2]) #16 -> 32\n",
    "    u3 = up_block(u2, c2, f[1]) #32 -> 64\n",
    "    u4 = up_block(u3, c1, f[0]) #64 -> 128\n",
    "    \n",
    "    a0 = layers.Conv2D(1, (1, 1), padding=\"same\", activation=\"sigmoid\")(u4)\n",
    "    a1 = layers.Flatten()(a0)\n",
    "    a2 = layers.Dense(64, activation='relu')(a1)\n",
    "    outputs = layers.Dense(2, activation='relu')(a2)\n",
    "    model = models.Model(inputs, outputs)\n",
    "    return model"
   ]
  },
  {
   "cell_type": "code",
   "execution_count": 6,
   "metadata": {
    "ExecuteTime": {
     "end_time": "2020-11-29T17:58:58.742421Z",
     "start_time": "2020-11-29T17:58:58.737402Z"
    },
    "colab": {
     "base_uri": "https://localhost:8080/"
    },
    "id": "CQj_VzubFwc5",
    "outputId": "e8a15e1c-5611-459f-b1d3-0803cf43ac14",
    "scrolled": true
   },
   "outputs": [],
   "source": [
    "def CNN() : \n",
    "    # Create the model\n",
    "    cnn_model = models.Sequential()\n",
    "    cnn_model.add(layers.Conv2D(64, (5, 5), activation='relu', input_shape=(16, 16, 3), padding='same', use_bias=True))\n",
    "    cnn_model.add(layers.MaxPooling2D((2, 2)))\n",
    "    cnn_model.add(layers.Conv2D(128, (5, 5), activation='relu', input_shape=(8, 8, 3), padding='same', use_bias=True))\n",
    "    cnn_model.add(layers.MaxPooling2D((2, 2)))\n",
    "    cnn_model.add(layers.Flatten())\n",
    "    cnn_model.add(layers.Dense(128, activation='relu'))\n",
    "    cnn_model.add(layers.Dense(2))\n",
    "    return cnn_model"
   ]
  },
  {
   "cell_type": "code",
   "execution_count": 7,
   "metadata": {
    "ExecuteTime": {
     "end_time": "2020-11-29T17:58:59.673286Z",
     "start_time": "2020-11-29T17:58:59.668298Z"
    }
   },
   "outputs": [],
   "source": [
    "models_dict = {'cnn_handmade' : {\n",
    "        'name' : 'cnn',\n",
    "        'model' : CNN,\n",
    "        'save_dir' : MODELS_SAVE_DIR + 'cnn_handmade/'\n",
    "    },\n",
    "        'u-net' : {\n",
    "        'name' : 'u-net',\n",
    "        'model' : UNet,\n",
    "        'save_dir' : MODELS_SAVE_DIR + 'u-net/'\n",
    "    }}"
   ]
  },
  {
   "cell_type": "code",
   "execution_count": 8,
   "metadata": {
    "ExecuteTime": {
     "end_time": "2020-11-29T17:59:06.087888Z",
     "start_time": "2020-11-29T17:59:06.083906Z"
    }
   },
   "outputs": [],
   "source": [
    "model_chosen = models_dict[MODEL_NAME]"
   ]
  },
  {
   "cell_type": "code",
   "execution_count": 9,
   "metadata": {
    "ExecuteTime": {
     "end_time": "2020-11-29T17:59:06.637247Z",
     "start_time": "2020-11-29T17:59:06.494453Z"
    },
    "id": "1XCqej8mFwc1"
   },
   "outputs": [],
   "source": [
    "%reload_ext autoreload\n",
    "%autoreload 2"
   ]
  },
  {
   "cell_type": "code",
   "execution_count": 10,
   "metadata": {
    "ExecuteTime": {
     "end_time": "2020-11-29T17:59:07.314992Z",
     "start_time": "2020-11-29T17:59:07.043880Z"
    },
    "id": "uMaqi7NPFwc1"
   },
   "outputs": [],
   "source": [
    "sys.path.append('./')\n",
    "from helpers.helpers import *\n",
    "from helpers.mask_to_submission import *"
   ]
  },
  {
   "cell_type": "code",
   "execution_count": 11,
   "metadata": {
    "ExecuteTime": {
     "end_time": "2020-11-29T17:59:14.211347Z",
     "start_time": "2020-11-29T17:59:10.973926Z"
    },
    "colab": {
     "base_uri": "https://localhost:8080/"
    },
    "id": "HpiPmLxiFwc1",
    "outputId": "82985872-cadf-4a67-cecd-05b6336210ed"
   },
   "outputs": [
    {
     "name": "stderr",
     "output_type": "stream",
     "text": [
      "100%|███████████████████████████████████████████████████████████████████████████████| 100/100 [00:00<00:00, 132.63it/s]\n"
     ]
    },
    {
     "name": "stdout",
     "output_type": "stream",
     "text": [
      "Loaded 100 training images\n"
     ]
    },
    {
     "name": "stderr",
     "output_type": "stream",
     "text": [
      "100%|███████████████████████████████████████████████████████████████████████████████| 100/100 [00:00<00:00, 162.69it/s]\n"
     ]
    },
    {
     "name": "stdout",
     "output_type": "stream",
     "text": [
      "Loaded 100 groudtruth images\n"
     ]
    }
   ],
   "source": [
    "data_dir = 'data/training/'\n",
    "train_data_filename = data_dir + 'images/'\n",
    "train_labels_filename = data_dir + 'groundtruth/' \n",
    "\n",
    "# Extract patches into numpy arrays. Dim: (nb patch, 16, 16, 3)\n",
    "training_data = extract_data(train_data_filename, 100)\n",
    "training_labels = extract_labels(train_labels_filename, 100)"
   ]
  },
  {
   "cell_type": "code",
   "execution_count": 16,
   "metadata": {
    "ExecuteTime": {
     "end_time": "2020-11-27T16:35:38.997671Z",
     "start_time": "2020-11-27T16:35:38.837056Z"
    }
   },
   "outputs": [],
   "source": [
    "#This cell is required for me (Ben), otherwise I get \"convolution algorithm not found\"\n",
    "physical_devices = tf.config.experimental.list_physical_devices('GPU')\n",
    "if len(physical_devices) > 0:\n",
    "   tf.config.experimental.set_memory_growth(physical_devices[0], True)"
   ]
  },
  {
   "cell_type": "code",
   "execution_count": 17,
   "metadata": {
    "ExecuteTime": {
     "end_time": "2020-11-27T16:35:40.007838Z",
     "start_time": "2020-11-27T16:35:39.016611Z"
    },
    "colab": {
     "base_uri": "https://localhost:8080/"
    },
    "id": "WIHX7_a4XnNu",
    "outputId": "9e4e59d8-0d6a-446d-a108-60be01d9205a"
   },
   "outputs": [
    {
     "ename": "SystemError",
     "evalue": "GPU device not found",
     "output_type": "error",
     "traceback": [
      "\u001b[1;31m---------------------------------------------------------------------------\u001b[0m",
      "\u001b[1;31mSystemError\u001b[0m                               Traceback (most recent call last)",
      "\u001b[1;32m<ipython-input-17-ce08ddae0a7d>\u001b[0m in \u001b[0;36m<module>\u001b[1;34m\u001b[0m\n\u001b[0;32m      1\u001b[0m \u001b[0mdevice_name\u001b[0m \u001b[1;33m=\u001b[0m \u001b[0mtf\u001b[0m\u001b[1;33m.\u001b[0m\u001b[0mtest\u001b[0m\u001b[1;33m.\u001b[0m\u001b[0mgpu_device_name\u001b[0m\u001b[1;33m(\u001b[0m\u001b[1;33m)\u001b[0m\u001b[1;33m\u001b[0m\u001b[1;33m\u001b[0m\u001b[0m\n\u001b[0;32m      2\u001b[0m \u001b[1;32mif\u001b[0m \u001b[0mdevice_name\u001b[0m \u001b[1;33m!=\u001b[0m \u001b[1;34m'/device:GPU:0'\u001b[0m\u001b[1;33m:\u001b[0m\u001b[1;33m\u001b[0m\u001b[1;33m\u001b[0m\u001b[0m\n\u001b[1;32m----> 3\u001b[1;33m   \u001b[1;32mraise\u001b[0m \u001b[0mSystemError\u001b[0m\u001b[1;33m(\u001b[0m\u001b[1;34m'GPU device not found'\u001b[0m\u001b[1;33m)\u001b[0m\u001b[1;33m\u001b[0m\u001b[1;33m\u001b[0m\u001b[0m\n\u001b[0m\u001b[0;32m      4\u001b[0m \u001b[0mprint\u001b[0m\u001b[1;33m(\u001b[0m\u001b[1;34m'Found GPU at: {}'\u001b[0m\u001b[1;33m.\u001b[0m\u001b[0mformat\u001b[0m\u001b[1;33m(\u001b[0m\u001b[0mdevice_name\u001b[0m\u001b[1;33m)\u001b[0m\u001b[1;33m)\u001b[0m\u001b[1;33m\u001b[0m\u001b[1;33m\u001b[0m\u001b[0m\n",
      "\u001b[1;31mSystemError\u001b[0m: GPU device not found"
     ]
    }
   ],
   "source": [
    "device_name = tf.test.gpu_device_name()\n",
    "if device_name != '/device:GPU:0':\n",
    "  raise SystemError('GPU device not found')\n",
    "print('Found GPU at: {}'.format(device_name))"
   ]
  },
  {
   "cell_type": "code",
   "execution_count": 18,
   "metadata": {
    "ExecuteTime": {
     "end_time": "2020-11-27T16:35:47.364666Z",
     "start_time": "2020-11-27T16:35:47.103507Z"
    },
    "colab": {
     "base_uri": "https://localhost:8080/"
    },
    "id": "WyMhDusfFwc3",
    "outputId": "f65702a4-b2f3-4b7e-d52f-5dcf3a0b770b"
   },
   "outputs": [
    {
     "name": "stdout",
     "output_type": "stream",
     "text": [
      "(50000, 16, 16, 3)\n",
      "(12500, 16, 16, 3)\n"
     ]
    }
   ],
   "source": [
    "X_train, X_test, y_train, y_test = train_test_split(training_data, training_labels,\\\n",
    "                                                    train_size= TRAINING_SIZE/100, random_state=SEED)\n",
    "\n",
    "print(X_train.shape)\n",
    "print(X_test.shape)"
   ]
  },
  {
   "cell_type": "code",
   "execution_count": 19,
   "metadata": {
    "ExecuteTime": {
     "end_time": "2020-11-27T16:36:33.304905Z",
     "start_time": "2020-11-27T16:36:32.630614Z"
    },
    "colab": {
     "base_uri": "https://localhost:8080/"
    },
    "id": "O_dgIRiZFwc4",
    "outputId": "c6c286ff-fd2f-4195-ef6f-ce8878fe6a81"
   },
   "outputs": [
    {
     "name": "stdout",
     "output_type": "stream",
     "text": [
      "Number of data points per class: c0 = 37053 c1 = 12947\n",
      "Balancing training data...\n",
      "25894\n",
      "(50000, 16, 16, 3)\n",
      "Number of data points per class: c0 = 12947 c1 = 12947\n"
     ]
    }
   ],
   "source": [
    "num_epochs = NUM_EPOCHS\n",
    "\n",
    "c0 = 0  # bgrd\n",
    "c1 = 0  # road\n",
    "for i in range(len(y_train)):\n",
    "    if y_train[i][0] == 1:\n",
    "        c0 = c0 + 1\n",
    "    else:\n",
    "        c1 = c1 + 1\n",
    "print('Number of data points per class: c0 = ' + str(c0) + ' c1 = ' + str(c1))\n",
    "\n",
    "print('Balancing training data...')\n",
    "min_c = min(c0, c1)\n",
    "idx0 = [i for i, j in enumerate(y_train) if j[0] == 1]\n",
    "idx1 = [i for i, j in enumerate(y_train) if j[1] == 1]\n",
    "new_indices = idx0[0:min_c] + idx1[0:min_c]\n",
    "print(len(new_indices))\n",
    "print(X_train.shape)\n",
    "X_train = X_train[new_indices, :, :, :]\n",
    "y_train = y_train[new_indices]\n",
    "\n",
    "train_size = y_train.shape[0]\n",
    "\n",
    "c0 = 0\n",
    "c1 = 0\n",
    "for i in range(len(y_train)):\n",
    "    if y_train[i][0] == 1:\n",
    "        c0 = c0 + 1\n",
    "    else:\n",
    "        c1 = c1 + 1\n",
    "print('Number of data points per class: c0 = ' + str(c0) + ' c1 = ' + str(c1))"
   ]
  },
  {
   "cell_type": "code",
   "execution_count": 20,
   "metadata": {
    "ExecuteTime": {
     "end_time": "2020-11-27T16:43:51.429633Z",
     "start_time": "2020-11-27T16:37:31.411027Z"
    },
    "id": "cBE8XdxDFwc4"
   },
   "outputs": [
    {
     "name": "stdout",
     "output_type": "stream",
     "text": [
      "Epoch 1/15\n",
      "648/648 [==============================] - 19s 29ms/step - loss: 0.6133 - accuracy: 0.6396 - val_loss: 0.8105 - val_accuracy: 0.5016\n",
      "Epoch 2/15\n",
      "648/648 [==============================] - 23s 35ms/step - loss: 0.5716 - accuracy: 0.6781 - val_loss: 0.8060 - val_accuracy: 0.5003\n",
      "Epoch 3/15\n",
      "648/648 [==============================] - 24s 37ms/step - loss: 0.5526 - accuracy: 0.6960 - val_loss: 0.7322 - val_accuracy: 0.5766\n",
      "Epoch 4/15\n",
      "648/648 [==============================] - 23s 35ms/step - loss: 0.5271 - accuracy: 0.7221 - val_loss: 0.6641 - val_accuracy: 0.6333\n",
      "Epoch 5/15\n",
      "648/648 [==============================] - 27s 41ms/step - loss: 0.4940 - accuracy: 0.7481 - val_loss: 0.8709 - val_accuracy: 0.5098\n",
      "Epoch 6/15\n",
      "648/648 [==============================] - 30s 46ms/step - loss: 0.4575 - accuracy: 0.7754 - val_loss: 0.8253 - val_accuracy: 0.5783\n",
      "Epoch 7/15\n",
      "648/648 [==============================] - 31s 48ms/step - loss: 0.4172 - accuracy: 0.7976 - val_loss: 0.5908 - val_accuracy: 0.7669\n",
      "Epoch 8/15\n",
      "648/648 [==============================] - 31s 47ms/step - loss: 0.3769 - accuracy: 0.8202 - val_loss: 1.0280 - val_accuracy: 0.5559\n",
      "Epoch 9/15\n",
      "648/648 [==============================] - 28s 44ms/step - loss: 0.3395 - accuracy: 0.8409 - val_loss: 0.6373 - val_accuracy: 0.7548\n",
      "Epoch 10/15\n",
      "648/648 [==============================] - 29s 45ms/step - loss: 0.3025 - accuracy: 0.8608 - val_loss: 0.8889 - val_accuracy: 0.6858\n",
      "Epoch 11/15\n",
      "648/648 [==============================] - 29s 45ms/step - loss: 0.2682 - accuracy: 0.8786 - val_loss: 0.8297 - val_accuracy: 0.7220\n",
      "Epoch 12/15\n",
      "648/648 [==============================] - 28s 42ms/step - loss: 0.2383 - accuracy: 0.8946 - val_loss: 0.6796 - val_accuracy: 0.8189\n",
      "Epoch 13/15\n",
      "648/648 [==============================] - 19s 29ms/step - loss: 0.2199 - accuracy: 0.9018 - val_loss: 1.4054 - val_accuracy: 0.6271\n",
      "Epoch 14/15\n",
      "648/648 [==============================] - 19s 30ms/step - loss: 0.2018 - accuracy: 0.9111 - val_loss: 1.1185 - val_accuracy: 0.7021\n",
      "Epoch 15/15\n",
      "648/648 [==============================] - 20s 30ms/step - loss: 0.1816 - accuracy: 0.9230 - val_loss: 1.0853 - val_accuracy: 0.7131\n"
     ]
    }
   ],
   "source": [
    "if RESTORE_MODEL:\n",
    "    # It can be used to reconstruct the model identically.\n",
    "    model = models.load_model(model_chosen['save_dir'])\n",
    "else : \n",
    "    model = model_chosen['model']()\n",
    "    with tf.device('/device:GPU:0'):\n",
    "        model.compile(optimizer='adam',\n",
    "                loss=tf.keras.losses.CategoricalCrossentropy(from_logits=True),\n",
    "                metrics=['accuracy'])\n",
    "        history = model.fit(X_train, y_train, epochs = NUM_EPOCHS ,validation_split=VALIDATION_SIZE)"
   ]
  },
  {
   "cell_type": "code",
   "execution_count": 17,
   "metadata": {
    "ExecuteTime": {
     "end_time": "2020-11-04T15:36:07.202726Z",
     "start_time": "2020-11-04T15:36:05.671002Z"
    },
    "colab": {
     "base_uri": "https://localhost:8080/"
    },
    "id": "fon8F-kTFwc5",
    "outputId": "85782f7b-4254-4fa3-8222-af7a391abd68"
   },
   "outputs": [
    {
     "name": "stdout",
     "output_type": "stream",
     "text": [
      "WARNING:tensorflow:From C:\\Users\\jbenh\\anaconda3\\envs\\tf-gpu\\lib\\site-packages\\tensorflow_core\\python\\ops\\resource_variable_ops.py:1786: calling BaseResourceVariable.__init__ (from tensorflow.python.ops.resource_variable_ops) with constraint is deprecated and will be removed in a future version.\n",
      "Instructions for updating:\n",
      "If using Keras pass *_constraint arguments to layers.\n",
      "INFO:tensorflow:Assets written to: model_save/cnn_handmade/assets\n"
     ]
    }
   ],
   "source": [
    "if not RESTORE_MODEL:\n",
    "    model.save(model_chosen['save_dir'])"
   ]
  },
  {
   "cell_type": "code",
   "execution_count": 21,
   "metadata": {
    "ExecuteTime": {
     "end_time": "2020-11-27T16:45:09.753089Z",
     "start_time": "2020-11-27T16:45:05.276066Z"
    },
    "colab": {
     "base_uri": "https://localhost:8080/"
    },
    "id": "Ujs3K6_xFwc5",
    "outputId": "13b04fbb-722a-481d-c6a2-1e0d631cc97b"
   },
   "outputs": [
    {
     "name": "stdout",
     "output_type": "stream",
     "text": [
      "[[ 0.49630305 -0.50646657]\n",
      " [ 3.0319185  -3.2845793 ]\n",
      " [ 1.7245344  -2.5284963 ]\n",
      " ...\n",
      " [-0.65732044  0.7350807 ]\n",
      " [-0.3323874   0.34828112]\n",
      " [-6.2602987   5.439677  ]]\n",
      "Training error rate: 11.95%\n"
     ]
    }
   ],
   "source": [
    "pred_train = model.predict(X_train)\n",
    "print(pred_train)\n",
    "print(\"Training error rate: {:.2f}%\".format(error_rate(pred_train, y_train)))"
   ]
  },
  {
   "cell_type": "code",
   "execution_count": 22,
   "metadata": {
    "ExecuteTime": {
     "end_time": "2020-11-27T16:45:12.085849Z",
     "start_time": "2020-11-27T16:45:09.754088Z"
    },
    "colab": {
     "base_uri": "https://localhost:8080/"
    },
    "id": "-6Ma8H_5Fwc5",
    "outputId": "53dd4e8b-9628-4971-ec39-ca14cb4c5761"
   },
   "outputs": [
    {
     "name": "stdout",
     "output_type": "stream",
     "text": [
      "Test error rate: 24.41%\n"
     ]
    }
   ],
   "source": [
    "pred_test = model.predict(X_test)\n",
    "print(\"Test error rate: {:.2f}%\".format(error_rate(pred_test, y_test)))"
   ]
  },
  {
   "cell_type": "code",
   "execution_count": 23,
   "metadata": {
    "ExecuteTime": {
     "end_time": "2020-11-27T16:45:12.239439Z",
     "start_time": "2020-11-27T16:45:12.087845Z"
    },
    "colab": {
     "base_uri": "https://localhost:8080/",
     "height": 283
    },
    "id": "3BbciowpFwc5",
    "outputId": "2d337f9f-ad99-44e1-8df7-a92c9143e7fe"
   },
   "outputs": [
    {
     "data": {
      "text/plain": [
       "0.6070830650354152"
      ]
     },
     "execution_count": 23,
     "metadata": {},
     "output_type": "execute_result"
    }
   ],
   "source": [
    "F1_score(y_test, pred_test)"
   ]
  },
  {
   "cell_type": "code",
   "execution_count": 24,
   "metadata": {
    "ExecuteTime": {
     "end_time": "2020-11-27T16:45:57.550268Z",
     "start_time": "2020-11-27T16:45:57.400668Z"
    },
    "colab": {
     "base_uri": "https://localhost:8080/",
     "height": 368
    },
    "id": "La4cKwBaFwc5",
    "outputId": "543d6ebf-ec19-42ad-e314-34645305b9b4"
   },
   "outputs": [
    {
     "name": "stdout",
     "output_type": "stream",
     "text": [
      "Running prediction on training set\n"
     ]
    },
    {
     "ename": "FileNotFoundError",
     "evalue": "[WinError 3] The system cannot find the path specified: 'predictions/predictions_training/'",
     "output_type": "error",
     "traceback": [
      "\u001b[1;31m---------------------------------------------------------------------------\u001b[0m",
      "\u001b[1;31mFileNotFoundError\u001b[0m                         Traceback (most recent call last)",
      "\u001b[1;32m<ipython-input-24-5bf126f9e025>\u001b[0m in \u001b[0;36m<module>\u001b[1;34m\u001b[0m\n\u001b[0;32m      2\u001b[0m \u001b[0mprediction_training_dir\u001b[0m \u001b[1;33m=\u001b[0m \u001b[0mPREDICTIONS_SAVE_DIR\u001b[0m \u001b[1;33m+\u001b[0m \u001b[1;34m\"predictions_training/\"\u001b[0m\u001b[1;33m\u001b[0m\u001b[1;33m\u001b[0m\u001b[0m\n\u001b[0;32m      3\u001b[0m \u001b[1;32mif\u001b[0m \u001b[1;32mnot\u001b[0m \u001b[0mos\u001b[0m\u001b[1;33m.\u001b[0m\u001b[0mpath\u001b[0m\u001b[1;33m.\u001b[0m\u001b[0misdir\u001b[0m\u001b[1;33m(\u001b[0m\u001b[0mprediction_training_dir\u001b[0m\u001b[1;33m)\u001b[0m\u001b[1;33m:\u001b[0m\u001b[1;33m\u001b[0m\u001b[1;33m\u001b[0m\u001b[0m\n\u001b[1;32m----> 4\u001b[1;33m     \u001b[0mos\u001b[0m\u001b[1;33m.\u001b[0m\u001b[0mmkdir\u001b[0m\u001b[1;33m(\u001b[0m\u001b[0mprediction_training_dir\u001b[0m\u001b[1;33m)\u001b[0m\u001b[1;33m\u001b[0m\u001b[1;33m\u001b[0m\u001b[0m\n\u001b[0m\u001b[0;32m      5\u001b[0m \u001b[1;32mfor\u001b[0m \u001b[0mi\u001b[0m \u001b[1;32min\u001b[0m \u001b[0mrange\u001b[0m\u001b[1;33m(\u001b[0m\u001b[1;36m1\u001b[0m\u001b[1;33m,\u001b[0m \u001b[0mTRAINING_SIZE\u001b[0m \u001b[1;33m+\u001b[0m \u001b[1;36m1\u001b[0m\u001b[1;33m)\u001b[0m\u001b[1;33m:\u001b[0m\u001b[1;33m\u001b[0m\u001b[1;33m\u001b[0m\u001b[0m\n\u001b[0;32m      6\u001b[0m     \u001b[0mpimg\u001b[0m \u001b[1;33m=\u001b[0m \u001b[0mget_prediction_with_groundtruth\u001b[0m\u001b[1;33m(\u001b[0m\u001b[0mmodel\u001b[0m\u001b[1;33m,\u001b[0m \u001b[0mtrain_data_filename\u001b[0m\u001b[1;33m,\u001b[0m \u001b[0mi\u001b[0m\u001b[1;33m)\u001b[0m\u001b[1;33m\u001b[0m\u001b[1;33m\u001b[0m\u001b[0m\n",
      "\u001b[1;31mFileNotFoundError\u001b[0m: [WinError 3] The system cannot find the path specified: 'predictions/predictions_training/'"
     ]
    }
   ],
   "source": [
    "print(\"Running prediction on training set\")\n",
    "prediction_training_dir = PREDICTIONS_SAVE_DIR + \"predictions_training/\"\n",
    "if not os.path.isdir(prediction_training_dir):\n",
    "    os.mkdir(prediction_training_dir)\n",
    "for i in range(1, TRAINING_SIZE + 1):\n",
    "    pimg = get_prediction_with_groundtruth(model, train_data_filename, i)\n",
    "    Image.fromarray(pimg).save(prediction_training_dir + \"prediction_\" + str(i) + \".png\")\n",
    "    oimg = get_prediction_with_overlay(model, train_data_filename, i)\n",
    "    oimg.save(prediction_training_dir + \"overlay_\" + str(i) + \".png\")  "
   ]
  },
  {
   "cell_type": "code",
   "execution_count": 23,
   "metadata": {
    "ExecuteTime": {
     "end_time": "2020-11-04T16:09:16.623322Z",
     "start_time": "2020-11-04T16:09:02.803475Z"
    },
    "id": "YVBsfv2kFwc6",
    "outputId": "a665b18d-3c33-42e6-a4b0-1d35b48ddfa0"
   },
   "outputs": [],
   "source": [
    "if GENERATE_PREDICTION :\n",
    "    predict_test_masks(model)\n",
    "    masks_to_submission(\"submission.csv\", PREDICTIONS_SAVE_DIR+\"predictions_test/\")"
   ]
  },
  {
   "cell_type": "code",
   "execution_count": 5,
   "metadata": {
    "ExecuteTime": {
     "end_time": "2020-11-29T18:22:28.847216Z",
     "start_time": "2020-11-29T18:22:28.841233Z"
    }
   },
   "outputs": [
    {
     "ename": "SyntaxError",
     "evalue": "invalid syntax (colab.py, line 15)",
     "output_type": "error",
     "traceback": [
      "Traceback \u001b[1;36m(most recent call last)\u001b[0m:\n",
      "  File \u001b[0;32m\"c:\\users\\moi\\appdata\\local\\programs\\python\\python38\\lib\\site-packages\\IPython\\core\\interactiveshell.py\"\u001b[0m, line \u001b[0;32m3417\u001b[0m, in \u001b[0;35mrun_code\u001b[0m\n    exec(code_obj, self.user_global_ns, self.user_ns)\n",
      "\u001b[1;36m  File \u001b[1;32m\"<ipython-input-5-34bd68024890>\"\u001b[1;36m, line \u001b[1;32m3\u001b[1;36m, in \u001b[1;35m<module>\u001b[1;36m\u001b[0m\n\u001b[1;33m    from helpers.colab import download_model\u001b[0m\n",
      "\u001b[1;36m  File \u001b[1;32m\"C:\\Users\\Moi\\Desktop\\Desktop\\EPFL\\Master\\MA1\\CS-433 - Machine Learning\\CS-433-project-2\\project_road_segmentation\\helpers\\colab.py\"\u001b[1;36m, line \u001b[1;32m15\u001b[0m\n\u001b[1;33m    !git clone 'https://{}:{}@github.com/Julien-Ben/{}.git'.format(uname, password, repo)\u001b[0m\n\u001b[1;37m    ^\u001b[0m\n\u001b[1;31mSyntaxError\u001b[0m\u001b[1;31m:\u001b[0m invalid syntax\n"
     ]
    }
   ],
   "source": [
    "# downloading the resulting model from Colab\n",
    "if COLAB:\n",
    "    from helpers.colab import download_model\n",
    "    download_model(MODEL_NAME, model_chosen['save_dir'])"
   ]
  },
  {
   "cell_type": "code",
   "execution_count": null,
   "metadata": {},
   "outputs": [],
   "source": []
  }
 ],
 "metadata": {
  "accelerator": "GPU",
  "colab": {
   "name": "U-net.ipynb",
   "provenance": []
  },
  "kernelspec": {
   "display_name": "Python 3",
   "language": "python",
   "name": "python3"
  },
  "language_info": {
   "codemirror_mode": {
    "name": "ipython",
    "version": 3
   },
   "file_extension": ".py",
   "mimetype": "text/x-python",
   "name": "python",
   "nbconvert_exporter": "python",
   "pygments_lexer": "ipython3",
   "version": "3.8.2"
  },
  "toc": {
   "base_numbering": 1,
   "nav_menu": {},
   "number_sections": true,
   "sideBar": true,
   "skip_h1_title": false,
   "title_cell": "Table of Contents",
   "title_sidebar": "Contents",
   "toc_cell": false,
   "toc_position": {},
   "toc_section_display": true,
   "toc_window_display": false
  }
 },
 "nbformat": 4,
 "nbformat_minor": 4
}
