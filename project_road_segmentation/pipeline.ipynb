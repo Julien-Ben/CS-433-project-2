{
 "cells": [
  {
   "cell_type": "code",
   "execution_count": 1,
   "metadata": {
    "ExecuteTime": {
     "end_time": "2020-12-13T16:38:59.629497Z",
     "start_time": "2020-12-13T16:38:54.588240Z"
    },
    "id": "PzRKgXa8Fwc0"
   },
   "outputs": [],
   "source": [
    "import os\n",
    "import sys\n",
    "import gzip\n",
    "import code\n",
    "import urllib\n",
    "import importlib\n",
    "import tensorflow.python.platform\n",
    "import tensorflow as tf\n",
    "import matplotlib.pyplot as plt\n",
    "import matplotlib.image as mpimg\n",
    "import numpy as np\n",
    "from tqdm import tqdm\n",
    "from PIL import Image"
   ]
  },
  {
   "cell_type": "code",
   "execution_count": 2,
   "metadata": {
    "ExecuteTime": {
     "end_time": "2020-12-13T16:38:59.634191Z",
     "start_time": "2020-12-13T16:38:59.631197Z"
    }
   },
   "outputs": [],
   "source": [
    "COLAB = False\n",
    "BRANCH = 'main'"
   ]
  },
  {
   "cell_type": "code",
   "execution_count": 3,
   "metadata": {
    "ExecuteTime": {
     "end_time": "2020-12-13T16:41:16.957136Z",
     "start_time": "2020-12-13T16:41:16.927517Z"
    },
    "colab": {
     "base_uri": "https://localhost:8080/"
    },
    "id": "FBdjGm_UPHP1",
    "outputId": "b6659e33-ec54-44f4-d404-d7c36f90d251"
   },
   "outputs": [],
   "source": [
    "if COLAB:\n",
    "    from google.colab import drive\n",
    "    drive.mount('/content/drive')\n",
    "    drive_path = '/content/drive/Shareddrives/ML_Road_Segmentation/CS-433-project-ben/project_road_segmentation'\n",
    "    os.chdir(drive_path)\n",
    "    from helpers.colab import mount_and_pull\n",
    "    BRANCH_NAME = BRANCH\n",
    "    mount_and_pull(BRANCH_NAME, drive, os)"
   ]
  },
  {
   "cell_type": "code",
   "execution_count": 4,
   "metadata": {
    "ExecuteTime": {
     "end_time": "2020-12-13T16:41:18.287444Z",
     "start_time": "2020-12-13T16:41:17.317065Z"
    },
    "id": "uMaqi7NPFwc1"
   },
   "outputs": [],
   "source": [
    "%load_ext autoreload\n",
    "%autoreload 2\n",
    "\n",
    "from helpers.image_processing import *\n",
    "from helpers.file_manipulation import *\n",
    "from helpers.constants import *\n",
    "from helpers.prediction_checking import *\n",
    "from helpers.machine_learning import *\n",
    "from helpers.loss_functions import *"
   ]
  },
  {
   "cell_type": "code",
   "execution_count": 5,
   "metadata": {
    "ExecuteTime": {
     "end_time": "2020-12-13T16:41:18.397158Z",
     "start_time": "2020-12-13T16:41:18.287444Z"
    }
   },
   "outputs": [],
   "source": [
    "RESTORE_MODEL = False  # If True, restore existing model instead of training a new one\n",
    "SAVE_MODEL = False\n",
    "GENERATE_PREDICTION = False  # If True, will generate a CSV to submit on AICrowd\n",
    "\n",
    "MODEL_NAME = 'unet_2'  # For now, cnn, unet-1, unet-2\n",
    "PATCH_PREDICTION = False\n",
    "SAVE_DIR = MODELS_SAVE_DIR + MODEL_NAME + '/'\n",
    "\n",
    "NUM_EPOCHS = 250"
   ]
  },
  {
   "cell_type": "code",
   "execution_count": 6,
   "metadata": {
    "ExecuteTime": {
     "end_time": "2020-12-13T16:41:19.161319Z",
     "start_time": "2020-12-13T16:41:19.017285Z"
    }
   },
   "outputs": [],
   "source": [
    "mod = importlib.import_module('models.' + MODEL_NAME)\n",
    "model_function = getattr(mod, MODEL_NAME)"
   ]
  },
  {
   "cell_type": "code",
   "execution_count": 10,
   "metadata": {
    "ExecuteTime": {
     "end_time": "2020-12-13T16:44:07.016643Z",
     "start_time": "2020-12-13T16:43:58.462429Z"
    },
    "colab": {
     "base_uri": "https://localhost:8080/"
    },
    "id": "WyMhDusfFwc3",
    "outputId": "f65702a4-b2f3-4b7e-d52f-5dcf3a0b770b",
    "scrolled": true
   },
   "outputs": [
    {
     "name": "stderr",
     "output_type": "stream",
     "text": [
      "Loading data/training/images/: 100%|████████████████████████████████████████████████| 100/100 [00:00<00:00, 142.97it/s]\n",
      "Loading data/training/groundtruth/: 100%|██████████████████████████████████████████| 100/100 [00:00<00:00, 1126.43it/s]\n",
      "Loading data/generated/flip/images/: 100%|██████████████████████████████████████████| 100/100 [00:00<00:00, 102.01it/s]\n",
      "Loading data/generated/flip/groundtruth/: 100%|█████████████████████████████████████| 100/100 [00:00<00:00, 399.99it/s]\n",
      "Loading data/generated/mix/images/: 100%|███████████████████████████████████████████| 100/100 [00:00<00:00, 117.64it/s]\n",
      "Loading data/generated/mix/groundtruth/: 100%|██████████████████████████████████████| 100/100 [00:00<00:00, 357.02it/s]\n",
      "Loading data/generated/rotation/images/: 100%|██████████████████████████████████████| 100/100 [00:00<00:00, 117.62it/s]\n",
      "Loading data/generated/rotation/groundtruth/: 100%|█████████████████████████████████| 100/100 [00:00<00:00, 325.23it/s]\n",
      "Loading data/generated/shift/images/: 100%|██████████████████████████████████████████| 100/100 [00:01<00:00, 97.59it/s]\n",
      "Loading data/generated/shift/groundtruth/: 100%|████████████████████████████████████| 100/100 [00:00<00:00, 385.58it/s]\n"
     ]
    }
   ],
   "source": [
    "X_train, X_test, y_train, y_test, validation_set = get_train_test_manual_split()"
   ]
  },
  {
   "cell_type": "code",
   "execution_count": 8,
   "metadata": {
    "ExecuteTime": {
     "end_time": "2020-12-13T16:41:33.997016Z",
     "start_time": "2020-12-13T16:41:33.879007Z"
    }
   },
   "outputs": [],
   "source": [
    "if PATCH_PREDICTION:\n",
    "    from helpers.patch_labeling import *\n",
    "    old_y_train = y_train\n",
    "    old_y_test = y_test\n",
    "    y_train = label_to_patch_prediction(y_train)\n",
    "    y_test = label_to_patch_prediction(y_test)\n",
    "    print(y_train.shape)\n",
    "    print(y_test.shape)\n",
    "    visualize_patches(old_y_train, y_train, number=3, resize=False)"
   ]
  },
  {
   "cell_type": "code",
   "execution_count": null,
   "metadata": {
    "ExecuteTime": {
     "start_time": "2020-12-13T16:44:11.080Z"
    },
    "id": "cBE8XdxDFwc4"
   },
   "outputs": [
    {
     "name": "stdout",
     "output_type": "stream",
     "text": [
      "Epoch 1/250\n",
      "1/4 [======>.......................] - ETA: 0s - loss: 0.6915 - precision_1: 0.2233 - recall_1: 0.7384"
     ]
    }
   ],
   "source": [
    "# TODO : Try to train unet-2 with 250 epoch and focal tversky loss and check for overfit\n",
    "# Hyperparameters to tweak : Alpha and Gamma from focal tversky loss for accuracy, and dropout rate for overfit\n",
    "metrics=[tf.keras.metrics.Precision(),\n",
    "         tf.keras.metrics.Recall(),\n",
    "        ]\n",
    "callbacks = [tf.keras.callbacks.EarlyStopping(monitor='loss', patience=10, verbose=1),\n",
    "            tf.keras.callbacks.ReduceLROnPlateau(monitor='val_loss', factor=0.5)\n",
    "            ]\n",
    "if RESTORE_MODEL:\n",
    "    model = tf.keras.models.load_model(SAVE_DIR, custom_objects={'dice_coef_loss': dice_coef_loss, 'dice_coef': dice_coef})\n",
    "else:  \n",
    "    model = model_function()\n",
    "    model.compile(optimizer='adam',\n",
    "                loss=dice_loss,\n",
    "                metrics=metrics)\n",
    "    history = model.fit(X_train, y_train, \n",
    "                        epochs = NUM_EPOCHS,\n",
    "                        validation_data=validation_set,\n",
    "                        callbacks=callbacks)"
   ]
  },
  {
   "cell_type": "code",
   "execution_count": null,
   "metadata": {
    "ExecuteTime": {
     "end_time": "2020-12-06T10:01:59.825777Z",
     "start_time": "2020-12-06T10:01:59.754271Z"
    },
    "colab": {
     "base_uri": "https://localhost:8080/"
    },
    "id": "fon8F-kTFwc5",
    "outputId": "85782f7b-4254-4fa3-8222-af7a391abd68"
   },
   "outputs": [],
   "source": [
    "if SAVE_MODEL:\n",
    "    model.save(SAVE_DIR)"
   ]
  },
  {
   "cell_type": "code",
   "execution_count": 19,
   "metadata": {
    "ExecuteTime": {
     "end_time": "2020-12-06T10:03:27.987673Z",
     "start_time": "2020-12-06T10:02:00.250256Z"
    }
   },
   "outputs": [
    {
     "ename": "NameError",
     "evalue": "name 'model' is not defined",
     "output_type": "error",
     "traceback": [
      "\u001b[1;31m---------------------------------------------------------------------------\u001b[0m",
      "\u001b[1;31mNameError\u001b[0m                                 Traceback (most recent call last)",
      "\u001b[1;32m<ipython-input-19-746a29b7f0fb>\u001b[0m in \u001b[0;36m<module>\u001b[1;34m\u001b[0m\n\u001b[1;32m----> 1\u001b[1;33m \u001b[0mtrain_predictions\u001b[0m \u001b[1;33m=\u001b[0m \u001b[0mmodel\u001b[0m\u001b[1;33m.\u001b[0m\u001b[0mpredict\u001b[0m\u001b[1;33m(\u001b[0m\u001b[0mX_train\u001b[0m\u001b[1;33m)\u001b[0m\u001b[1;33m.\u001b[0m\u001b[0msqueeze\u001b[0m\u001b[1;33m(\u001b[0m\u001b[1;33m)\u001b[0m\u001b[1;33m\u001b[0m\u001b[1;33m\u001b[0m\u001b[0m\n\u001b[0m\u001b[0;32m      2\u001b[0m \u001b[0mtest_predictions\u001b[0m \u001b[1;33m=\u001b[0m \u001b[0mmodel\u001b[0m\u001b[1;33m.\u001b[0m\u001b[0mpredict\u001b[0m\u001b[1;33m(\u001b[0m\u001b[0mX_test\u001b[0m\u001b[1;33m)\u001b[0m\u001b[1;33m.\u001b[0m\u001b[0msqueeze\u001b[0m\u001b[1;33m(\u001b[0m\u001b[1;33m)\u001b[0m\u001b[1;33m\u001b[0m\u001b[1;33m\u001b[0m\u001b[0m\n",
      "\u001b[1;31mNameError\u001b[0m: name 'model' is not defined"
     ]
    }
   ],
   "source": [
    "train_predictions = model.predict(X_train).squeeze()\n",
    "test_predictions = model.predict(X_test).squeeze()"
   ]
  },
  {
   "cell_type": "code",
   "execution_count": null,
   "metadata": {},
   "outputs": [],
   "source": [
    "if PATCH_PREDICTION:\n",
    "    train_predictions = resize_images(train_predictions, TRAINING_IMG_SIZE)\n",
    "    test_predictions = resize_images(test_predictions, TRAINING_IMG_SIZE)"
   ]
  },
  {
   "cell_type": "code",
   "execution_count": null,
   "metadata": {
    "ExecuteTime": {
     "end_time": "2020-12-06T10:09:55.466140Z",
     "start_time": "2020-12-06T10:09:47.730765Z"
    }
   },
   "outputs": [],
   "source": [
    "visualize_random_predictions(X_train, y_train, train_predictions, size=10)"
   ]
  },
  {
   "cell_type": "code",
   "execution_count": null,
   "metadata": {
    "ExecuteTime": {
     "end_time": "2020-12-06T10:10:48.198245Z",
     "start_time": "2020-12-06T10:10:40.853592Z"
    }
   },
   "outputs": [],
   "source": [
    "visualize_random_predictions(X_test, y_test, test_predictions, size=10)"
   ]
  },
  {
   "cell_type": "code",
   "execution_count": null,
   "metadata": {
    "ExecuteTime": {
     "end_time": "2020-12-06T10:39:05.500669Z",
     "start_time": "2020-12-06T10:38:43.929516Z"
    },
    "scrolled": true
   },
   "outputs": [],
   "source": [
    "compute_entire_images_metrics(y_test, test_predictions)"
   ]
  },
  {
   "cell_type": "code",
   "execution_count": null,
   "metadata": {
    "ExecuteTime": {
     "end_time": "2020-12-02T14:45:07.625362Z",
     "start_time": "2020-12-02T14:44:47.715Z"
    }
   },
   "outputs": [],
   "source": [
    "if COLAB:\n",
    "    from helpers.colab import download_model\n",
    "    from google.colab import files\n",
    "    download_model(MODEL_NAME, SAVE_DIR, files)"
   ]
  }
 ],
 "metadata": {
  "accelerator": "GPU",
  "colab": {
   "name": "U-net.ipynb",
   "provenance": []
  },
  "kernelspec": {
   "display_name": "Python 3",
   "language": "python",
   "name": "python3"
  },
  "language_info": {
   "codemirror_mode": {
    "name": "ipython",
    "version": 3
   },
   "file_extension": ".py",
   "mimetype": "text/x-python",
   "name": "python",
   "nbconvert_exporter": "python",
   "pygments_lexer": "ipython3",
   "version": "3.8.2"
  },
  "toc": {
   "base_numbering": 1,
   "nav_menu": {},
   "number_sections": true,
   "sideBar": true,
   "skip_h1_title": false,
   "title_cell": "Table of Contents",
   "title_sidebar": "Contents",
   "toc_cell": false,
   "toc_position": {},
   "toc_section_display": true,
   "toc_window_display": false
  }
 },
 "nbformat": 4,
 "nbformat_minor": 4
}
