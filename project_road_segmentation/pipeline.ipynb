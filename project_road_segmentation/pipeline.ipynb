{
 "cells": [
  {
   "cell_type": "code",
   "execution_count": 1,
   "metadata": {
    "ExecuteTime": {
     "end_time": "2020-12-05T12:14:04.053179Z",
     "start_time": "2020-12-05T12:13:57.588997Z"
    },
    "id": "PzRKgXa8Fwc0"
   },
   "outputs": [],
   "source": [
    "import os\n",
    "import sys\n",
    "import gzip\n",
    "import code\n",
    "import urllib\n",
    "import importlib\n",
    "import tensorflow.python.platform\n",
    "import tensorflow as tf\n",
    "import matplotlib.pyplot as plt\n",
    "import matplotlib.image as mpimg\n",
    "import numpy as np\n",
    "from tqdm import tqdm\n",
    "from PIL import Image\n",
    "\n",
    "%load_ext autoreload\n",
    "%autoreload 2\n",
    "\n",
    "COLAB = False\n",
    "BRANCH = 'main'"
   ]
  },
  {
   "cell_type": "code",
   "execution_count": 2,
   "metadata": {
    "ExecuteTime": {
     "end_time": "2020-12-05T12:14:04.151127Z",
     "start_time": "2020-12-05T12:14:04.060300Z"
    },
    "colab": {
     "base_uri": "https://localhost:8080/"
    },
    "id": "FBdjGm_UPHP1",
    "outputId": "b6659e33-ec54-44f4-d404-d7c36f90d251"
   },
   "outputs": [],
   "source": [
    "if COLAB:\n",
    "    from google.colab import drive\n",
    "    drive.mount('/content/drive')\n",
    "    drive_path = '/content/drive/Shareddrives/ML_Road_Segmentation/CS-433-project-2/project_road_segmentation'\n",
    "    os.chdir(drive_path)\n",
    "    from helpers.colab import mount_and_pull\n",
    "    BRANCH_NAME = BRANCH\n",
    "    mount_and_pull(BRANCH_NAME, drive, os)"
   ]
  },
  {
   "cell_type": "code",
   "execution_count": 4,
   "metadata": {
    "ExecuteTime": {
     "end_time": "2020-12-05T12:14:11.130101Z",
     "start_time": "2020-12-05T12:14:11.040461Z"
    },
    "id": "uMaqi7NPFwc1"
   },
   "outputs": [],
   "source": [
    "from helpers.image_processing import *\n",
    "from helpers.file_manipulation import *\n",
    "from helpers.constants import *\n",
    "from helpers.prediction_checking import *\n",
    "from helpers.machine_learning import *"
   ]
  },
  {
   "cell_type": "code",
   "execution_count": 5,
   "metadata": {
    "ExecuteTime": {
     "end_time": "2020-12-05T12:14:12.288262Z",
     "start_time": "2020-12-05T12:14:12.185498Z"
    }
   },
   "outputs": [],
   "source": [
    "mod = importlib.import_module('models.' + MODEL_NAME)\n",
    "model_function = getattr(mod, MODEL_NAME)"
   ]
  },
  {
   "cell_type": "code",
   "execution_count": 13,
   "metadata": {
    "ExecuteTime": {
     "end_time": "2020-12-05T12:17:14.989317Z",
     "start_time": "2020-12-05T12:16:55.489595Z"
    },
    "colab": {
     "base_uri": "https://localhost:8080/"
    },
    "id": "WyMhDusfFwc3",
    "outputId": "f65702a4-b2f3-4b7e-d52f-5dcf3a0b770b"
   },
   "outputs": [
    {
     "name": "stderr",
     "output_type": "stream",
     "text": [
      "Loading data/training/images/: 100%|██████████| 100/100 [00:02<00:00, 47.46it/s]\n",
      "Loading data/training/groundtruth/: 100%|██████████| 100/100 [00:00<00:00, 370.52it/s]\n",
      "Loading data/generated/shift/images/: 100%|██████████| 100/100 [00:01<00:00, 86.73it/s]\n",
      "Loading data/generated/shift/groundtruth/: 100%|██████████| 100/100 [00:00<00:00, 254.01it/s]\n",
      "Loading data/generated/flip/images/: 100%|██████████| 100/100 [00:01<00:00, 92.90it/s]\n",
      "Loading data/generated/flip/groundtruth/: 100%|██████████| 100/100 [00:00<00:00, 270.67it/s]\n",
      "Loading data/generated/mix/images/: 100%|██████████| 100/100 [00:00<00:00, 106.97it/s]\n",
      "Loading data/generated/mix/groundtruth/: 100%|██████████| 100/100 [00:00<00:00, 237.27it/s]\n",
      "Loading data/generated/rotation/images/: 100%|██████████| 100/100 [00:00<00:00, 102.61it/s]\n",
      "Loading data/generated/rotation/groundtruth/: 100%|██████████| 100/100 [00:00<00:00, 221.90it/s]\n"
     ]
    },
    {
     "name": "stdout",
     "output_type": "stream",
     "text": [
      "Training features shape :  (500, 400, 400, 3)\n",
      "Training labels shape :  (500, 400, 400)\n"
     ]
    }
   ],
   "source": [
    "X_train, X_test, y_train, y_test = get_train_test(data_augmentation=True)"
   ]
  },
  {
   "cell_type": "code",
   "execution_count": 15,
   "metadata": {
    "ExecuteTime": {
     "end_time": "2020-12-05T12:27:47.398086Z",
     "start_time": "2020-12-05T12:27:45.797573Z"
    }
   },
   "outputs": [
    {
     "name": "stderr",
     "output_type": "stream",
     "text": [
      "Loading data/generated/rotation/images/: 100%|██████████| 100/100 [00:01<00:00, 69.18it/s]\n"
     ]
    },
    {
     "data": {
      "text/plain": [
       "array([[[ 73,  70,  64],\n",
       "        [ 66,  64,  59],\n",
       "        [ 52,  52,  47],\n",
       "        ...,\n",
       "        [ 45,  60,  39],\n",
       "        [ 47,  60,  40],\n",
       "        [ 49,  59,  41]],\n",
       "\n",
       "       [[ 84,  79,  72],\n",
       "        [ 83,  77,  70],\n",
       "        [ 82,  78,  72],\n",
       "        ...,\n",
       "        [ 43,  55,  36],\n",
       "        [ 52,  62,  45],\n",
       "        [ 41,  49,  34]],\n",
       "\n",
       "       [[ 75,  70,  63],\n",
       "        [ 78,  72,  65],\n",
       "        [ 80,  74,  67],\n",
       "        ...,\n",
       "        [ 28,  33,  21],\n",
       "        [ 35,  39,  28],\n",
       "        [ 21,  20,  15]],\n",
       "\n",
       "       ...,\n",
       "\n",
       "       [[  9,  16,   6],\n",
       "        [ 40,  45,  33],\n",
       "        [ 65,  60,  47],\n",
       "        ...,\n",
       "        [104,  88,  72],\n",
       "        [108,  92,  76],\n",
       "        [107,  91,  75]],\n",
       "\n",
       "       [[ 52,  50,  45],\n",
       "        [120, 116, 104],\n",
       "        [120, 110,  94],\n",
       "        ...,\n",
       "        [106,  90,  74],\n",
       "        [102,  87,  71],\n",
       "        [105,  89,  73]],\n",
       "\n",
       "       [[ 71,  66,  59],\n",
       "        [114, 107,  97],\n",
       "        [141, 134, 121],\n",
       "        ...,\n",
       "        [111,  95,  79],\n",
       "        [110,  94,  78],\n",
       "        [111,  95,  79]]], dtype=uint8)"
      ]
     },
     "execution_count": 15,
     "metadata": {},
     "output_type": "execute_result"
    }
   ],
   "source": [
    "gen = load_folder('data/generated/rotation/images/')\n",
    "gen[0]"
   ]
  },
  {
   "cell_type": "code",
   "execution_count": 8,
   "metadata": {
    "ExecuteTime": {
     "end_time": "2020-12-02T14:44:53.325367Z",
     "start_time": "2020-12-02T14:44:52.996046Z"
    },
    "id": "cBE8XdxDFwc4",
    "scrolled": true
   },
   "outputs": [],
   "source": [
    "# TODO : Try to train unet-2 with 250 epoch and focal tversky loss and check for overfit\n",
    "# Hyperparameters to tweak : Alpha and Gamma from focal tversky loss for accuracy, and dropout rate for overfit\n",
    "metrics=[tf.keras.metrics.Precision(),\n",
    "         tf.keras.metrics.Recall()\n",
    "        ]\n",
    "if RESTORE_MODEL:\n",
    "    model = models.load_model(SAVE_DIR)\n",
    "else:  \n",
    "    model = model_function()\n",
    "    model.compile(optimizer='adam',\n",
    "            loss=focal_tversky_loss,\n",
    "            metrics=['accuracy'])\n",
    "    history = model.fit(X_train, y_train, epochs = NUM_EPOCHS ,validation_split=VALIDATION_SIZE)"
   ]
  },
  {
   "cell_type": "code",
   "execution_count": 9,
   "metadata": {
    "ExecuteTime": {
     "end_time": "2020-12-02T14:44:53.457930Z",
     "start_time": "2020-12-02T14:44:53.328157Z"
    },
    "colab": {
     "base_uri": "https://localhost:8080/"
    },
    "id": "fon8F-kTFwc5",
    "outputId": "85782f7b-4254-4fa3-8222-af7a391abd68"
   },
   "outputs": [],
   "source": [
    "if SAVE_MODEL:\n",
    "    model.save(SAVE_DIR)"
   ]
  },
  {
   "cell_type": "code",
   "execution_count": 10,
   "metadata": {
    "ExecuteTime": {
     "end_time": "2020-12-02T14:45:06.765918Z",
     "start_time": "2020-12-02T14:44:53.458810Z"
    }
   },
   "outputs": [],
   "source": [
    "with tf.device('/cpu:0'):\n",
    "    train_predictions = model.predict(X_train).squeeze()\n",
    "    test_predictions = model.predict(X_test).squeeze()"
   ]
  },
  {
   "cell_type": "code",
   "execution_count": 58,
   "metadata": {
    "ExecuteTime": {
     "end_time": "2020-12-02T15:20:15.528503Z",
     "start_time": "2020-12-02T15:20:15.137622Z"
    }
   },
   "outputs": [
    {
     "name": "stdout",
     "output_type": "stream",
     "text": [
      "Minimum and maximum prediction :  0.5259763 0.47147062\n",
      "Road ratio :  0.4970501\n"
     ]
    },
    {
     "data": {
      "image/png": "[encoded data removed]",
      "text/plain": [
       "<Figure size 432x288 with 1 Axes>"
      ]
     },
     "metadata": {
      "needs_background": "light"
     },
     "output_type": "display_data"
    }
   ],
   "source": [
    "visualize_random_predictions(X_train, y_train, train_predictions, size=10)"
   ]
  },
  {
   "cell_type": "code",
   "execution_count": null,
   "metadata": {},
   "outputs": [],
   "source": [
    "visualize_random_predictions(X_test, y_test, test_predictions, size=10)"
   ]
  },
  {
   "cell_type": "code",
   "execution_count": null,
   "metadata": {
    "ExecuteTime": {
     "end_time": "2020-12-02T14:45:07.625362Z",
     "start_time": "2020-12-02T14:44:47.715Z"
    }
   },
   "outputs": [],
   "source": [
    "if COLAB:\n",
    "    from helpers.colab import download_model\n",
    "    from google.colab import files\n",
    "    download_model(MODEL_NAME, SAVE_DIR, files)"
   ]
  }
 ],
 "metadata": {
  "accelerator": "GPU",
  "colab": {
   "name": "U-net.ipynb",
   "provenance": []
  },
  "kernelspec": {
   "display_name": "Python 3",
   "language": "python",
   "name": "python3"
  },
  "language_info": {
   "codemirror_mode": {
    "name": "ipython",
    "version": 3
   },
   "file_extension": ".py",
   "mimetype": "text/x-python",
   "name": "python",
   "nbconvert_exporter": "python",
   "pygments_lexer": "ipython3",
   "version": "3.7.1"
  },
  "toc": {
   "base_numbering": 1,
   "nav_menu": {},
   "number_sections": true,
   "sideBar": true,
   "skip_h1_title": false,
   "title_cell": "Table of Contents",
   "title_sidebar": "Contents",
   "toc_cell": false,
   "toc_position": {},
   "toc_section_display": true,
   "toc_window_display": false
  }
 },
 "nbformat": 4,
 "nbformat_minor": 4
}
