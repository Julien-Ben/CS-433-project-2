{
 "cells": [
  {
   "cell_type": "code",
   "execution_count": 1,
   "metadata": {
    "ExecuteTime": {
     "end_time": "2020-12-14T19:54:51.141619Z",
     "start_time": "2020-12-14T19:54:45.160035Z"
    },
    "id": "PzRKgXa8Fwc0"
   },
   "outputs": [
    {
     "name": "stderr",
     "output_type": "stream",
     "text": [
      "C:\\Users\\jbenh\\anaconda3\\envs\\tf-gpu2\\lib\\site-packages\\ipykernel\\parentpoller.py:113: UserWarning: Parent poll failed.  If the frontend dies,\n",
      "                the kernel may be left running.  Please let us know\n",
      "                about your system (bitness, Python, etc.) at\n",
      "                ipython-dev@scipy.org\n",
      "  warnings.warn(\"\"\"Parent poll failed.  If the frontend dies,\n"
     ]
    }
   ],
   "source": [
    "import os\n",
    "import sys\n",
    "import gzip\n",
    "import code\n",
    "import urllib\n",
    "import importlib\n",
    "import tensorflow.python.platform\n",
    "import tensorflow as tf\n",
    "import matplotlib.pyplot as plt\n",
    "import matplotlib.image as mpimg\n",
    "import numpy as np\n",
    "from tqdm import tqdm\n",
    "from PIL import Image\n",
    "from datetime import datetime"
   ]
  },
  {
   "cell_type": "code",
   "execution_count": 5,
   "metadata": {
    "ExecuteTime": {
     "end_time": "2020-12-14T19:54:54.241111Z",
     "start_time": "2020-12-14T19:54:54.235621Z"
    }
   },
   "outputs": [],
   "source": [
    "COLAB = False\n",
    "BRANCH = 'main'"
   ]
  },
  {
   "cell_type": "code",
   "execution_count": 6,
   "metadata": {
    "ExecuteTime": {
     "end_time": "2020-12-14T19:54:55.229859Z",
     "start_time": "2020-12-14T19:54:55.223639Z"
    },
    "colab": {
     "base_uri": "https://localhost:8080/"
    },
    "id": "FBdjGm_UPHP1",
    "outputId": "b6659e33-ec54-44f4-d404-d7c36f90d251"
   },
   "outputs": [],
   "source": [
    "if COLAB:\n",
    "    from google.colab import drive\n",
    "    drive.mount('/content/drive')\n",
    "    drive_path = '/content/drive/Shareddrives/ML_Road_Segmentation/CS-433-project-ben/project_road_segmentation'\n",
    "    os.chdir(drive_path)\n",
    "    from helpers.colab import mount_and_pull\n",
    "    BRANCH_NAME = BRANCH\n",
    "    mount_and_pull(BRANCH_NAME, drive, os)"
   ]
  },
  {
   "cell_type": "code",
   "execution_count": 7,
   "metadata": {
    "ExecuteTime": {
     "end_time": "2020-12-14T19:54:59.799751Z",
     "start_time": "2020-12-14T19:54:56.168136Z"
    },
    "id": "uMaqi7NPFwc1"
   },
   "outputs": [
    {
     "name": "stdout",
     "output_type": "stream",
     "text": [
      "The autoreload extension is already loaded. To reload it, use:\n",
      "  %reload_ext autoreload\n"
     ]
    }
   ],
   "source": [
    "%load_ext autoreload\n",
    "%autoreload 2\n",
    "\n",
    "from helpers.image_processing import *\n",
    "from helpers.file_manipulation import *\n",
    "from helpers.constants import *\n",
    "from helpers.prediction_checking import *\n",
    "from helpers.machine_learning import *\n",
    "from helpers.loss_functions import *\n",
    "from helpers.submission import *"
   ]
  },
  {
   "cell_type": "code",
   "execution_count": 30,
   "metadata": {
    "ExecuteTime": {
     "end_time": "2020-12-14T19:55:01.276253Z",
     "start_time": "2020-12-14T19:55:01.198132Z"
    }
   },
   "outputs": [],
   "source": [
    "RESTORE_MODEL = True  # If True, restore existing model instead of training a new one\n",
    "SAVE_MODEL = False\n",
    "GENERATE_PREDICTION = True  # If True, will generate a CSV to submit on AICrowd\n",
    "\n",
    "MODEL_NAME = 'unet_2'  # For now, cnn, unet-1, unet-2\n",
    "PATCH_PREDICTION = True # If using the CNN, set to True\n",
    "SAVE_DIR = MODELS_SAVE_DIR + MODEL_NAME + '/'\n",
    "\n",
    "NUM_EPOCHS = 250"
   ]
  },
  {
   "cell_type": "code",
   "execution_count": 6,
   "metadata": {
    "ExecuteTime": {
     "end_time": "2020-12-14T19:55:02.473797Z",
     "start_time": "2020-12-14T19:55:02.393613Z"
    }
   },
   "outputs": [],
   "source": [
    "mod = importlib.import_module('models.' + MODEL_NAME)\n",
    "model_function = getattr(mod, MODEL_NAME)"
   ]
  },
  {
   "cell_type": "code",
   "execution_count": 7,
   "metadata": {
    "ExecuteTime": {
     "end_time": "2020-12-14T20:07:56.137001Z",
     "start_time": "2020-12-14T20:07:40.473353Z"
    },
    "colab": {
     "base_uri": "https://localhost:8080/"
    },
    "id": "WyMhDusfFwc3",
    "outputId": "f65702a4-b2f3-4b7e-d52f-5dcf3a0b770b",
    "scrolled": true
   },
   "outputs": [
    {
     "name": "stderr",
     "output_type": "stream",
     "text": [
      "Loading data/training/images/: 100%|████████████████████████████████████████████████| 100/100 [00:00<00:00, 130.51it/s]\n",
      "Loading data/training/groundtruth/: 100%|███████████████████████████████████████████| 100/100 [00:00<00:00, 679.15it/s]\n",
      "Loading data/generated/mix/images/: 100%|███████████████████████████████████████████| 100/100 [00:00<00:00, 111.52it/s]\n",
      "Loading data/generated/mix/groundtruth/: 100%|██████████████████████████████████████| 100/100 [00:00<00:00, 269.12it/s]\n",
      "Loading data/generated/flip/images/: 100%|███████████████████████████████████████████| 100/100 [00:01<00:00, 88.88it/s]\n",
      "Loading data/generated/flip/groundtruth/: 100%|█████████████████████████████████████| 100/100 [00:00<00:00, 295.11it/s]\n",
      "Loading data/generated/rotation/images/: 100%|███████████████████████████████████████| 100/100 [00:01<00:00, 98.18it/s]\n",
      "Loading data/generated/rotation/groundtruth/: 100%|█████████████████████████████████| 100/100 [00:00<00:00, 259.06it/s]\n"
     ]
    },
    {
     "name": "stdout",
     "output_type": "stream",
     "text": [
      "Training features shape :  (400, 400, 400, 3)\n",
      "Training labels shape :  (400, 400, 400)\n"
     ]
    }
   ],
   "source": [
    "FEATURE_AUGMENTATION = 2\n",
    "X_train, y_train, X_test, y_test = get_train_test(data_augmentation=True,transformations=['mix','flip', 'rotation'])"
   ]
  },
  {
   "cell_type": "code",
   "execution_count": 8,
   "metadata": {
    "ExecuteTime": {
     "end_time": "2020-12-14T20:08:18.414014Z",
     "start_time": "2020-12-14T20:08:18.317005Z"
    }
   },
   "outputs": [],
   "source": [
    "if PATCH_PREDICTION:\n",
    "    from helpers.patch_labeling import *\n",
    "    old_y_train = y_train\n",
    "    old_y_test = y_test\n",
    "    y_train = label_to_patch_prediction(y_train)\n",
    "    y_test = label_to_patch_prediction(y_test)\n",
    "    print(y_train.shape)\n",
    "    print(y_test.shape)\n",
    "    visualize_patches(old_y_train, y_train, number=3, resize=False)"
   ]
  },
  {
   "cell_type": "code",
   "execution_count": 10,
   "metadata": {
    "ExecuteTime": {
     "end_time": "2020-12-14T20:08:32.405886Z",
     "start_time": "2020-12-14T20:08:29.089556Z"
    },
    "id": "cBE8XdxDFwc4"
   },
   "outputs": [],
   "source": [
    "metrics=[\n",
    "         tf.keras.metrics.Precision(),\n",
    "         tf.keras.metrics.Recall(),\n",
    "         dice_coef\n",
    "        ]\n",
    "callbacks = [\n",
    "            tf.keras.callbacks.EarlyStopping(monitor='val_loss', patience=10, verbose=1),\n",
    "            tf.keras.callbacks.ReduceLROnPlateau(monitor='val_loss', factor=0.5)\n",
    "            ]\n",
    "if RESTORE_MODEL:\n",
    "    model = tf.keras.models.load_model(SAVE_DIR, custom_objects={'focal_tversky_loss': focal_tversky_loss, 'dice_coef': dice_coef})\n",
    "else:  \n",
    "    model = model_function(feature_augmentation=FEATURE_AUGMENTATION+1)\n",
    "    model.compile(optimizer='adam',\n",
    "                loss=focal_tversky_loss,\n",
    "                metrics=metrics)\n",
    "    history = model.fit(X_train, y_train, \n",
    "                        epochs = NUM_EPOCHS,\n",
    "                        validation_split=0.2,\n",
    "                        callbacks=callbacks)"
   ]
  },
  {
   "cell_type": "code",
   "execution_count": null,
   "metadata": {
    "ExecuteTime": {
     "end_time": "2020-12-06T10:01:59.825777Z",
     "start_time": "2020-12-06T10:01:59.754271Z"
    },
    "colab": {
     "base_uri": "https://localhost:8080/"
    },
    "id": "fon8F-kTFwc5",
    "outputId": "85782f7b-4254-4fa3-8222-af7a391abd68"
   },
   "outputs": [],
   "source": [
    "if SAVE_MODEL:\n",
    "    now = datetime.now().strftime(\"%m-%d-%Y_%H-%M-%S\") + '/'\n",
    "    model.save(SAVE_DIR + new)"
   ]
  },
  {
   "cell_type": "code",
   "execution_count": null,
   "metadata": {
    "ExecuteTime": {
     "end_time": "2020-12-06T10:03:27.987673Z",
     "start_time": "2020-12-06T10:02:00.250256Z"
    }
   },
   "outputs": [],
   "source": [
    "train_predictions = model.predict(X_train).squeeze()\n",
    "test_predictions = model.predict(X_test).squeeze()"
   ]
  },
  {
   "cell_type": "code",
   "execution_count": null,
   "metadata": {
    "ExecuteTime": {
     "end_time": "2020-12-06T10:39:05.500669Z",
     "start_time": "2020-12-06T10:38:43.929516Z"
    },
    "scrolled": true
   },
   "outputs": [],
   "source": [
    "metrics = compute_entire_images_metrics(y_test, test_predictions)"
   ]
  },
  {
   "cell_type": "code",
   "execution_count": null,
   "metadata": {},
   "outputs": [],
   "source": [
    "metrics"
   ]
  },
  {
   "cell_type": "code",
   "execution_count": null,
   "metadata": {},
   "outputs": [],
   "source": [
    "if PATCH_PREDICTION:\n",
    "    train_predictions = resize_images(train_predictions, TRAINING_IMG_SIZE)\n",
    "    test_predictions = resize_images(test_predictions, TRAINING_IMG_SIZE)"
   ]
  },
  {
   "cell_type": "code",
   "execution_count": null,
   "metadata": {
    "ExecuteTime": {
     "end_time": "2020-12-06T10:09:55.466140Z",
     "start_time": "2020-12-06T10:09:47.730765Z"
    }
   },
   "outputs": [],
   "source": [
    "visualize_random_predictions(X_train, y_train, train_predictions, size=10)"
   ]
  },
  {
   "cell_type": "code",
   "execution_count": null,
   "metadata": {
    "ExecuteTime": {
     "end_time": "2020-12-06T10:10:48.198245Z",
     "start_time": "2020-12-06T10:10:40.853592Z"
    }
   },
   "outputs": [],
   "source": [
    "visualize_random_predictions(X_test, y_test, test_predictions, size=10)"
   ]
  },
  {
   "cell_type": "code",
   "execution_count": 32,
   "metadata": {},
   "outputs": [
    {
     "name": "stderr",
     "output_type": "stream",
     "text": [
      "Loading data/test_set_images/: 100%|███████████████████████████████████████████████████| 50/50 [00:00<00:00, 62.40it/s]\n"
     ]
    },
    {
     "name": "stdout",
     "output_type": "stream",
     "text": [
      "Predicting test images...\n",
      "Creating submission csv at location submissions/submission_12-15-2020_11-50-40.csv\n",
      "Writing predictions in folder data/predictions/\n"
     ]
    }
   ],
   "source": [
    "with tf.device('cpu'):\n",
    "    predict_submissions(model, patches_predicted=PATCH_PREDICTION)"
   ]
  },
  {
   "cell_type": "code",
   "execution_count": null,
   "metadata": {
    "ExecuteTime": {
     "end_time": "2020-12-02T14:45:07.625362Z",
     "start_time": "2020-12-02T14:44:47.715Z"
    }
   },
   "outputs": [],
   "source": [
    "if COLAB:\n",
    "    from helpers.colab import download_model\n",
    "    from google.colab import files\n",
    "    download_model(MODEL_NAME, SAVE_DIR, files)"
   ]
  },
  {
   "cell_type": "code",
   "execution_count": null,
   "metadata": {},
   "outputs": [],
   "source": []
  }
 ],
 "metadata": {
  "accelerator": "GPU",
  "colab": {
   "name": "U-net.ipynb",
   "provenance": []
  },
  "kernelspec": {
   "display_name": "Python [conda env:tf-gpu2]",
   "language": "python",
   "name": "conda-env-tf-gpu2-py"
  },
  "language_info": {
   "codemirror_mode": {
    "name": "ipython",
    "version": 3
   },
   "file_extension": ".py",
   "mimetype": "text/x-python",
   "name": "python",
   "nbconvert_exporter": "python",
   "pygments_lexer": "ipython3",
   "version": "3.8.5"
  },
  "toc": {
   "base_numbering": 1,
   "nav_menu": {},
   "number_sections": true,
   "sideBar": true,
   "skip_h1_title": false,
   "title_cell": "Table of Contents",
   "title_sidebar": "Contents",
   "toc_cell": false,
   "toc_position": {},
   "toc_section_display": true,
   "toc_window_display": false
  }
 },
 "nbformat": 4,
 "nbformat_minor": 4
}
